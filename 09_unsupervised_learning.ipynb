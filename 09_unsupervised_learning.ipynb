{
  "nbformat": 4,
  "nbformat_minor": 0,
  "metadata": {
    "colab": {
      "name": "09_unsupervised_learning",
      "private_outputs": true,
      "provenance": [],
      "authorship_tag": "ABX9TyOBUVYDL9dj6PHIXJu8tDfH"
    },
    "kernelspec": {
      "name": "python3",
      "display_name": "Python 3"
    },
    "language_info": {
      "name": "python"
    }
  },
  "cells": [
    {
      "cell_type": "code",
      "metadata": {
        "id": "Qo452LkBybso"
      },
      "source": [
        "# 파이썬 ≥3.5 필수\n",
        "import sys\n",
        "assert sys.version_info >= (3, 5)\n",
        "\n",
        "# 사이킷런 ≥0.20 필수\n",
        "import sklearn\n",
        "assert sklearn.__version__ >= \"0.20\"\n",
        "\n",
        "# 공통 모듈 임포트\n",
        "import numpy as np\n",
        "import os\n",
        "\n",
        "# 노트북 실행 결과를 동일하게 유지하기 위해\n",
        "np.random.seed(42)\n",
        "\n",
        "# 깔끔한 그래프 출력을 위해\n",
        "%matplotlib inline\n",
        "import matplotlib as mpl\n",
        "import matplotlib.pyplot as plt\n",
        "mpl.rc('axes', labelsize=14)\n",
        "mpl.rc('xtick', labelsize=12)\n",
        "mpl.rc('ytick', labelsize=12)\n",
        "\n",
        "# 그림을 저장할 위치\n",
        "PROJECT_ROOT_DIR = \".\"\n",
        "CHAPTER_ID = \"unsupervised_learning\"\n",
        "IMAGES_PATH = os.path.join(PROJECT_ROOT_DIR, \"images\", CHAPTER_ID)\n",
        "os.makedirs(IMAGES_PATH, exist_ok=True)\n",
        "\n",
        "def save_fig(fig_id, tight_layout=True, fig_extension=\"png\", resolution=300):\n",
        "    path = os.path.join(IMAGES_PATH, fig_id + \".\" + fig_extension)\n",
        "    print(\"그림 저장:\", fig_id)\n",
        "    if tight_layout:\n",
        "        plt.tight_layout()\n",
        "    plt.savefig(path, format=fig_extension, dpi=resolution)\n",
        "\n",
        "# 불필요한 경고를 무시합니다 (사이파이 이슈 #5998 참조)\n",
        "import warnings\n",
        "warnings.filterwarnings(action=\"ignore\", message=\"^internal gelsd\")"
      ],
      "execution_count": null,
      "outputs": []
    },
    {
      "cell_type": "markdown",
      "metadata": {
        "id": "ZR4hC7Uq8zAC"
      },
      "source": [
        "우리가 사용할 수 있는 데이터는 대부분 레이블이 없다.\n",
        "<br> 데이터에 레이블을 부여하기 위해서는 사람이 수동으로 처리해야하는데, 이는 매우 오래걸릴 뿐더러 비용이 많이 든다.\n",
        "<br> \n",
        "<br> 사람이 모든 사진에 레이블을 붙일 필요 없이,\n",
        "<br> **알고리즘이 레이블이 없는 데이터를 바로 사용하는 것이 비지도 학습(unsupervised machine learning)**이다."
      ]
    },
    {
      "cell_type": "markdown",
      "metadata": {
        "id": "NVfETGm0-BGb"
      },
      "source": [
        "비지도 학습 방법\n",
        "* 차원 축소(dimensionality reduction)\n",
        "* 군집(clustering)\n",
        "* 이상치 탐지(outlier detection)\n",
        "* 밀도 추정(density estimation)"
      ]
    },
    {
      "cell_type": "markdown",
      "metadata": {
        "id": "qnMWxu2M-dQf"
      },
      "source": [
        "#9.1 군집"
      ]
    },
    {
      "cell_type": "markdown",
      "metadata": {
        "id": "2mwRVtNP_Pgf"
      },
      "source": [
        "> 군집이란?\n",
        "<br>비슷한 샘플을 구별해 하나의 클러스터(cluster) 또는 비슷한 샘플의 그룹으로 할당하는 작업"
      ]
    },
    {
      "cell_type": "code",
      "metadata": {
        "id": "GREdTGqayuUE"
      },
      "source": [
        "from sklearn.datasets import load_iris"
      ],
      "execution_count": null,
      "outputs": []
    },
    {
      "cell_type": "code",
      "metadata": {
        "id": "SVrMwHN88xXm"
      },
      "source": [
        "data = load_iris()\n",
        "X = data.data\n",
        "print(X.shape)\n",
        "\n",
        "y = data.target\n",
        "print(y.shape)\n",
        "\n",
        "data.target_names"
      ],
      "execution_count": null,
      "outputs": []
    },
    {
      "cell_type": "markdown",
      "metadata": {
        "id": "pOpWeVxsDhcO"
      },
      "source": [
        "같은 데이터를 두고 레이블이 있을 때와 없을 때를 비교해보자."
      ]
    },
    {
      "cell_type": "code",
      "metadata": {
        "id": "EX3y-KG_AC0P"
      },
      "source": [
        "plt.figure(figsize=(9, 3.5))\n",
        "\n",
        "plt.subplot(121)    # plt.subplot(1,2,1)과 같은 뜻\n",
        "plt.plot(X[y==0, 2], X[y==0, 3], \"yo\", label=\"Iris setosa\")\n",
        "plt.plot(X[y==1, 2], X[y==1, 3], \"bs\", label=\"Iris versicolor\")\n",
        "plt.plot(X[y==2, 2], X[y==2, 3], \"g^\", label=\"Iris virginica\")\n",
        "plt.xlabel(\"Petal length\", fontsize=14)\n",
        "plt.ylabel(\"Petal width\", fontsize=14)\n",
        "plt.legend(fontsize=12)\n",
        "\n",
        "plt.subplot(122)\n",
        "plt.scatter(X[:, 2], X[:, 3], c=\"k\", marker=\".\")\n",
        "plt.xlabel(\"Petal length\", fontsize=14)\n",
        "plt.tick_params(labelleft=False)\n",
        "\n",
        "save_fig(\"classification_vs_clustering_plot\")\n",
        "plt.show()"
      ],
      "execution_count": null,
      "outputs": []
    },
    {
      "cell_type": "markdown",
      "metadata": {
        "id": "VeJmusmrCe52"
      },
      "source": [
        "분석\n",
        "<br> \n",
        "* 왼쪽 그림은 레이블이 된 데이터셋을 지도 학습 알고리즘으로 분류한 것이고\n",
        "* 오른쪽 그림은 레이블이 없는 데이터를 비지도 학습 알고리즘으로 군집화한 결과라고 할 수 있다."
      ]
    },
    {
      "cell_type": "markdown",
      "metadata": {
        "id": "NoE0XRmnGcKk"
      },
      "source": [
        "위에서는 특성 두개만을 가지고 분류, 군집화를 하였다.\n",
        "<br> 이번에는 가우시안 혼합 모델을 사용하여 모든 특성을 사용하여 분류, 군집화를 해보자."
      ]
    },
    {
      "cell_type": "code",
      "metadata": {
        "id": "tVYx5nxvGsFs"
      },
      "source": [
        "from sklearn.mixture import GaussianMixture"
      ],
      "execution_count": null,
      "outputs": []
    },
    {
      "cell_type": "code",
      "metadata": {
        "id": "JT822h06Gs4S"
      },
      "source": [
        "y_pred = GaussianMixture(n_components=3, random_state=42).fit(X).predict(X)\n",
        "mapping_index = [np.argmax(np.bincount(y_pred[n:n+50])) for n in range(0, 150, 50)]\n",
        "mapping = {mapping_index[i]:i for i in [0, 1, 2]}\n",
        "y_pred = np.array([mapping[cluster_id] for cluster_id in y_pred])"
      ],
      "execution_count": null,
      "outputs": []
    },
    {
      "cell_type": "code",
      "metadata": {
        "id": "PAAT1kojGtWA"
      },
      "source": [
        "plt.plot(X[y_pred==0, 2], X[y_pred==0, 3], \"yo\", label=\"Cluster 1(setora)\")\n",
        "plt.plot(X[y_pred==1, 2], X[y_pred==1, 3], \"bs\", label=\"Cluster 2(versicolor)\")\n",
        "plt.plot(X[y_pred==2, 2], X[y_pred==2, 3], \"g^\", label=\"Cluster 3(virginica)\")\n",
        "plt.xlabel(\"Petal length\", fontsize=14)\n",
        "plt.ylabel(\"Petal width\", fontsize=14)\n",
        "plt.legend(loc=\"upper left\", fontsize=12)\n",
        "plt.show()"
      ],
      "execution_count": null,
      "outputs": []
    },
    {
      "cell_type": "code",
      "metadata": {
        "id": "osSaCJagGtSr"
      },
      "source": [
        "np.sum(y_pred==y)"
      ],
      "execution_count": null,
      "outputs": []
    },
    {
      "cell_type": "code",
      "metadata": {
        "id": "zlf2d8wUNhg4"
      },
      "source": [
        "len(y_pred)"
      ],
      "execution_count": null,
      "outputs": []
    },
    {
      "cell_type": "code",
      "metadata": {
        "id": "fr3eAfSrKtkI"
      },
      "source": [
        "np.sum(y_pred==y) / len(y_pred)"
      ],
      "execution_count": null,
      "outputs": []
    },
    {
      "cell_type": "markdown",
      "metadata": {
        "id": "-RPtltTMHC5M"
      },
      "source": [
        "분석\n",
        "* 총 150개의 샘플 중에 145개를 올바르게 분류한 것을 알 수 있다.\n",
        "* 정확도가 97%로 매우 높다."
      ]
    },
    {
      "cell_type": "markdown",
      "metadata": {
        "id": "RxCm_kmAFZTN"
      },
      "source": [
        "군집이 사용되는 애플리케이션\n",
        "* 고객 분류 - 추천 시스템\n",
        "* 데이터 분석\n",
        "* 차원 축소 기법 - 각 클러스터에 대한 친화성(affinity) 측정\n",
        "* 이상치 탐지\n",
        "* 준지도 학습\n",
        "* 검색 엔진 - 이미지 찾기"
      ]
    },
    {
      "cell_type": "markdown",
      "metadata": {
        "id": "2TdH27AvF1gd"
      },
      "source": [
        "##9.1.1 k-평균"
      ]
    },
    {
      "cell_type": "markdown",
      "metadata": {
        "id": "aCcQ3w9zZtwi"
      },
      "source": [
        "> k-평균이란?<br>\n",
        "반복 몇 번으로 레이블이 없는 데이터셋을 빠르고 효율적으로 클러스터로 묶을 수 있는 간단한 알고리즘"
      ]
    },
    {
      "cell_type": "markdown",
      "metadata": {
        "id": "B3Znc413ZiIK"
      },
      "source": [
        "샘플 덩어리 다섯개로 이루어진 레이블이 없는 데이터 셋을 만들어보자."
      ]
    },
    {
      "cell_type": "code",
      "metadata": {
        "id": "I0_JhorJAELC"
      },
      "source": [
        "from sklearn.datasets import make_blobs"
      ],
      "execution_count": null,
      "outputs": []
    },
    {
      "cell_type": "code",
      "metadata": {
        "id": "oHmb52NnYUJh"
      },
      "source": [
        "blob_centers = np.array(\n",
        "    [[ 0.2,  2.3],\n",
        "     [-1.5 ,  2.3],\n",
        "     [-2.8,  1.8],\n",
        "     [-2.8,  2.8],\n",
        "     [-2.8,  1.3]])\n",
        "blob_std = np.array([0.4, 0.3, 0.1, 0.1, 0.1])"
      ],
      "execution_count": null,
      "outputs": []
    },
    {
      "cell_type": "code",
      "metadata": {
        "id": "5VhkY3-QYVpj"
      },
      "source": [
        "X, y = make_blobs(n_samples=2000, centers=blob_centers,\n",
        "                  cluster_std=blob_std, random_state=7)"
      ],
      "execution_count": null,
      "outputs": []
    },
    {
      "cell_type": "code",
      "metadata": {
        "id": "i4QVPG3BYYBy"
      },
      "source": [
        "def plot_clusters(X, y=None):\n",
        "    plt.scatter(X[:, 0], X[:, 1], c=y, s=1)\n",
        "    plt.xlabel(\"$x_1$\", fontsize=14)\n",
        "    plt.ylabel(\"$x_2$\", fontsize=14, rotation=0)"
      ],
      "execution_count": null,
      "outputs": []
    },
    {
      "cell_type": "code",
      "metadata": {
        "id": "K-Uz1XekY4HZ"
      },
      "source": [
        "plt.figure(figsize=(8, 4))\n",
        "plot_clusters(X)\n",
        "save_fig(\"blobs_plot\")\n",
        "plt.show()"
      ],
      "execution_count": null,
      "outputs": []
    },
    {
      "cell_type": "markdown",
      "metadata": {
        "id": "J-jNrR5GJEE-"
      },
      "source": [
        "이 데이터셋에 k-평균 알고리즘을 훈련해보자.\n",
        "<br> **각 클러스터의 중심을 찾고 가장 가까운 클러스터에 샘플을 할당**한다."
      ]
    },
    {
      "cell_type": "code",
      "metadata": {
        "id": "umV-WYf3Y5iy"
      },
      "source": [
        "from sklearn.cluster import KMeans\n",
        "\n",
        "k = 5   # 클러스트 개수 지정\n",
        "        # 각 샘플은 다섯 개의 클러스터 중 하나에 할당됨. \n",
        "kmeans = KMeans(n_clusters=k, random_state=42)\n",
        "y_pred = kmeans.fit_predict(X)"
      ],
      "execution_count": null,
      "outputs": []
    },
    {
      "cell_type": "code",
      "metadata": {
        "id": "LXwJtDLzJPB_"
      },
      "source": [
        "y_pred              # 예측 레이블"
      ],
      "execution_count": null,
      "outputs": []
    },
    {
      "cell_type": "code",
      "metadata": {
        "id": "DyzkmtJiNsaf"
      },
      "source": [
        "kmeans.labels_      # 실제 레이블"
      ],
      "execution_count": null,
      "outputs": []
    },
    {
      "cell_type": "markdown",
      "metadata": {
        "id": "5j133snIOOy0"
      },
      "source": [
        "※ kmeans.labels_는 각 데이터가 어떤 클래스에 속하는지 결과를 도출한다."
      ]
    },
    {
      "cell_type": "code",
      "metadata": {
        "id": "4C6gcgqmOuIa"
      },
      "source": [
        "y_pred==kmeans.labels_"
      ],
      "execution_count": null,
      "outputs": []
    },
    {
      "cell_type": "code",
      "metadata": {
        "id": "PjscQDsJJRiw"
      },
      "source": [
        "y_pred is kmeans.labels_      # 예측 레이블과 실제 레이블의 모든 원소의 값이 같음을 나타냄"
      ],
      "execution_count": null,
      "outputs": []
    },
    {
      "cell_type": "markdown",
      "metadata": {
        "id": "p0HUtFnGPlno"
      },
      "source": [
        "> 센트로이드(centroid)란?\n",
        "<br> 샘플들이 모인 곳의 중심 (i.e. 클러스터의 중심)"
      ]
    },
    {
      "cell_type": "code",
      "metadata": {
        "id": "bPUpqtowJeD7"
      },
      "source": [
        "kmeans.cluster_centers_     # 알고리즘이 찾은 센트로이드 다섯 개\n",
        "                            # 당연한거지만, 클러스트의 개수와 센트로이드의 개수는 같다."
      ],
      "execution_count": null,
      "outputs": []
    },
    {
      "cell_type": "code",
      "metadata": {
        "id": "fTA12-cnJhTc"
      },
      "source": [
        "# 새로운 샘플에 가장 가까운 센트로이드의 클러스터를 할당\n",
        "X_new = np.array([[0, 2], [3, 2], [-3, 3], [-3, 2.5]])\n",
        "kmeans.predict(X_new)"
      ],
      "execution_count": null,
      "outputs": []
    },
    {
      "cell_type": "markdown",
      "metadata": {
        "id": "7Ydgx1i9QadP"
      },
      "source": [
        "※ **센트로이드와 각 샘플들의 거리가 최소**인 센트로이드의 클러스터를 할당한다."
      ]
    },
    {
      "cell_type": "markdown",
      "metadata": {
        "id": "RTGXUZ59R2ku"
      },
      "source": [
        "클러스터의 결정 경계를 그려보자."
      ]
    },
    {
      "cell_type": "code",
      "metadata": {
        "id": "h47SEVMZJirt"
      },
      "source": [
        "# 클러스터의 결정 경계 그리기\n",
        "def plot_data(X):\n",
        "    plt.plot(X[:, 0], X[:, 1], 'k.', markersize=2)\n",
        "\n",
        "def plot_centroids(centroids, weights=None, circle_color='w', cross_color='k'):\n",
        "    if weights is not None:\n",
        "        centroids = centroids[weights > weights.max() / 10]\n",
        "    plt.scatter(centroids[:, 0], centroids[:, 1],\n",
        "                marker='o', s=30, linewidths=8,\n",
        "                color=circle_color, zorder=10, alpha=0.9)       # zorder => 레이어의 순서를 지정\n",
        "                                                                # 숫자가 클수록 가장 바깥쪽(가장 눈에 잘 보이는 위치)\n",
        "    plt.scatter(centroids[:, 0], centroids[:, 1],\n",
        "                marker='x', s=50, \n",
        "                color=cross_color, zorder=11, alpha=1)          # zorder가 더 크기 때문에 센트로이드 X 표시가 샘플 표시보다 위에 표시됨\n",
        "\n",
        "def plot_decision_boundaries(clusterer, X, resolution=1000, show_centroids=True,\n",
        "                             show_xlabels=True, show_ylabels=True):\n",
        "    mins = X.min(axis=1) - 0.1\n",
        "    maxs = X.max(axis=1) + 0.1      # 모든 샘플들이 그림에 잘 보이게 하기 위해서 y축 범위를 최소/최대값보다 0.1씩 작고/크게 만듦.\n",
        "    xx, yy = np.meshgrid(np.linspace(mins[0], maxs[0], resolution),     # resolution => # of samples to generate(min과 max 사이를 몇개로 쪼갤지 결정)\n",
        "                         np.linspace(mins[1], maxs[1], resolution))\n",
        "    Z = clusterer.predict(np.c_[xx.ravel(), yy.ravel()])\n",
        "    Z = Z.reshape(xx.shape)\n",
        "\n",
        "    plt.contourf(Z, extent=(mins[0], maxs[0], mins[1], maxs[1]),\n",
        "                cmap=\"Pastel2\")\n",
        "    plt.contour(Z, extent=(mins[0], maxs[0], mins[1], maxs[1]),\n",
        "                linewidths=1, colors='k')\n",
        "    plot_data(X)\n",
        "    if show_centroids:\n",
        "        plot_centroids(clusterer.cluster_centers_)\n",
        "\n",
        "    if show_xlabels:\n",
        "        plt.xlabel(\"$x_1$\", fontsize=14)\n",
        "    else:\n",
        "        plt.tick_params(labelbottom=False)\n",
        "    if show_ylabels:\n",
        "        plt.ylabel(\"$x_2$\", fontsize=14, rotation=0)\n",
        "    else:\n",
        "        plt.tick_params(labelleft=False)"
      ],
      "execution_count": null,
      "outputs": []
    },
    {
      "cell_type": "code",
      "metadata": {
        "id": "B5yCBoRCRyYC"
      },
      "source": [
        "plt.figure(figsize=(8, 4))\n",
        "plot_decision_boundaries(kmeans, X)\n",
        "save_fig(\"voronoi_plot\")\n",
        "plt.show()"
      ],
      "execution_count": null,
      "outputs": []
    },
    {
      "cell_type": "markdown",
      "metadata": {
        "id": "xSkxr45eR1zQ"
      },
      "source": [
        "클러스터의 결정 경계를 그리면 보로노이 다이어그램을 얻을 수 있다.\n",
        "> 보로노이 다이어그램(Voronoi tessellation)이란?\n",
        "<br> 평면을 특정 점까지의 거리가 가장 가까운 점의 집합으로 분할한 그림"
      ]
    },
    {
      "cell_type": "markdown",
      "metadata": {
        "id": "wAessUKNXoV-"
      },
      "source": [
        "k-평균 알고리즘은 샘플을 클러스터에 할당할 때 센트로이드까지의 거리를 고려하는게 전부이기 때문에, <br> 클러스터의 크기가 많이 다르면 잘 작동하지 않는다."
      ]
    },
    {
      "cell_type": "markdown",
      "metadata": {
        "id": "Ogmp-N4yYLR-"
      },
      "source": [
        "> 하드 군집(hard clustering) : 샘플을 하나의 클러스터에 할당하는 것\n",
        "<br> 소프트 군집(soft clustering) : 클러스터마다 샘플에 점수를 부여하는 것"
      ]
    },
    {
      "cell_type": "markdown",
      "metadata": {
        "id": "v_m7aCz7YsTU"
      },
      "source": [
        "KMeans 클래스의 transform() 메서드는 샘플과 각 센트로이드 사이의 거리를 반환한다."
      ]
    },
    {
      "cell_type": "code",
      "metadata": {
        "id": "OI6GA9T0R0a6"
      },
      "source": [
        "kmeans.transform(X_new)     # 샘플 4개와 센트로이드 5개의 각각의 거리를 모두 반환"
      ],
      "execution_count": null,
      "outputs": []
    },
    {
      "cell_type": "code",
      "metadata": {
        "id": "Sp7eqGPgZATD"
      },
      "source": [
        "np.linalg.norm(np.tile(X_new, (1, k)).reshape(-1, k, 2) - kmeans.cluster_centers_, axis=2)"
      ],
      "execution_count": null,
      "outputs": []
    },
    {
      "cell_type": "code",
      "metadata": {
        "id": "2i2bH8m-1vat"
      },
      "source": [
        "# 위의 tile() 함수를 알아보자\n",
        "a = np.array([0, 1, 2])\n",
        "b = np.tile(a, 2)      \n",
        "d = np.tile(a,(1,2))\n",
        "c = np.tile(a, (3, 2))\n",
        "\n",
        "print(b)\n",
        "print(d)\n",
        "print(c)"
      ],
      "execution_count": null,
      "outputs": []
    },
    {
      "cell_type": "markdown",
      "metadata": {
        "id": "-ChLzDq92F3R"
      },
      "source": [
        "np.tile(배열, 숫자) 함수는 array를 지정한 횟수만큼 반복한다.\n",
        "<br> ※ 숫자 자리에 1차원이 들어가면 1차원으로 반환되고, 2차원이 들어가면 2차원으로 반환된다."
      ]
    },
    {
      "cell_type": "markdown",
      "metadata": {
        "id": "r-6CJ3D66ll7"
      },
      "source": [
        "### k-평균 알고리즘"
      ]
    },
    {
      "cell_type": "code",
      "metadata": {
        "id": "EhEkSjQfZOu5"
      },
      "source": [
        ""
      ],
      "execution_count": null,
      "outputs": []
    }
  ]
}