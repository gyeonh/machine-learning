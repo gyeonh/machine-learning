{
  "nbformat": 4,
  "nbformat_minor": 0,
  "metadata": {
    "colab": {
      "name": "12_custom_models_and_training_with_tensorflow",
      "provenance": [],
      "authorship_tag": "ABX9TyPu9UkJgayGjBkPHUBlIqKM"
    },
    "kernelspec": {
      "name": "python3",
      "display_name": "Python 3"
    },
    "language_info": {
      "name": "python"
    }
  },
  "cells": [
    {
      "cell_type": "markdown",
      "metadata": {
        "id": "KWVZewYjCm4K"
      },
      "source": [
        "#12.1 텐서플로 훑어보기"
      ]
    },
    {
      "cell_type": "markdown",
      "metadata": {
        "id": "xRDZOWEcJ5gM"
      },
      "source": [
        "텐서플로(Tensorflow)\n",
        "* 하나의 라이브러리 그 이상임\n",
        "* 광범위한 라이브러리 생태계를 가짐"
      ]
    },
    {
      "cell_type": "code",
      "metadata": {
        "id": "En5D105PoFEw"
      },
      "source": [
        "# 파이썬 ≥3.5 필수\n",
        "import sys\n",
        "assert sys.version_info >= (3, 5)\n",
        "\n",
        "# 사이킷런 ≥0.20 필수\n",
        "import sklearn\n",
        "assert sklearn.__version__ >= \"0.20\"\n",
        "\n",
        "try:\n",
        "    # %tensorflow_version은 코랩 명령입니다.\n",
        "    %tensorflow_version 2.x\n",
        "except Exception:\n",
        "    pass\n",
        "\n",
        "# 텐서플로 ≥2.0 필수\n",
        "import tensorflow as tf\n",
        "from tensorflow import keras\n",
        "assert tf.__version__ >= \"2.0\"\n",
        "\n",
        "# 공통 모듈 임포트\n",
        "import numpy as np\n",
        "import os\n",
        "\n",
        "# 노트북 실행 결과를 동일하게 유지하기 위해\n",
        "np.random.seed(42)\n",
        "tf.random.set_seed(42)\n",
        "\n",
        "# 깔끔한 그래프 출력을 위해\n",
        "%matplotlib inline\n",
        "import matplotlib as mpl\n",
        "import matplotlib.pyplot as plt\n",
        "mpl.rc('axes', labelsize=14)\n",
        "mpl.rc('xtick', labelsize=12)\n",
        "mpl.rc('ytick', labelsize=12)\n",
        "\n",
        "# 그림을 저장할 위치\n",
        "PROJECT_ROOT_DIR = \".\"\n",
        "CHAPTER_ID = \"deep\"\n",
        "IMAGES_PATH = os.path.join(PROJECT_ROOT_DIR, \"images\", CHAPTER_ID)\n",
        "os.makedirs(IMAGES_PATH, exist_ok=True)\n",
        "\n",
        "def save_fig(fig_id, tight_layout=True, fig_extension=\"png\", resolution=300):\n",
        "    path = os.path.join(IMAGES_PATH, fig_id + \".\" + fig_extension)\n",
        "    print(\"그림 저장:\", fig_id)\n",
        "    if tight_layout:\n",
        "        plt.tight_layout()\n",
        "    plt.savefig(path, format=fig_extension, dpi=resolution)"
      ],
      "execution_count": 1,
      "outputs": []
    },
    {
      "cell_type": "markdown",
      "metadata": {
        "id": "4Et09DleKT9e"
      },
      "source": [
        "#12.2 넘파이처럼 텐서플로 사용하기"
      ]
    },
    {
      "cell_type": "markdown",
      "metadata": {
        "id": "E41PDei_KnX2"
      },
      "source": [
        "텐서플로 API는 텐서를 순환시킨다.\n",
        "\n",
        "<br>\n",
        "\n",
        "텐서\n",
        "* 한 연산에서 다른 연산으로 흐른다.\n",
        "* 넘파이 ndarray와 매우 비슷하다.\n",
        "* 일반적으로 다차원 배열이다.\n",
        "* 스칼라 값도 가질 수 있다."
      ]
    },
    {
      "cell_type": "markdown",
      "metadata": {
        "id": "rwEevxjaLio9"
      },
      "source": [
        "## 12.2.1 텐서와 연산"
      ]
    },
    {
      "cell_type": "markdown",
      "metadata": {
        "id": "_y3FNNeqO5sR"
      },
      "source": [
        "tf.constant() 함수로 텐서 생성\n"
      ]
    },
    {
      "cell_type": "code",
      "metadata": {
        "colab": {
          "base_uri": "https://localhost:8080/"
        },
        "id": "W_-wwCRfE_8F",
        "outputId": "f5cf64f2-5b5c-4c14-dc4f-d3acc849023d"
      },
      "source": [
        "tf.constant([[1., 2., 3.], [4., 5., 6.]]) # 행렬을 텐서로"
      ],
      "execution_count": 2,
      "outputs": [
        {
          "output_type": "execute_result",
          "data": {
            "text/plain": [
              "<tf.Tensor: shape=(2, 3), dtype=float32, numpy=\n",
              "array([[1., 2., 3.],\n",
              "       [4., 5., 6.]], dtype=float32)>"
            ]
          },
          "metadata": {},
          "execution_count": 2
        }
      ]
    },
    {
      "cell_type": "code",
      "metadata": {
        "colab": {
          "base_uri": "https://localhost:8080/"
        },
        "id": "9wYiivnbMynq",
        "outputId": "f2aa5deb-cf3e-4080-9265-e077abdcb895"
      },
      "source": [
        "tf.constant(42) # 스칼라"
      ],
      "execution_count": 3,
      "outputs": [
        {
          "output_type": "execute_result",
          "data": {
            "text/plain": [
              "<tf.Tensor: shape=(), dtype=int32, numpy=42>"
            ]
          },
          "metadata": {},
          "execution_count": 3
        }
      ]
    },
    {
      "cell_type": "markdown",
      "metadata": {
        "id": "8KRxVxYpO8q0"
      },
      "source": [
        "텐서의 크기와 데이터 타입 확인하기"
      ]
    },
    {
      "cell_type": "code",
      "metadata": {
        "colab": {
          "base_uri": "https://localhost:8080/"
        },
        "id": "Wbst8K2rOFxZ",
        "outputId": "9ea4d40f-c473-456d-b17e-0db400329252"
      },
      "source": [
        "t = tf.constant([[1., 2., 3.], [4., 5., 6.]])\n",
        "t.shape"
      ],
      "execution_count": 5,
      "outputs": [
        {
          "output_type": "execute_result",
          "data": {
            "text/plain": [
              "TensorShape([2, 3])"
            ]
          },
          "metadata": {},
          "execution_count": 5
        }
      ]
    },
    {
      "cell_type": "code",
      "metadata": {
        "colab": {
          "base_uri": "https://localhost:8080/"
        },
        "id": "zP-B6dmjOng_",
        "outputId": "d50ad38a-20ee-4ce2-82bb-d5013ebd9a08"
      },
      "source": [
        "t.dtype"
      ],
      "execution_count": 6,
      "outputs": [
        {
          "output_type": "execute_result",
          "data": {
            "text/plain": [
              "tf.float32"
            ]
          },
          "metadata": {},
          "execution_count": 6
        }
      ]
    },
    {
      "cell_type": "markdown",
      "metadata": {
        "id": "58P8jlqnPdw6"
      },
      "source": [
        "인덱스 참조하기(넘파이와 매우 비슷하게 작동함)"
      ]
    },
    {
      "cell_type": "code",
      "metadata": {
        "colab": {
          "base_uri": "https://localhost:8080/"
        },
        "id": "f_iCjr2xOw5r",
        "outputId": "2d6b6c51-4632-4482-9162-4e12b8752308"
      },
      "source": [
        "t[:, 1:]    # 모든 행, 0열 제외 모든 열"
      ],
      "execution_count": 7,
      "outputs": [
        {
          "output_type": "execute_result",
          "data": {
            "text/plain": [
              "<tf.Tensor: shape=(2, 2), dtype=float32, numpy=\n",
              "array([[2., 3.],\n",
              "       [5., 6.]], dtype=float32)>"
            ]
          },
          "metadata": {},
          "execution_count": 7
        }
      ]
    },
    {
      "cell_type": "code",
      "metadata": {
        "colab": {
          "base_uri": "https://localhost:8080/"
        },
        "id": "be9IuM60PyeR",
        "outputId": "262df128-51d1-428e-99f2-b6c42f3ddc9f"
      },
      "source": [
        "t[..., 1, tf.newaxis]   # 모든 행, 1열"
      ],
      "execution_count": 8,
      "outputs": [
        {
          "output_type": "execute_result",
          "data": {
            "text/plain": [
              "<tf.Tensor: shape=(2, 1), dtype=float32, numpy=\n",
              "array([[2.],\n",
              "       [5.]], dtype=float32)>"
            ]
          },
          "metadata": {},
          "execution_count": 8
        }
      ]
    },
    {
      "cell_type": "markdown",
      "metadata": {
        "id": "L8cqAgycS1JQ"
      },
      "source": [
        " 텐서플로는 모든 종류의 텐서 연산이 가능하다"
      ]
    },
    {
      "cell_type": "code",
      "metadata": {
        "colab": {
          "base_uri": "https://localhost:8080/"
        },
        "id": "4crhTkheQDow",
        "outputId": "9e1a4bc0-7cb3-4c69-84c9-0d80bc390a23"
      },
      "source": [
        "t + 10      # 모든 원소에 10 더하기"
      ],
      "execution_count": 9,
      "outputs": [
        {
          "output_type": "execute_result",
          "data": {
            "text/plain": [
              "<tf.Tensor: shape=(2, 3), dtype=float32, numpy=\n",
              "array([[11., 12., 13.],\n",
              "       [14., 15., 16.]], dtype=float32)>"
            ]
          },
          "metadata": {},
          "execution_count": 9
        }
      ]
    },
    {
      "cell_type": "code",
      "metadata": {
        "colab": {
          "base_uri": "https://localhost:8080/"
        },
        "id": "kjtXLRxTS_M-",
        "outputId": "383d58c6-14db-413d-8e92-64e9e17512c7"
      },
      "source": [
        "tf.square(t)    # 모든 원소를 제곱"
      ],
      "execution_count": 10,
      "outputs": [
        {
          "output_type": "execute_result",
          "data": {
            "text/plain": [
              "<tf.Tensor: shape=(2, 3), dtype=float32, numpy=\n",
              "array([[ 1.,  4.,  9.],\n",
              "       [16., 25., 36.]], dtype=float32)>"
            ]
          },
          "metadata": {},
          "execution_count": 10
        }
      ]
    },
    {
      "cell_type": "code",
      "metadata": {
        "colab": {
          "base_uri": "https://localhost:8080/"
        },
        "id": "yYso1KYSTCet",
        "outputId": "26df2530-907a-409d-9c9f-e0d1990c5033"
      },
      "source": [
        "t @ tf.transpose(t)     # @ = tf.matmul() : 행렬의 곱 연산"
      ],
      "execution_count": 11,
      "outputs": [
        {
          "output_type": "execute_result",
          "data": {
            "text/plain": [
              "<tf.Tensor: shape=(2, 2), dtype=float32, numpy=\n",
              "array([[14., 32.],\n",
              "       [32., 77.]], dtype=float32)>"
            ]
          },
          "metadata": {},
          "execution_count": 11
        }
      ]
    },
    {
      "cell_type": "markdown",
      "metadata": {
        "id": "kiieA23YdhQ-"
      },
      "source": [
        "케라스 API는 keras.backend에 자체적인 저수준 API를 가지고 있다. \n",
        "\n",
        "tf.keras에서 exp(), sqrt() 같은 함수들은 보통 상응하는 텐서플로 연산을 호출하는 것이 전부이다. 다른 케라스 구현에 적용할 수 있는 코드를 짜고 싶다면 케라스 함수를 사용해야한다. 하지만 케라스 저수준 함수는 텐서플로에서 제공하는 함수의 일부만 지원하기 때문에 <br>이 책에서는 텐서플로 연산을 직접 사용하도록 한다."
      ]
    },
    {
      "cell_type": "code",
      "metadata": {
        "colab": {
          "base_uri": "https://localhost:8080/"
        },
        "id": "EdehtbN2cGCO",
        "outputId": "c1fd4323-1627-4305-a9c9-61174aa44163"
      },
      "source": [
        "# keras.backend를 사용하는 간단한 예\n",
        "from tensorflow import keras\n",
        "K = keras.backend\n",
        "K.square(K.transpose(t)) + 10"
      ],
      "execution_count": 12,
      "outputs": [
        {
          "output_type": "execute_result",
          "data": {
            "text/plain": [
              "<tf.Tensor: shape=(3, 2), dtype=float32, numpy=\n",
              "array([[11., 26.],\n",
              "       [14., 35.],\n",
              "       [19., 46.]], dtype=float32)>"
            ]
          },
          "metadata": {},
          "execution_count": 12
        }
      ]
    },
    {
      "cell_type": "markdown",
      "metadata": {
        "id": "TIXMR9lYfEOz"
      },
      "source": [
        "##12.2.2 텐서와 넘파이"
      ]
    },
    {
      "cell_type": "markdown",
      "metadata": {
        "id": "LxnXZOM5nIW6"
      },
      "source": [
        "텐서와 넘파이는 함께 사용하기 좋다. 넘파이 배열로 텐서를 만들거나 넘파이 연산을 텐서에 적용할 수 있고, 그 반대도 가능하다."
      ]
    },
    {
      "cell_type": "code",
      "metadata": {
        "colab": {
          "base_uri": "https://localhost:8080/"
        },
        "id": "Mws_mV9_fIvl",
        "outputId": "90561cd0-0a78-46e3-f87c-8b0e4b94c647"
      },
      "source": [
        "a = np.array([2., 4., 5.])   # 넘파이 배열\n",
        "tf. constant(a)     # 넘파이 배열을 텐서로"
      ],
      "execution_count": 13,
      "outputs": [
        {
          "output_type": "execute_result",
          "data": {
            "text/plain": [
              "<tf.Tensor: shape=(3,), dtype=float64, numpy=array([2., 4., 5.])>"
            ]
          },
          "metadata": {},
          "execution_count": 13
        }
      ]
    },
    {
      "cell_type": "code",
      "metadata": {
        "colab": {
          "base_uri": "https://localhost:8080/"
        },
        "id": "BDwbX6lgn6jg",
        "outputId": "f3095500-88af-42ec-e717-0134f688134d"
      },
      "source": [
        "t.numpy()   # 텐서를 넘파이 배열로"
      ],
      "execution_count": 14,
      "outputs": [
        {
          "output_type": "execute_result",
          "data": {
            "text/plain": [
              "array([[1., 2., 3.],\n",
              "       [4., 5., 6.]], dtype=float32)"
            ]
          },
          "metadata": {},
          "execution_count": 14
        }
      ]
    },
    {
      "cell_type": "code",
      "metadata": {
        "colab": {
          "base_uri": "https://localhost:8080/"
        },
        "id": "F9mDrP0DzAwe",
        "outputId": "8e876cda-6bf8-4084-e366-f2357383ee8e"
      },
      "source": [
        "tf.square(a)    # 텐서 연산을 넘파이 배열에 적용"
      ],
      "execution_count": 17,
      "outputs": [
        {
          "output_type": "execute_result",
          "data": {
            "text/plain": [
              "<tf.Tensor: shape=(3,), dtype=float64, numpy=array([ 4., 16., 25.])>"
            ]
          },
          "metadata": {},
          "execution_count": 17
        }
      ]
    },
    {
      "cell_type": "code",
      "metadata": {
        "colab": {
          "base_uri": "https://localhost:8080/"
        },
        "id": "tAX2Bg8kzjSE",
        "outputId": "f1910a20-d8df-4d92-e686-7179af2739ac"
      },
      "source": [
        "np.square(t)    # 넘파이 연산을 텐서에 적용"
      ],
      "execution_count": 18,
      "outputs": [
        {
          "output_type": "execute_result",
          "data": {
            "text/plain": [
              "array([[ 1.,  4.,  9.],\n",
              "       [16., 25., 36.]], dtype=float32)"
            ]
          },
          "metadata": {},
          "execution_count": 18
        }
      ]
    },
    {
      "cell_type": "code",
      "metadata": {
        "id": "CLDC5q7Ezp4J"
      },
      "source": [
        ""
      ],
      "execution_count": null,
      "outputs": []
    }
  ]
}