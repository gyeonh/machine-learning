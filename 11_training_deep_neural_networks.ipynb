{
  "nbformat": 4,
  "nbformat_minor": 0,
  "metadata": {
    "colab": {
      "name": "11_training_deep_neural_networks",
      "provenance": [],
      "collapsed_sections": [],
      "authorship_tag": "ABX9TyPcK+24dK+A3WXo8tvckfFo"
    },
    "kernelspec": {
      "name": "python3",
      "display_name": "Python 3"
    },
    "language_info": {
      "name": "python"
    }
  },
  "cells": [
    {
      "cell_type": "markdown",
      "metadata": {
        "id": "iLachSUcRbZN"
      },
      "source": [
        "10장에서는 몇 개의 은닉층만으로 이루어진 얕은(shallow) 심층 신경망을 훈련했다.<br> 고해상도 이미지에서 수백 종류의 물체를 감지하는 것처럼 복잡한 문제를 다루려면,<br> 여러개의 층을 수십만 개의 가중치로 연결해 훨씬 더 깊은 심층 신경망을 훈련해야 할 것이다. => 매우 복잡"
      ]
    },
    {
      "cell_type": "markdown",
      "metadata": {
        "id": "qp1sL1cOTN9R"
      },
      "source": [
        "훈련 중에 마주칠 수 있는 문제\n",
        "* 그레이디언트 소실 또는 그레이디언트 폭주 문제\n",
        "* 훈련 데이터가 충분하지 않거나 레이블 만드는 작업에 드는 비용↑\n",
        "* 훈련 속도↓↓↓↓\n",
        "* 훈련 세트에 과대적합될 위험↑"
      ]
    },
    {
      "cell_type": "markdown",
      "metadata": {
        "id": "1WXlVJCBUPsj"
      },
      "source": [
        "11장에서는 위의 문제들을 살펴보고 해결 방법에 대해 알아볼 것이다."
      ]
    },
    {
      "cell_type": "markdown",
      "metadata": {
        "id": "XTWrwdelUYdu"
      },
      "source": [
        "#11.1 그레이디언트 소실과 폭주 문제"
      ]
    },
    {
      "cell_type": "markdown",
      "metadata": {
        "id": "ZYh3fSlzbMnp"
      },
      "source": [
        "역전파 알고리즘을 이용해서 가중치들을 업데이트 하는데 이때 그레이디언트의 크기가 점점 커지거나 작아지는 경우가 있다.\n",
        "* 그레이디언트 소실(vanishing gradient)\n",
        "<br> : 그레이디언트 크기↓ => 그레이디언트=0 => 하위층 가중치 갱신 불가\n",
        "* 그레이디언트 폭주(exploding gradient)\n",
        "<br> 그레이디언트의 크기↑ => 큰 가중치로 갱신 => 알고리즘 발산"
      ]
    },
    {
      "cell_type": "markdown",
      "metadata": {
        "id": "aOpy0xtrci05"
      },
      "source": [
        "불안정한 그레이디언트는 층마다 학습 속도를 다르게 만들어 심층 신경망 훈련을 어렵게 만들기 때문에 꼭 해결할 필요가 있다."
      ]
    },
    {
      "cell_type": "code",
      "metadata": {
        "id": "vAahM-zhROt_"
      },
      "source": [
        "# 파이썬 ≥3.5 필수\n",
        "import sys\n",
        "assert sys.version_info >= (3, 5)\n",
        "\n",
        "# 사이킷런 ≥0.20 필수\n",
        "import sklearn\n",
        "assert sklearn.__version__ >= \"0.20\"\n",
        "\n",
        "# 텐서플로 ≥2.0 필수\n",
        "import tensorflow as tf\n",
        "from tensorflow import keras\n",
        "assert tf.__version__ >= \"2.0\"\n",
        "\n",
        "%load_ext tensorboard\n",
        "\n",
        "# 공통 모듈 임포트\n",
        "import numpy as np\n",
        "import os\n",
        "\n",
        "# 노트북 실행 결과를 동일하게 유지하기 위해\n",
        "np.random.seed(42)\n",
        "\n",
        "# 깔끔한 그래프 출력을 위해\n",
        "%matplotlib inline\n",
        "import matplotlib as mpl\n",
        "import matplotlib.pyplot as plt\n",
        "mpl.rc('axes', labelsize=14)\n",
        "mpl.rc('xtick', labelsize=12)\n",
        "mpl.rc('ytick', labelsize=12)\n",
        "\n",
        "# 그림을 저장할 위치\n",
        "PROJECT_ROOT_DIR = \".\"\n",
        "CHAPTER_ID = \"deep\"\n",
        "IMAGES_PATH = os.path.join(PROJECT_ROOT_DIR, \"images\", CHAPTER_ID)\n",
        "os.makedirs(IMAGES_PATH, exist_ok=True)\n",
        "\n",
        "def save_fig(fig_id, tight_layout=True, fig_extension=\"png\", resolution=300):\n",
        "    path = os.path.join(IMAGES_PATH, fig_id + \".\" + fig_extension)\n",
        "    print(\"그림 저장:\", fig_id)\n",
        "    if tight_layout:\n",
        "        plt.tight_layout()\n",
        "    plt.savefig(path, format=fig_extension, dpi=resolution)"
      ],
      "execution_count": null,
      "outputs": []
    },
    {
      "cell_type": "code",
      "metadata": {
        "id": "NNZPD3GtSFsY"
      },
      "source": [
        "# 로지스틱 활성화 함수 그리기(= sigmoid 함수)\n",
        "def logit(z):\n",
        "    return 1 / (1 + np.exp(-z))\n",
        "\n",
        "def dv_logit(z):\n",
        "    return logit(z) * (1-logit(z))"
      ],
      "execution_count": null,
      "outputs": []
    },
    {
      "cell_type": "code",
      "metadata": {
        "id": "7pQwU9HkfX1I",
        "colab": {
          "base_uri": "https://localhost:8080/",
          "height": 315
        },
        "outputId": "a9ac9ba6-09c7-4292-b7db-bbeb7ec1e7bd"
      },
      "source": [
        "z = np.linspace(-5, 5, 200)\n",
        "\n",
        "plt.plot([-5, 5], [0, 0], 'k-')\n",
        "plt.plot([-5, 5], [1, 1], 'k--')\n",
        "plt.plot([0, 0], [-0.2, 1.2], 'k-')\n",
        "plt.plot([-5, 5], [-3/4, 7/4], 'g--')\n",
        "plt.plot(z, logit(z), \"b-\", linewidth=2)\n",
        "plt.plot(z, dv_logit(z), \"r-\", linewidth=2)\n",
        "props = dict(facecolor='black', shrink=0.1)\n",
        "plt.annotate('Saturating', xytext=(3.5, 0.7), xy=(5, 1), arrowprops=props, fontsize=14, ha=\"center\")\n",
        "plt.annotate('Saturating', xytext=(-3.5, 0.3), xy=(-5, 0), arrowprops=props, fontsize=14, ha=\"center\")\n",
        "plt.annotate('Linear', xytext=(2, 0.2), xy=(0, 0.5), arrowprops=props, fontsize=14, ha=\"center\")\n",
        "plt.grid(True)\n",
        "plt.title(\"Sigmoid activation function\", fontsize=14)\n",
        "plt.axis([-5, 5, -0.2, 1.2])\n",
        "\n",
        "save_fig(\"sigmoid_saturation_plot\")\n",
        "plt.show()"
      ],
      "execution_count": null,
      "outputs": [
        {
          "output_type": "stream",
          "name": "stdout",
          "text": [
            "그림 저장: sigmoid_saturation_plot\n"
          ]
        },
        {
          "output_type": "display_data",
          "data": {
            "image/png": "[encoded data removed]",
            "text/plain": [
              "<Figure size 432x288 with 1 Axes>"
            ]
          },
          "metadata": {
            "needs_background": "light"
          }
        }
      ]
    },
    {
      "cell_type": "markdown",
      "metadata": {
        "id": "sLWeqRIOgUiP"
      },
      "source": [
        "위의 그래프를 보면, 입력값이 양수/음수로 커지면 0이나 1로 수렴하여 기울기가 0에 가까워지는 것을 볼 수 있다.<br> 그래서 역전파를 수행할 때 그레이디언트의 값이 계속해서 줄어들어 아랫층에는 전달될 그레이디언트가 없어지게 된다."
      ]
    },
    {
      "cell_type": "markdown",
      "metadata": {
        "id": "btf8UbafhOtl"
      },
      "source": [
        "* sigmoid\n",
        "<br>$\\sigma(x) = \\frac{1}{1 + e^{x}}$\n",
        "\n",
        "* sigmoid 미분\n",
        "<br>$\\sigma'(x) = \\sigma(1-\\sigma)$"
      ]
    },
    {
      "cell_type": "markdown",
      "metadata": {
        "id": "OxfD_gLRig6C"
      },
      "source": [
        "역전파를 할때 sigmoid 미분 값이 계속해서 곱해지게 되는데 sigmoid 미분 수식을 보면 1보다 작은 값이 계속해서 곱해진다. <br>즉, 그레이디언트 값이 0에 가까워짐을 알 수 있다."
      ]
    },
    {
      "cell_type": "markdown",
      "metadata": {
        "id": "Fkg71aXejTsi"
      },
      "source": [
        "##11.1.1 글로럿과 He 초기화"
      ]
    },
    {
      "cell_type": "markdown",
      "metadata": {
        "id": "qFA57T71kbtP"
      },
      "source": [
        "적절한 신호가 흐르기 위해서, 즉, 그레이디언트가 소실되거나 폭주하지 않기 위해서는, \n",
        "1. 각 층의 출력에 대한 분산 = 입력에 대한 분산\n",
        "2. 역방향에서, 층을 통과하기 전 그레이디언트 분산 = 후의 그레이디언트 분산\n",
        "\n",
        "이를 보장하기 위해서는 fan-in = fan-out 조건을 만족해야하는데\n",
        "> fan-in : input layer의 뉴런 개수\n",
        "<br> fan-out : output layer의 뉴런 개수\n",
        "\n",
        "글로럿과 벤지오라는 사람이 입증된 대안을 제안하였다."
      ]
    },
    {
      "cell_type": "markdown",
      "metadata": {
        "id": "4jvTnZ-FqNTc"
      },
      "source": [
        "인공 신경망 학습에서, 같은 모델을 훈련시켜도 가중치의 초기값에 따라 모델의 훈련 결과가 달라지기도 한다.\n",
        "<br> 가중치 초기화 방법인 글로럿 초기화, 세이비어 초기화, 크룬 초기화, He 초기화에 대해 알아보자."
      ]
    },
    {
      "cell_type": "markdown",
      "metadata": {
        "id": "Ymza8yk0pdw3"
      },
      "source": [
        "* 글로럿 초기화(Glorot initialization) / 세이비어 초기화(Xavier initialization)\n",
        "<br> 평균이 0이고 분산이 $\\sigma^2 = \\frac{2}{fan_{in} + fan_{out}}$ 인 **정규분포**\n",
        "<br> 또는 $(-\\frac{6}{fan_{in} + fan_{out}}, +\\frac{6}{fan_{in} + fan_{out}})$ 사이의 **균등분포**"
      ]
    },
    {
      "cell_type": "markdown",
      "metadata": {
        "id": "lxJ-bBAysRbE"
      },
      "source": [
        "이 방법은 균등분포로 초기화 할 것이냐 아니면 정규분포로 초기화 할 것이냐 두가지 경우로 나뉜다.\n",
        "* 균등분포는 미래 결과값이 경험적으로 알 수 없을 상황에서 사용\n",
        "* 정규분포는 과거의 축적된 경험을 가지고 미래에 발생할 결과값을 어느정도 추정할 수 있을 때 사용\n",
        "\n",
        "이전 층의 뉴런 개수와 다음 층의 뉴런 개수로 식을 세우며, **세워진 식 범위 내에서 랜덤하게 가중치를 초기화** 한다."
      ]
    },
    {
      "cell_type": "markdown",
      "metadata": {
        "id": "8ND6e4mfywWL"
      },
      "source": [
        "세이비어/글로럿 초기화 방법은 여러층의 그레이디언트 분산 사이에 균형을 맞춰서 특정 층이 너무 주목을 받거나 다른층이 뒤쳐지는 것을 막는다. => 훈련 속도를 높일 수 있다.<br>\n",
        "S자 형태의 활성화 함수(sigmoid, tanh)와 함께 사용할 때는 좋은 성능을 보이나,\n",
        "<br> ReLU와 사용할 때는 성능이 좋지 않다고 한다.(ReLU는 He 초기화 방법 사용)"
      ]
    },
    {
      "cell_type": "markdown",
      "metadata": {
        "id": "wS4LyxpXzYQE"
      },
      "source": [
        "* 르쿤 초기화(LeCun initialization)\n",
        "<br> 평균이 0이고 분산이 $\\sigma^2 = \\frac{1}{fan_{in}}$인 정규분포\n",
        "<br> 또는 $(-\\frac{3}{fan_{in}}, + \\frac{3}{fan_{in}})$ 사이의 균등분포\n",
        "> $fan_{in} = fan_{out}$이면 르쿤 초기화는 글로럿 초기화와 동일"
      ]
    },
    {
      "cell_type": "markdown",
      "metadata": {
        "id": "JuK5rAaD219c"
      },
      "source": [
        "르쿤 초기화 방법은 SELU 함수에 사용해야한다고 한다."
      ]
    },
    {
      "cell_type": "code",
      "metadata": {
        "id": "ZcLc_u6WfmtU",
        "colab": {
          "base_uri": "https://localhost:8080/"
        },
        "outputId": "d43771dd-ab6c-42be-fac6-96ca91d9b4e5"
      },
      "source": [
        "#케라스 initializer 목록\n",
        "[name for name in dir(keras.initializers) if not name.startswith(\"_\")]"
      ],
      "execution_count": null,
      "outputs": [
        {
          "output_type": "execute_result",
          "data": {
            "text/plain": [
              "['Constant',\n",
              " 'GlorotNormal',\n",
              " 'GlorotUniform',\n",
              " 'HeNormal',\n",
              " 'HeUniform',\n",
              " 'Identity',\n",
              " 'Initializer',\n",
              " 'LecunNormal',\n",
              " 'LecunUniform',\n",
              " 'Ones',\n",
              " 'Orthogonal',\n",
              " 'RandomNormal',\n",
              " 'RandomUniform',\n",
              " 'TruncatedNormal',\n",
              " 'VarianceScaling',\n",
              " 'Zeros',\n",
              " 'constant',\n",
              " 'deserialize',\n",
              " 'get',\n",
              " 'glorot_normal',\n",
              " 'glorot_uniform',\n",
              " 'he_normal',\n",
              " 'he_uniform',\n",
              " 'identity',\n",
              " 'lecun_normal',\n",
              " 'lecun_uniform',\n",
              " 'ones',\n",
              " 'orthogonal',\n",
              " 'random_normal',\n",
              " 'random_uniform',\n",
              " 'serialize',\n",
              " 'truncated_normal',\n",
              " 'variance_scaling',\n",
              " 'zeros']"
            ]
          },
          "metadata": {},
          "execution_count": 4
        }
      ]
    },
    {
      "cell_type": "code",
      "metadata": {
        "id": "fRoE_jRCj30k",
        "colab": {
          "base_uri": "https://localhost:8080/"
        },
        "outputId": "02e500de-2a46-469e-90ac-757cf0e698aa"
      },
      "source": [
        "# 케라스는 기본적으로 glorot_uniform 초기화 사용\n",
        "keras.layers.Dense(10, activation=\"relu\", kernel_initializer=\"he_normal\")       # activiation : 내가 쓸 활성화 함수\n",
        "                                                                                # kernel_initializer : 초기화 방법_정규 또는 균등"
      ],
      "execution_count": null,
      "outputs": [
        {
          "output_type": "execute_result",
          "data": {
            "text/plain": [
              "<keras.layers.core.Dense at 0x7feb291ccb10>"
            ]
          },
          "metadata": {},
          "execution_count": 5
        }
      ]
    },
    {
      "cell_type": "code",
      "metadata": {
        "id": "lcUWk-Ztj5fh",
        "colab": {
          "base_uri": "https://localhost:8080/"
        },
        "outputId": "cd7837c2-e168-47b2-9563-25e069cce105"
      },
      "source": [
        "# fan_in 대신 fan_out 기반의 균등분포 He 초기화를 사용하고 싶으면\n",
        "init = keras.initializers.VarianceScaling(scale=2., mode='fan_avg',     # mode 기본값 = \"fan_in\"\n",
        "                                          distribution='uniform')\n",
        "keras.layers.Dense(10, activation=\"relu\", kernel_initializer=init)"
      ],
      "execution_count": null,
      "outputs": [
        {
          "output_type": "execute_result",
          "data": {
            "text/plain": [
              "<keras.layers.core.Dense at 0x7feb2914a4d0>"
            ]
          },
          "metadata": {},
          "execution_count": 6
        }
      ]
    },
    {
      "cell_type": "markdown",
      "metadata": {
        "id": "JdCdDbXq5Zu9"
      },
      "source": [
        "##11.1.2 수렴하지 않는 활성화 함수"
      ]
    },
    {
      "cell_type": "markdown",
      "metadata": {
        "id": "9zcgCgNO6nDA"
      },
      "source": [
        "ReLU 함수는 특정 양숫값에 수렴하지 않는다는 장점이 있는 반면, <br>훈련 세트의 모든 샘플에 대해 가중치 합이 음수가 되면 뉴런이 죽는다는 단점이 있다.\n",
        "\n",
        "<br>이 단점을 보안하기 위해 ReLU 함수의 변종을 사용한다.\n",
        "* LeakyReLU 함수\n",
        "<br> LeakyReLU$_{\\alpha}(z) = $max$(\\alpha z,z)$\n",
        "> 하이퍼파라미터 $\\alpha$\n",
        "<br> : $z<0$ 일 때 함수의 기울기(default=0.01)\n",
        "<br> : 음수일 때 기울기를 가지게 하여 함수의 기울기가 절대 0이 되지 않게 만들어준다.\n",
        "\n",
        "※ LeakyReLU 함수의 성능 > ReLU 함수의 성능"
      ]
    },
    {
      "cell_type": "markdown",
      "metadata": {
        "id": "iqWwn4RgCw_C"
      },
      "source": [
        "* RReLU(randomized leaky ReLU) 함수\n",
        "<br> 학습 시 균일 분포에서 $\\alpha$값이 무작위로 샘플링 된\n",
        "후 테스트에서는 평균을 사용\n",
        "\n",
        "* PReLU(parametric leaky ReLU) 함수\n",
        "<br> 다른 ReLU 변종 함수들과는 달리 $\\alpha$는 스스로 학습하여 값을 조정하는 내부 파라미터이다."
      ]
    },
    {
      "cell_type": "code",
      "metadata": {
        "id": "nf-5Vu_Dj7CL"
      },
      "source": [
        "# LeakyReLU 함수 그리기\n",
        "def leaky_relu(z, alpha=0.01):\n",
        "    return np.maximum(alpha*z, z)"
      ],
      "execution_count": null,
      "outputs": []
    },
    {
      "cell_type": "code",
      "metadata": {
        "id": "_Afh15269EqH",
        "colab": {
          "base_uri": "https://localhost:8080/",
          "height": 315
        },
        "outputId": "f41a9e38-88fd-4e3d-a10f-a9bc0eddf4df"
      },
      "source": [
        "plt.plot(z, leaky_relu(z, 0.05), \"r-\", linewidth=2.5)\n",
        "plt.plot(z, leaky_relu(z, 0.1), \"b-\", linewidth=2)\n",
        "plt.plot([-5, 5], [0, 0], 'k-')\n",
        "plt.plot([0, 0], [-0.5, 4.2], 'k-')\n",
        "plt.grid(True)\n",
        "props = dict(facecolor='black', shrink=0.1)\n",
        "plt.annotate('Leak', xytext=(-3.5, 0.5), xy=(-5, -0.2), arrowprops=props, fontsize=14, ha=\"center\")\n",
        "plt.title(\"Leaky ReLU activation function\", fontsize=14)\n",
        "plt.axis([-5, 5, -0.5, 4.2])\n",
        "\n",
        "save_fig(\"leaky_relu_plot\")\n",
        "plt.show()"
      ],
      "execution_count": null,
      "outputs": [
        {
          "output_type": "stream",
          "name": "stdout",
          "text": [
            "그림 저장: leaky_relu_plot\n"
          ]
        },
        {
          "output_type": "display_data",
          "data": {
            "image/png": "[encoded data removed]",
            "text/plain": [
              "<Figure size 432x288 with 1 Axes>"
            ]
          },
          "metadata": {
            "needs_background": "light"
          }
        }
      ]
    },
    {
      "cell_type": "code",
      "metadata": {
        "id": "OI12B0bH9GK8",
        "colab": {
          "base_uri": "https://localhost:8080/"
        },
        "outputId": "6b4845a5-364e-43ae-d818-097f748e5414"
      },
      "source": [
        "# 케라스 활성화 함수 목록\n",
        "[m for m in dir(keras.activations) if not m.startswith(\"_\")]"
      ],
      "execution_count": null,
      "outputs": [
        {
          "output_type": "execute_result",
          "data": {
            "text/plain": [
              "['deserialize',\n",
              " 'elu',\n",
              " 'exponential',\n",
              " 'gelu',\n",
              " 'get',\n",
              " 'hard_sigmoid',\n",
              " 'linear',\n",
              " 'relu',\n",
              " 'selu',\n",
              " 'serialize',\n",
              " 'sigmoid',\n",
              " 'softmax',\n",
              " 'softplus',\n",
              " 'softsign',\n",
              " 'swish',\n",
              " 'tanh']"
            ]
          },
          "metadata": {},
          "execution_count": 9
        }
      ]
    },
    {
      "cell_type": "code",
      "metadata": {
        "id": "70YJyhH2-dv8",
        "colab": {
          "base_uri": "https://localhost:8080/"
        },
        "outputId": "fe497793-ab7f-4aad-96b1-f89b861abbb0"
      },
      "source": [
        "# ReLU 함수와 변종 함수 목록\n",
        "[m for m in dir(keras.layers) if \"relu\" in m.lower()]"
      ],
      "execution_count": null,
      "outputs": [
        {
          "output_type": "execute_result",
          "data": {
            "text/plain": [
              "['LeakyReLU', 'PReLU', 'ReLU', 'ThresholdedReLU']"
            ]
          },
          "metadata": {},
          "execution_count": 10
        }
      ]
    },
    {
      "cell_type": "markdown",
      "metadata": {
        "id": "djDrMco2-oES"
      },
      "source": [
        "LeakyReLU를 사용해 패션 MNIST에서 신경망을 훈련해보자."
      ]
    },
    {
      "cell_type": "code",
      "metadata": {
        "id": "tot_vXld-hol",
        "colab": {
          "base_uri": "https://localhost:8080/"
        },
        "outputId": "bfffad59-d744-42ba-c070-e4f891397b21"
      },
      "source": [
        "# MNIST 데이터셋 불러와서 train, test, valid set 나누기\n",
        "(X_train_full, y_train_full), (X_test, y_test) = keras.datasets.fashion_mnist.load_data()\n",
        "X_train_full = X_train_full / 255.0\n",
        "X_test = X_test / 255.0\n",
        "X_valid, X_train = X_train_full[:5000], X_train_full[5000:]\n",
        "y_valid, y_train = y_train_full[:5000], y_train_full[5000:]"
      ],
      "execution_count": null,
      "outputs": [
        {
          "output_type": "stream",
          "name": "stdout",
          "text": [
            "Downloading data from https://storage.googleapis.com/tensorflow/tf-keras-datasets/train-labels-idx1-ubyte.gz\n",
            "32768/29515 [=================================] - 0s 0us/step\n",
            "40960/29515 [=========================================] - 0s 0us/step\n",
            "Downloading data from https://storage.googleapis.com/tensorflow/tf-keras-datasets/train-images-idx3-ubyte.gz\n",
            "26427392/26421880 [==============================] - 0s 0us/step\n",
            "26435584/26421880 [==============================] - 0s 0us/step\n",
            "Downloading data from https://storage.googleapis.com/tensorflow/tf-keras-datasets/t10k-labels-idx1-ubyte.gz\n",
            "16384/5148 [===============================================================================================] - 0s 0us/step\n",
            "Downloading data from https://storage.googleapis.com/tensorflow/tf-keras-datasets/t10k-images-idx3-ubyte.gz\n",
            "4423680/4422102 [==============================] - 0s 0us/step\n",
            "4431872/4422102 [==============================] - 0s 0us/step\n"
          ]
        }
      ]
    },
    {
      "cell_type": "code",
      "metadata": {
        "id": "TknIrley-r9U"
      },
      "source": [
        "tf.random.set_seed(42)\n",
        "np.random.seed(42)\n",
        "\n",
        "# LeakyReLU 알파값이 0.01\n",
        "model1 = keras.models.Sequential([       # input_layer: 784, hidden_layer1: 300, hidden_layer2: 100, output_layer: 10 인 신경망\n",
        "    keras.layers.Flatten(input_shape=[28, 28]),\n",
        "    keras.layers.Dense(300, kernel_initializer=\"he_normal\"),    # 300(units) : 출력값의 크기 # 정규분포 he 초기화 사용\n",
        "    keras.layers.LeakyReLU(alpha=0.01),\n",
        "    keras.layers.Dense(100, kernel_initializer=\"he_normal\"),\n",
        "    keras.layers.LeakyReLU(alpha=0.01),\n",
        "    keras.layers.Dense(10, activation=\"softmax\")\n",
        "])\n",
        "\n",
        "# LeakyReLU 알파값이 0.2\n",
        "model2 = keras.models.Sequential([       \n",
        "    keras.layers.Flatten(input_shape=[28, 28]),\n",
        "    keras.layers.Dense(300, kernel_initializer=\"he_normal\"),    # 300(units) : 출력값의 크기 # 정규분포 he 초기화 사용\n",
        "    keras.layers.LeakyReLU(alpha=0.2),\n",
        "    keras.layers.Dense(100, kernel_initializer=\"he_normal\"),\n",
        "    keras.layers.LeakyReLU(alpha=0.2),\n",
        "    keras.layers.Dense(10, activation=\"softmax\")\n",
        "])"
      ],
      "execution_count": null,
      "outputs": []
    },
    {
      "cell_type": "code",
      "metadata": {
        "id": "9Zdz7A1p-tzu",
        "colab": {
          "base_uri": "https://localhost:8080/"
        },
        "outputId": "e42ef86e-1236-4398-cf63-23cff891565e"
      },
      "source": [
        "model1.compile(loss=\"sparse_categorical_crossentropy\",\n",
        "              optimizer=keras.optimizers.SGD(lr=1e-3),\n",
        "              metrics=[\"accuracy\"])\n",
        "model2.compile(loss=\"sparse_categorical_crossentropy\",\n",
        "              optimizer=keras.optimizers.SGD(lr=1e-3),\n",
        "              metrics=[\"accuracy\"])"
      ],
      "execution_count": null,
      "outputs": [
        {
          "output_type": "stream",
          "name": "stderr",
          "text": [
            "/usr/local/lib/python3.7/dist-packages/keras/optimizer_v2/optimizer_v2.py:356: UserWarning: The `lr` argument is deprecated, use `learning_rate` instead.\n",
            "  \"The `lr` argument is deprecated, use `learning_rate` instead.\")\n"
          ]
        }
      ]
    },
    {
      "cell_type": "code",
      "metadata": {
        "id": "7iBr_4tf-vcv",
        "colab": {
          "base_uri": "https://localhost:8080/"
        },
        "outputId": "fc87d5f5-bd08-47b8-ab48-208c48d3970a"
      },
      "source": [
        "history1 = model1.fit(X_train, y_train, epochs=10,\n",
        "                    validation_data=(X_valid, y_valid))\n",
        "print(\"------------------------------------------------------------\")\n",
        "history2 = model2.fit(X_train, y_train, epochs=10,\n",
        "                    validation_data=(X_valid, y_valid))"
      ],
      "execution_count": null,
      "outputs": [
        {
          "output_type": "stream",
          "name": "stdout",
          "text": [
            "Epoch 1/10\n",
            "1719/1719 [==============================] - 6s 3ms/step - loss: 1.3462 - accuracy: 0.6204 - val_loss: 0.9251 - val_accuracy: 0.7176\n",
            "Epoch 2/10\n",
            "1719/1719 [==============================] - 5s 3ms/step - loss: 0.8195 - accuracy: 0.7354 - val_loss: 0.7300 - val_accuracy: 0.7624\n",
            "Epoch 3/10\n",
            "1719/1719 [==============================] - 5s 3ms/step - loss: 0.6961 - accuracy: 0.7695 - val_loss: 0.6557 - val_accuracy: 0.7878\n",
            "Epoch 4/10\n",
            "1719/1719 [==============================] - 6s 3ms/step - loss: 0.6325 - accuracy: 0.7907 - val_loss: 0.5997 - val_accuracy: 0.8048\n",
            "Epoch 5/10\n",
            "1719/1719 [==============================] - 5s 3ms/step - loss: 0.5912 - accuracy: 0.8053 - val_loss: 0.5651 - val_accuracy: 0.8184\n",
            "Epoch 6/10\n",
            "1719/1719 [==============================] - 5s 3ms/step - loss: 0.5614 - accuracy: 0.8138 - val_loss: 0.5402 - val_accuracy: 0.8236\n",
            "Epoch 7/10\n",
            "1719/1719 [==============================] - 5s 3ms/step - loss: 0.5387 - accuracy: 0.8206 - val_loss: 0.5194 - val_accuracy: 0.8314\n",
            "Epoch 8/10\n",
            "1719/1719 [==============================] - 5s 3ms/step - loss: 0.5211 - accuracy: 0.8258 - val_loss: 0.5113 - val_accuracy: 0.8310\n",
            "Epoch 9/10\n",
            "1719/1719 [==============================] - 5s 3ms/step - loss: 0.5070 - accuracy: 0.8289 - val_loss: 0.4918 - val_accuracy: 0.8378\n",
            "Epoch 10/10\n",
            "1719/1719 [==============================] - 5s 3ms/step - loss: 0.4946 - accuracy: 0.8320 - val_loss: 0.4829 - val_accuracy: 0.8408\n",
            "------------------------------------------------------------\n",
            "Epoch 1/10\n",
            "1719/1719 [==============================] - 6s 3ms/step - loss: 1.3005 - accuracy: 0.6135 - val_loss: 0.8799 - val_accuracy: 0.7222\n",
            "Epoch 2/10\n",
            "1719/1719 [==============================] - 6s 4ms/step - loss: 0.7947 - accuracy: 0.7427 - val_loss: 0.7038 - val_accuracy: 0.7734\n",
            "Epoch 3/10\n",
            "1719/1719 [==============================] - 5s 3ms/step - loss: 0.6796 - accuracy: 0.7773 - val_loss: 0.6359 - val_accuracy: 0.7948\n",
            "Epoch 4/10\n",
            "1719/1719 [==============================] - 6s 3ms/step - loss: 0.6203 - accuracy: 0.7958 - val_loss: 0.5839 - val_accuracy: 0.8116\n",
            "Epoch 5/10\n",
            "1719/1719 [==============================] - 6s 3ms/step - loss: 0.5824 - accuracy: 0.8080 - val_loss: 0.5535 - val_accuracy: 0.8198\n",
            "Epoch 6/10\n",
            "1719/1719 [==============================] - 6s 3ms/step - loss: 0.5552 - accuracy: 0.8156 - val_loss: 0.5313 - val_accuracy: 0.8286\n",
            "Epoch 7/10\n",
            "1719/1719 [==============================] - 6s 3ms/step - loss: 0.5346 - accuracy: 0.8202 - val_loss: 0.5125 - val_accuracy: 0.8326\n",
            "Epoch 8/10\n",
            "1719/1719 [==============================] - 6s 3ms/step - loss: 0.5185 - accuracy: 0.8248 - val_loss: 0.5052 - val_accuracy: 0.8340\n",
            "Epoch 9/10\n",
            "1719/1719 [==============================] - 6s 4ms/step - loss: 0.5055 - accuracy: 0.8278 - val_loss: 0.4885 - val_accuracy: 0.8402\n",
            "Epoch 10/10\n",
            "1719/1719 [==============================] - 6s 3ms/step - loss: 0.4942 - accuracy: 0.8313 - val_loss: 0.4808 - val_accuracy: 0.8418\n"
          ]
        }
      ]
    },
    {
      "cell_type": "markdown",
      "metadata": {
        "id": "sqxU7c4gEVva"
      },
      "source": [
        "결론\n",
        "<br> $\\alpha=0.2$ 일 때와 $\\alpha=0.01$ 일 때의 결과를 비교해봤을 때, $\\alpha$값이 적당히 더 클 때 성능이 \"조금\" 더 좋은것으로 보인다."
      ]
    },
    {
      "cell_type": "markdown",
      "metadata": {
        "id": "Qg6ANCPP-3tj"
      },
      "source": [
        "PReLU를 사용해서 훈련시켜보자."
      ]
    },
    {
      "cell_type": "code",
      "metadata": {
        "id": "xXZfU8Dt-xFB"
      },
      "source": [
        "tf.random.set_seed(42)\n",
        "np.random.seed(42)\n",
        "\n",
        "model1 = keras.models.Sequential([\n",
        "    keras.layers.Flatten(input_shape=[28, 28]),\n",
        "    keras.layers.Dense(300, kernel_initializer=\"he_normal\"),\n",
        "    keras.layers.PReLU(),\n",
        "    keras.layers.Dense(100, kernel_initializer=\"he_normal\"),\n",
        "    keras.layers.PReLU(),\n",
        "    keras.layers.Dense(10, activation=\"softmax\")\n",
        "])\n",
        "model2 = keras.models.Sequential([\n",
        "    keras.layers.Flatten(input_shape=[28, 28]),\n",
        "    keras.layers.Dense(300, kernel_initializer=\"he_normal\"),\n",
        "    keras.layers.ReLU(),\n",
        "    keras.layers.Dense(100, kernel_initializer=\"he_normal\"),\n",
        "    keras.layers.ReLU(),\n",
        "    keras.layers.Dense(10, activation=\"softmax\")\n",
        "])"
      ],
      "execution_count": null,
      "outputs": []
    },
    {
      "cell_type": "code",
      "metadata": {
        "id": "eKTTk3SV--H9",
        "colab": {
          "base_uri": "https://localhost:8080/"
        },
        "outputId": "132cd354-e506-49b3-8c8a-f776b43527c6"
      },
      "source": [
        "model1.compile(loss=\"sparse_categorical_crossentropy\",\n",
        "              optimizer=keras.optimizers.SGD(lr=1e-3),\n",
        "              metrics=[\"accuracy\"])\n",
        "model2.compile(loss=\"sparse_categorical_crossentropy\",\n",
        "              optimizer=keras.optimizers.SGD(lr=1e-3),\n",
        "              metrics=[\"accuracy\"])"
      ],
      "execution_count": null,
      "outputs": [
        {
          "output_type": "stream",
          "name": "stderr",
          "text": [
            "/usr/local/lib/python3.7/dist-packages/keras/optimizer_v2/optimizer_v2.py:356: UserWarning: The `lr` argument is deprecated, use `learning_rate` instead.\n",
            "  \"The `lr` argument is deprecated, use `learning_rate` instead.\")\n"
          ]
        }
      ]
    },
    {
      "cell_type": "code",
      "metadata": {
        "id": "CqJMYH2I-_mb",
        "colab": {
          "base_uri": "https://localhost:8080/"
        },
        "outputId": "31a7eccd-763a-41e7-e1a9-a2b738ba50d3"
      },
      "source": [
        "history1 = model1.fit(X_train, y_train, epochs=10,\n",
        "                    validation_data=(X_valid, y_valid))\n",
        "history2 = model2.fit(X_train, y_train, epochs=10,\n",
        "                    validation_data=(X_valid, y_valid))"
      ],
      "execution_count": null,
      "outputs": [
        {
          "output_type": "stream",
          "name": "stdout",
          "text": [
            "Epoch 1/10\n",
            "1719/1719 [==============================] - 6s 3ms/step - loss: 1.3461 - accuracy: 0.6209 - val_loss: 0.9255 - val_accuracy: 0.7186\n",
            "Epoch 2/10\n",
            "1719/1719 [==============================] - 6s 4ms/step - loss: 0.8197 - accuracy: 0.7355 - val_loss: 0.7305 - val_accuracy: 0.7628\n",
            "Epoch 3/10\n",
            "1719/1719 [==============================] - 6s 3ms/step - loss: 0.6966 - accuracy: 0.7694 - val_loss: 0.6565 - val_accuracy: 0.7878\n",
            "Epoch 4/10\n",
            "1719/1719 [==============================] - 6s 3ms/step - loss: 0.6331 - accuracy: 0.7909 - val_loss: 0.6004 - val_accuracy: 0.8046\n",
            "Epoch 5/10\n",
            "1719/1719 [==============================] - 6s 3ms/step - loss: 0.5917 - accuracy: 0.8057 - val_loss: 0.5656 - val_accuracy: 0.8180\n",
            "Epoch 6/10\n",
            "1719/1719 [==============================] - 6s 3ms/step - loss: 0.5618 - accuracy: 0.8135 - val_loss: 0.5406 - val_accuracy: 0.8240\n",
            "Epoch 7/10\n",
            "1719/1719 [==============================] - 6s 3ms/step - loss: 0.5390 - accuracy: 0.8206 - val_loss: 0.5196 - val_accuracy: 0.8312\n",
            "Epoch 8/10\n",
            "1719/1719 [==============================] - 6s 3ms/step - loss: 0.5213 - accuracy: 0.8257 - val_loss: 0.5113 - val_accuracy: 0.8318\n",
            "Epoch 9/10\n",
            "1719/1719 [==============================] - 6s 3ms/step - loss: 0.5070 - accuracy: 0.8288 - val_loss: 0.4916 - val_accuracy: 0.8380\n",
            "Epoch 10/10\n",
            "1719/1719 [==============================] - 6s 3ms/step - loss: 0.4945 - accuracy: 0.8315 - val_loss: 0.4826 - val_accuracy: 0.8398\n",
            "Epoch 1/10\n",
            "1719/1719 [==============================] - 6s 3ms/step - loss: 1.3345 - accuracy: 0.6134 - val_loss: 0.8956 - val_accuracy: 0.7190\n",
            "Epoch 2/10\n",
            "1719/1719 [==============================] - 5s 3ms/step - loss: 0.8051 - accuracy: 0.7412 - val_loss: 0.7106 - val_accuracy: 0.7742\n",
            "Epoch 3/10\n",
            "1719/1719 [==============================] - 5s 3ms/step - loss: 0.6851 - accuracy: 0.7771 - val_loss: 0.6406 - val_accuracy: 0.7964\n",
            "Epoch 4/10\n",
            "1719/1719 [==============================] - 6s 3ms/step - loss: 0.6239 - accuracy: 0.7941 - val_loss: 0.5861 - val_accuracy: 0.8120\n",
            "Epoch 5/10\n",
            "1719/1719 [==============================] - 6s 3ms/step - loss: 0.5848 - accuracy: 0.8072 - val_loss: 0.5544 - val_accuracy: 0.8192\n",
            "Epoch 6/10\n",
            "1719/1719 [==============================] - 6s 3ms/step - loss: 0.5568 - accuracy: 0.8146 - val_loss: 0.5316 - val_accuracy: 0.8244\n",
            "Epoch 7/10\n",
            "1719/1719 [==============================] - 6s 3ms/step - loss: 0.5353 - accuracy: 0.8204 - val_loss: 0.5124 - val_accuracy: 0.8320\n",
            "Epoch 8/10\n",
            "1719/1719 [==============================] - 6s 3ms/step - loss: 0.5187 - accuracy: 0.8245 - val_loss: 0.5046 - val_accuracy: 0.8348\n",
            "Epoch 9/10\n",
            "1719/1719 [==============================] - 6s 4ms/step - loss: 0.5052 - accuracy: 0.8282 - val_loss: 0.4871 - val_accuracy: 0.8394\n",
            "Epoch 10/10\n",
            "1719/1719 [==============================] - 6s 3ms/step - loss: 0.4936 - accuracy: 0.8313 - val_loss: 0.4793 - val_accuracy: 0.8404\n"
          ]
        }
      ]
    },
    {
      "cell_type": "markdown",
      "metadata": {
        "id": "1CTNifZ-Gqie"
      },
      "source": [
        "* ELU(exponential linear unit) 함수\n",
        "<br> ELU$_{\\alpha}(z) = \n",
        "\\begin{cases} \\alpha(e^{z}-1) \\text{ if z < 0}\\\\\n",
        "z \\text{ if z} \\geq{0}\\\\\n",
        "\\end{cases}$\n",
        "\n",
        "<br> $z<0$일 때 음수값이 들어오기 때문에 활성화 함수의 평균 출력이 0에 더 가까워진다.\n",
        "<br> $z<0$이여도 기울기가 0이 아니므로 죽은 뉴런을 만들지 않는다.\n",
        "<br> 모든 구간에서 매끄러워 경사하강법의 속도를 높여준다.\n",
        "<br> 다른 ReLU 변종 함수들보다 성능이 더 높다는 장점이 있지만 계산 속도가 느리다는 단점이 있다.\n"
      ]
    },
    {
      "cell_type": "code",
      "metadata": {
        "id": "U_ydpKlM_BCZ"
      },
      "source": [
        "# ELU함수 그리기\n",
        "def elu(z, alpha=1):\n",
        "    return np.where(z < 0, alpha * (np.exp(z) - 1), z)"
      ],
      "execution_count": null,
      "outputs": []
    },
    {
      "cell_type": "code",
      "metadata": {
        "id": "Q0yJ4BcKHm3P",
        "colab": {
          "base_uri": "https://localhost:8080/",
          "height": 315
        },
        "outputId": "4346ac7d-b93c-4f0e-fe1b-ff7c80b26c60"
      },
      "source": [
        "plt.plot(z, elu(z), \"b-\", linewidth=2)\n",
        "plt.plot([-5, 5], [0, 0], 'k-')\n",
        "plt.plot([-5, 5], [-1, -1], 'k--')\n",
        "plt.plot([0, 0], [-2.2, 3.2], 'k-')\n",
        "plt.grid(True)\n",
        "plt.title(r\"ELU activation function ($\\alpha=1$)\", fontsize=14)\n",
        "plt.axis([-5, 5, -2.2, 3.2])\n",
        "\n",
        "save_fig(\"elu_plot\")\n",
        "plt.show()\n",
        "\n",
        "# keras.layers.Dense(10, activation=\"elu\") 사용 가능"
      ],
      "execution_count": null,
      "outputs": [
        {
          "output_type": "stream",
          "name": "stdout",
          "text": [
            "그림 저장: elu_plot\n"
          ]
        },
        {
          "output_type": "display_data",
          "data": {
            "image/png": "[encoded data removed]",
            "text/plain": [
              "<Figure size 432x288 with 1 Axes>"
            ]
          },
          "metadata": {
            "needs_background": "light"
          }
        }
      ]
    },
    {
      "cell_type": "markdown",
      "metadata": {
        "id": "x1aIYQASKe2B"
      },
      "source": [
        "* SELU 함수(scaled ELU)<br>\n",
        "SELU$_{\\alpha}(z) = \n",
        "\\begin{cases} \\lambda(\\alpha(e^{z}-1)) \\text{ if z < 0}\\\\\n",
        "\\lambda z \\text{ if z} \\geq{0}\\\\\n",
        "\\end{cases}$\n",
        "<br> 스케일이 조정된 ELU 활성화 함수의 변종이다.\n",
        "<br> 훈련하는 동안 각 층의 출력이 평균 0, 표준편차 1을 유지하는 경향이 있어 그레이디언트 소실/폭주를 막는다.\n",
        "<br> 특정 조건하에 자기 정규화(self-normalize)된다.\n",
        "> 자기 정규화 조건\n",
        "> 1. 입력 특성이 반드시 표준화(평균0, 표준편차1)되어야 함\n",
        "> 2. 모든 은닉층의 가중치가 르쿤 정규분포 초기화로 초기화되어야 함\n",
        "> 3. 네트워크가 일렬로 쌓은 층으로 구성되어야 함."
      ]
    },
    {
      "cell_type": "code",
      "metadata": {
        "id": "EV9ipQpyHoKA"
      },
      "source": [
        "from scipy.special import erfc      # erfc : 상보 오차 함수(1-erf)\n",
        "\n",
        "# alpha와 scale은 평균 0과 표준 편차 1로 자기 정규화합니다(식은 논문 참조)\n",
        "alpha_0_1 = -np.sqrt(2 / np.pi) / (erfc(1/np.sqrt(2)) * np.exp(1/2) - 1)\n",
        "scale_0_1 = (1 - erfc(1 / np.sqrt(2)) * np.sqrt(np.e)) * np.sqrt(2 * np.pi) * (2 * erfc(np.sqrt(2))*np.e**2 + np.pi*erfc(1/np.sqrt(2))**2*np.e - 2*(2+np.pi)*erfc(1/np.sqrt(2))*np.sqrt(np.e)+np.pi+2)**(-1/2)"
      ],
      "execution_count": null,
      "outputs": []
    },
    {
      "cell_type": "code",
      "metadata": {
        "id": "xPkMHPLvKbg9"
      },
      "source": [
        "def selu(z, scale=scale_0_1, alpha=alpha_0_1):\n",
        "    return scale * elu(z, alpha)"
      ],
      "execution_count": null,
      "outputs": []
    },
    {
      "cell_type": "code",
      "metadata": {
        "id": "p_WQSR1gKbzO",
        "colab": {
          "base_uri": "https://localhost:8080/",
          "height": 315
        },
        "outputId": "f3a61efc-bcd1-4c8c-e5f9-8d654a016172"
      },
      "source": [
        "plt.plot(z, selu(z), \"b-\", linewidth=2)\n",
        "plt.plot([-5, 5], [0, 0], 'k-')\n",
        "plt.plot([-5, 5], [-1.758, -1.758], 'k--')\n",
        "plt.plot([0, 0], [-2.2, 3.2], 'k-')\n",
        "plt.grid(True)\n",
        "plt.title(\"SELU activation function\", fontsize=14)\n",
        "plt.axis([-5, 5, -2.2, 3.2])\n",
        "\n",
        "save_fig(\"selu_plot\")\n",
        "plt.show()"
      ],
      "execution_count": null,
      "outputs": [
        {
          "output_type": "stream",
          "name": "stdout",
          "text": [
            "그림 저장: selu_plot\n"
          ]
        },
        {
          "output_type": "display_data",
          "data": {
            "image/png": "[encoded data removed]",
            "text/plain": [
              "<Figure size 432x288 with 1 Axes>"
            ]
          },
          "metadata": {
            "needs_background": "light"
          }
        }
      ]
    },
    {
      "cell_type": "code",
      "metadata": {
        "id": "QujHdF2LKdGY",
        "colab": {
          "base_uri": "https://localhost:8080/"
        },
        "outputId": "32208fe6-ae92-41be-9d0f-9f74b900eae0"
      },
      "source": [
        "# 각 층의 출력이 평균 0, 표준편차 1을 유지함을 보여줌\n",
        "np.random.seed(42)\n",
        "Z = np.random.normal(size=(500, 100)) # 표준화된 입력\n",
        "for layer in range(1000):\n",
        "    W = np.random.normal(size=(100, 100), scale=np.sqrt(1 / 100)) # LeCun 초기화\n",
        "    Z = selu(np.dot(Z, W))\n",
        "    means = np.mean(Z, axis=0).mean()\n",
        "    stds = np.std(Z, axis=0).mean()\n",
        "    if layer % 100 == 0:\n",
        "        print(\"Layer {}: mean {:.2f}, std deviation {:.2f}\".format(layer, means, stds))"
      ],
      "execution_count": null,
      "outputs": [
        {
          "output_type": "stream",
          "name": "stdout",
          "text": [
            "Layer 0: mean -0.00, std deviation 1.00\n",
            "Layer 100: mean 0.02, std deviation 0.96\n",
            "Layer 200: mean 0.01, std deviation 0.90\n",
            "Layer 300: mean -0.02, std deviation 0.92\n",
            "Layer 400: mean 0.05, std deviation 0.89\n",
            "Layer 500: mean 0.01, std deviation 0.93\n",
            "Layer 600: mean 0.02, std deviation 0.92\n",
            "Layer 700: mean -0.02, std deviation 0.90\n",
            "Layer 800: mean 0.05, std deviation 0.83\n",
            "Layer 900: mean 0.02, std deviation 1.00\n"
          ]
        }
      ]
    },
    {
      "cell_type": "code",
      "metadata": {
        "id": "3gRB7v80MhVJ",
        "colab": {
          "base_uri": "https://localhost:8080/"
        },
        "outputId": "71426363-e2be-47c4-9661-d0b2e8360112"
      },
      "source": [
        "# 케라스에서 바로 사용가능하다.\n",
        "keras.layers.Dense(10, activation=\"selu\",\n",
        "                   kernel_initializer=\"lecun_normal\")"
      ],
      "execution_count": null,
      "outputs": [
        {
          "output_type": "execute_result",
          "data": {
            "text/plain": [
              "<keras.layers.core.Dense at 0x7feb23da1a90>"
            ]
          },
          "metadata": {},
          "execution_count": 24
        }
      ]
    },
    {
      "cell_type": "code",
      "metadata": {
        "id": "mh9VftGjMo0O"
      },
      "source": [
        "# 나중에 사용함\n",
        "pixel_means = X_train.mean(axis=0, keepdims=True)\n",
        "pixel_stds = X_train.std(axis=0, keepdims=True)\n",
        "X_train_scaled = (X_train - pixel_means) / pixel_stds\n",
        "X_valid_scaled = (X_valid - pixel_means) / pixel_stds\n",
        "X_test_scaled = (X_test - pixel_means) / pixel_stds"
      ],
      "execution_count": null,
      "outputs": []
    },
    {
      "cell_type": "markdown",
      "metadata": {
        "id": "cD84XNcxN9st"
      },
      "source": [
        "##11.1.3 배치 정규화"
      ]
    },
    {
      "cell_type": "markdown",
      "metadata": {
        "id": "AMpAmMVbODO6"
      },
      "source": [
        "ELU나 다른 ReLU 변종들과 함께 He 초기화를 사용하면 훈련 초기 단계에서의 그레이디언트 소실/폭주 문제를 감소시킬 수 있지만, <br>훈련하는 동안 다시 발생할지 안할지 모른다. 이를 방지하기 위해 배치 정규화를 사용한다.<br>\n",
        "입력을 원점에 맞추고 정규화한 후, 각 층에서 스케일파라미터와 오프셋파라미터를 이용하여 스케일을 조정하고 이동시킨다.\n",
        "<br> 즉, 각 층의 활성화 함수 출력값이 정규분포를 이루도록 데이터를 변환시킨다."
      ]
    },
    {
      "cell_type": "markdown",
      "metadata": {
        "id": "YcBRgONQPagb"
      },
      "source": [
        "* 배치 정규화 알고리즘<br>\n",
        "입력 데이터를 정규화하려면 평균과 표준편차 추정 필요 <br> => 현재 미니배치에서 입력의 평균과 표준편차를 평가\n",
        "<br>![image.png](data:image/png;base64,iVBORw0KGgoAAAANSUhEUgAAAQwAAAC8CAYAAACNMZBSAAAgAElEQVR4Ae3doY+kSXL38fkDli84tmDJwcOmS0xXyxYcvqVHFq101FpgaGBoYmZknUxPOmpgZnbggGXJkoElS/a8+tS733bMs09VPd3T3dPdlSHlZD6ZkZGRkRG/zHyqpuvd+0XLAssCywIHLfDuIN9iWxZYFlgWeL8AYznBssCywGELLMA4bKrFuCywLLAAY/nAssCywGELLMA4bKrFuCywLLAAY/nAm7TA//7v/76XosrbvPaVH7PAAoxjdlpcr8QCAOG///u/3//P//zPncYTJGb5jmEVDltgAcZhUy3Gp7aAYC6gHzqW/sBC+uMf//j+n//5n9//67/+6/s//OEP7//0pz+dnv/pn/7poeJvvt8CjJt3gbdnAKABJP7hH/7h/RdffPH+3/7t307lb7/99v1//dd/vf/Nb37z/l/+5V/e3sSfYUYLMJ7ByGuI4xZwnfiP//iP93/7t3/7/s9//vOp431OHU4W+Mlxqvjtb397kvG73/3u/T/+4z+eyn/xF3/x/j//8z8/kH2fMU4db/SfBRg3uvAvddqA4ocffnj/7t27u1PAfB9xRO/4//qv//oOJL766qv3//7v/36S+etf//p0XQEqKP4jsm+dZwHGrXvAC5p/AewKATBcK+5LBb/8u+++O11HnFiABPJO46/+6q/ugCT+dcI4ZukFGMfstLiewQIFrZeTW8CobU8NQT/bK3ftAETeXSBtAGQChbqet7L2xrvlugUYt7z6L3Tu3l1sAeOSqgV5+SXe2RawqAs0yJAW7VtgAca+XVbtJ7TAQwCDuj4V8ULT+4pLCc82ed+BAMcEkk9ohhc59AKMF7kst63UQwBDkHvn8dlnn51OJwDD1cb7kL3Ux67ffPPNid9HrmidLi773kXA6Ig3Effake0IQseT/F52UVVZahy88dVPjnqevLPv5Dl1GEfPnrd5Y8nRfE7P2mbf9IynZ7zJSO/Zb5X/zwLZdfsOI/v9H+eHpfxArVOG64zUqeFD7p8/+VTmV7/61QfvOX7OtWpY4CJgtBDQ2LfjvCxC1xzfm2jfsutF09bUyRVcBVjfytMnxymvf8/0oA+9qpNLU7fGUe8zeV/WabxkbvPZRzn5+PRNzqzfyth7Tu5e26r70ALbT0mu2Vr7XCufjgQafBHtycgX+NMvf/nLn30340Ot1hMLXASMTGQBfTuuL8FUv5dbODuEO6LP1C8RPnLtCoLZcXK7wOr/7u/+7sSjzcJL6jhFb7xzGuN5O56cxgdI5Av4+xLHAmRycow7vylobOOZjwTISsb7+7//+1N/tll03gLsyGcKePnf/M3fXLVdYKw/cqX5xS9+cVonftjGtbX/9Bkfu1q7RZct8I4RGS5jb9kzMqcPMPAKVIG57Re/hdcH4QnNPXdisZBOCt0f5dpQcvQTdOTNYDf2559/frcr4NPHon///fcnh/F5uy/rRH/5l3/5gYzqZ04n/c3VkVZS/vrrr+/6kpOe9TUPfPT8/e9/f/qcX51nAEPu1lb13ebNfVt/5NkY9S9v3Nl2RFY8yZGfS3iT33j1v0/OryblY+kw27ZlPI3N9p0yfMtzS1t5NiCbAWoezbU6+V7dqdON/POOcTiz4BIovj6bo3shpIycAgIMz4LCvU++R3YGi4CM4RkgKHMKL6U6WdhJkPZ2bjoBCIuozg5OHhCyaIBgAob+gtjOoo9xyJ9HTYGeU5wG3PlHP7KNRU8AxOGMCzzMwxjzBLN1vinWHIx7hMhk423QHOkbD+A0h2hbpuusi+9cHv/RPvGfk/fU9VNP/hxotNnQb2sjOgGmQJ2MKWdP5yM8e/1ee90JMExCUAoERpM47ZdffnkXwPOE0aQFeqeI6sonYKgThK4EZCOBAZyM61qCJmBYEIsscOUC1+L3Ios8+lroqNOA5xZcsAZ6RwFDXycKVzFEP6DR2/Y9OfpwxgJGjugPjFE6nR52/mFLc/yYo7ExrB1bpD8bsXWBkm47KvysijxJX3oB5UvJdeBTE33NkR1sGGw6Nw76bW3guX7ZSc6PrT0/tQFZyzaLrYxPPe/nGP8doyBOJaDn8wzIecJgWLQHGBnRUZyxkTqO5ETQcd//IrTbM/7eCSM9TgLGZ+zJ5wzbE4aAc3JJP3MyTgu8F+jJ3+benAdOZCYD4LkXXzupJM989aX3dk7xzDynbZ6z7Wg54ElnTi5ogGzyj8qih2TewM+6nkvWu538qPyn4JtztE7mLuVne2uhz0z0slFI+unvRC3nD63lx6zTU8z9qWWe3mEYhEMwRobwzEA926XnlUSfCRgMx+AR52ln1Wa3A0DJE0icC3JDf8Ep790AvuR1usAbkTcBIyegEz0FjRdZP/74452cI4DRmHZkOgGdrk+uaObk5FVgCB5zUS/pIxlfri+djK0/oEP0lSZ5Nv62fvIcKZu/teyE4eTW6bH+zXOON20e30N0SnYytjnfoiO7fEw6ehJzQmCP/j8J/bY6Ns/q+Rr/YhNAqb8YsKadWOtjfvXbzvWtPZ8+JTFZhrEb24WQE4GdVD06BxhOHhFHsKsBC0f6AEO7wAMIyeMwAYZgUi+gAgU6SQJM0AnAeWVR70REbgvXonEkO0sBk37GKdCr2+YAi2PRz+4iBwje1QRm5lbZ+OZsPLbD1w7UKcXc8El0pK80ac5h2zb5rpWNBejNFbURmAPKRuzHTiXzqe3E+NM/6UuutRY8l1LrN2XMcnO3NuxFj4ckfc1tT+c5njK92ST+vT7NE7+ytWouQG0CcDz42IVc9DHrdhLwCv65e4dh4nbOdkg7M2QOQCZgZHABITjwCTKG5UwcwM67BQyLhpfzGkuQCbacm4wZ0JxYcHa05twWjgMYoyuThfKcQ1hsgKe/MfADnK5B19aFMxszR8Bv/vpzIrKMManxjUdnZP7zWkbPbKd9z8Fq32ub450rmzMbWUdkHp6th1NTZI42BOuMh57Wcs4ZL30k/mFt2OFSYp/m0FgzNy+yLvFM/nNl/bPnJVtZDxvVdvPYjh94TZl42MO628wQW7FxxN/ZA21lxvOW8rsriUldemHFKHZcxKiSIOFEDKg8aQsYnIQMC6Csj7IFmICR8S20gNvqpB8n13deSYACOZzeqaBgFSTG4DDaJiBNfc+VjUMeoNMXqAUC9cGjvXcbOZe6eLNZffZy8um4de493nN15gsgsiNw9kwPgRNZAwDehsBG86V0fHK6PyZ9bGBd0yf5fMccOynMObQeyWIfPhcBAv7Er9jPWqI2OmV9Az/5LdDZL25lyIywBYzqz+VbwMDXIs0+W8AooAXhVofZj6MHGDmIXX+7888+gn06xWw7V6YPp4sEMwfajuP0Qx+5EwjaOmF6JmubGwvofAxgADf6AR4Ab3f07DSWXsZlBych81BmG2vx2ikb28DYMuCsfs5PXT7GVtYuyo5A1rqSxV7qEYAAJjYmY+35drLeUr4LGHuTZ/iMlZEZYpanYQBGu6uFacHwV8bPSTu5zHcUIffkbTwyAAa0b7HwpYu+yqVkuDIFSFPXS2X6cRoAhroW9Vzf6numg0RPOxw90yOemae7uvSe7efKsx+dODawcNLg0OrMWdn46cDmdlF6088z3trPjfca6s1DcAeQbDTnbg7qrA9yEgGscxMggw3ZTj1ZYoAcfYG6Z7au31yL12Cnh+h4FjC2wrzMg6ZoOtXWSD0DC04aqZfqW+6KwXERwODA8U7+5LRgOYUcH4q/vDFqFxTGO0r1865GX07DEZtX7eRxPsd/7w7M3RFWUqdvO92lsenb/C7xbdvSI9Dq/QW+bDDLHHx+asKGriNsk6ztGE/1PMdTnvrOturVzfo9vWxs0wZ7PNVZN6erNoXknxujdv2tKd9ozc71aay3kO8Cxt7E7JS9T7hkmNrw2lUvEUOX8NnpOO8lynHkHaEb81I/bfjrf4239vjNR392QNUrz/E5oKRdrq322Sf5j5En127o+rF37UoPvABPkCA7JVCTtKXrY+h1VAabtlHwGX7QtWye0MijX/NN/tQbUAD1/NW6bRNgZCOnYCcENvPeacpJ9l7e+DYCpxDpVugwYDCIxSoIzhkox7zmeIzeAtWHzOrPyW+xZj77X+tH/6NE7pa/eZUnKx3K06/nLX/9PjY3TmPQtRPUdryeBaNAcaoDHE5NXdPwpPfH6nW0P4BwcnW6FOx0s3O7WtHNM/2cAIAKai6Nkc5AQPB75yA/kpys8DkpRFv51Zc3Hr3Y0Ca39ZN431p+GDAYqXTNCPFl2D3+nHObM/y1BdNeP7J73hunuvgv6RRvuT5o9t3rX7t86o9XnZScU+ER/0m+PN3oUHkOtVdXe7pe4on3MXMBB8SceLxjQubiEwpBnO28eO5aV116pLvAdTKZyUmjVL3nynLPgCsbbuU3TrrNXNn4xr7Ub8p4zeXDgPGQST7EgA/p8xDdVp+XYYGurt6pdMUUvHb9Tks9d8LYglqA8Rgz4n9b+Y8h963IeFLAeCtGWvN4Wgs4YbhG9P6qq0WjekfgiiKQ5wmudjlwmScQvAEJEChVV67euHQ49z+v5zi3Xl6Acese8ALm71Ml7zCi+SygtXmXAUh63xJvuZOKoEdA5RpN4NHP9WfvawPX5Nxa+wKMW1vxFzjfAIFqAMKnHH3U7iTgdGH37xu+eNRH3kEAk/nuxvUGvxepMwGj3lfUX05+gDFlT55VPvgn+pahlgWe0gJODV4+AgLJ1QIIIM+uG64leFABLXedAC5emPYORB/fNfHOY5ucRBrnJOynfyZgzPpV/tAC64TxoT3W0ye0gEAODKgxrw2pVV28+IFC7zjq75rhNOEqMxNw6ZuZyZQvwJjWOF9egHHeNqvlGSwgwAt+YNC1ImDQPuuo1LN+yOnDt2qdMNQlL/BoGp6rK69tAUaWuJwvwLhsn9X6Cizg1OA0ce6F6LkpBDiuOk4hrjVOK9Wf63fL9Qswbnn138jcnTi88+h0cXRa8XsP4kVo+fb0cVTeLfAtwLiFVX7jcxTggh9w3Ifqp0+nill3H1m3wrsA41ZW+g3Ps2A3xYeeDjptvGEzPcrUFmA8ihmXkGWB27DAAozbWOc1y2WBR7HAAoxHMeMSsixwGxZYgHEb67xmuSzwKBZYgPEoZlxClgVuwwILMG5jndcslwUexQILMB7FjEvIssBtWGABxm2s85rlssCjWGABxqOYcQlZFrgNCyzAuI11XrNcFngUCyzAeBQzLiHLArdhgQUYt7HOa5bLAo9igQUYj2LGJWRZ4DYssADjNtb5ZmbZ/zr1v1b3kv8Cj+eh/6v1Zgx5ZqILMM4YZlW/TgsAgvnf3QOQORt19/3bGbP/LZcXYNzy6r/RuQMNfwTYzzD6i+N+gkDyNz/9RXJ1E1TeqBmeZFoLMJ7ErEvoQyywPQ147lpxVB7+fnrA77X2Y8l+zNlPDAAMfzB40cMssADjYXZbvZ7AAgW7wPaL7v4gL7rv9YEcf6Pzq6++OvV3sgAeyI8a+VX4RQ+zwAKMh9lt9XoCCwh0wQws5o8xq78vAYnf/OY3p27+Ini/pOZX4f11cdeSRfe3wAKM+9ts9XhiC/iz/xMwDHcUNOJz9egkAYAAhDZl4DFPLbf0PmM71+3ztaVdgHHNQm+oXcBIOcn2+aVM1ZVkCxiXdDOfmZqXHM2PUpWlePRTziaXxnkLbXO+Wxscmd8CjCNWegM8BUQO05Sq7/kl5A8FjPvoPuc9y/eR8Rp5m2tgag7VHZnPAowjVnojPDmJHdZLweg+DlOfp8wfAhh+L/Wbb7557x2F5IWn31uV7yVtUvz90PNTzuulyG69fZokoXzjmo5XAYMgA8jn0e6S4NnnEh+5pdmnuvKtjHjVV6ZbtNevuvjj3cvxovpUrm/ts2919SnHo19p9nnOcvoBin5a8Pvvv9/9YeLn1GtvLJ+OuJL4LsURam7mo5/k/YVfQwM+20S+F58+Xo2/sVonOSK7X1Wr7ohOL4WH/sC0eXlW9k6HH3in42cmj87tImDsCTGgdI5qLz/CN8epX3U9y9VJ1ZE96zzHJ9+j5O61qUt+fOfkbPvPcbd9Ztu233M/+8SAkyABxlleCmW37QmjNbmkp77A8Fe/+tUJBOTzFKVv8qccgQM0/KBzPMZrA2IvL1Br25Nxanyh/5iL9fapEcqvv/7661OdZ99ROfqp0VnAYJiEEwaRW4BrRoPWvlmX0c/Zkvx48OunrnHPjQMxLaKdIv6p79549Ce/8fZ4Mui5cc1fSr9LMrRxfHo67pJ5Tu45OY9dT286tZv+8MMPLwowmu/2hHFtbc0r2/KjTg2//e1vTyKnj6hoLVrHdllt0z86hdRnjnMS/Er+ce0AEMUvtdmJL6Avv/zyzieuTeldRotxGreF4vA+054LEP9ebsHdG6HzJcJHrm/jceLPP//8Z0io3tHp97///Ykn/cj+7LPPPjguNheAUlAY3zwYCD8nuERkcBpjtuvET6adK7SuXq4fYG1RjEkPQemuHM/ss1fWD5Xv8Vyqu9RvtrE9J+oOe02mvrP/lr+21mDbfuSZ3Z14nHzYWf7jjz+ebJr8S3LiAQCBBt9C6RWPusDBuhorPjz4vd8oqGb/KUOfnstPgh7pnymzcvl9huDLnSybi/6ubmycLa7JfGdwAqYSyj0nnOEDDELd6y7ttr5RJ+iiFCKPs9p51QECL6vQt99+exfojY8HL1nyyNgARlCi9CRbkAIHOhTAeDgA4LhEjcuJOB0SVOQYi4ypx5QFSOg0j3fq7gMY5DWXKftoWd/Wb5arI8c83N/NS2rO58a41q6fsdK7/Jy8c/X65SfxJPeoTLqakw3L+v3iF7/4WdAnu3nx5enb2vkJf0T4SunheZbpnbzkP0aezOzwkHHIsOb8cMYDH+/9BZsdodMJgxLQR6AJhgJUIBcckGgaVb1doPbtYBQJMCjs2ddzTdyJxYICIQH13XffnbprNwlkAk4DFk4dPjq0Y1jkCRj6CFR1+hgTr/tZxjgCGPTTl46cjd4QWICx0RdffPEz0MEvGZ+TAq1IXYBR3bncPO10geA5vkv16XKOh2zrzLbAmk0vEXmo4LjEW1t9er5PXmCU69uaHJHT2PylU0Z+t+3fnOTWu7Hk1nr679RnK8dz4+61fUzdlHtNh71x9G+e4rkNM19jJz4+N7k9OdXdXUkIECCCS4JE824zAaNdQKCfc7j5nf0WRDAXvMCna0Zf4Z0nDGNwalcPecEoeBHAoO8MLmN2tMzQgMk46Ahg6Cc5ipK/panjts2c6IAa/z6AwZZbwNmOcfQ5R+AMEr0cS3MUoEFfz5fIPKyf9eBsgbjyNrVOzf2S3L22+hmvcZWlo1Q//OYdaBT8U0688sqNNTfL2W6N2M7c+RVgMW+E7zEpecZsDOtgI+yqdGS84lVs9JqAPcxDshnOOLok83QlwaCDY3zCBbbdNEGULBgTuAcYGdxipRz+ApyTSsCI0TlsJ4xLwWhx7NTJT176GYNhgUKkTdALHgQ8jHmOchrtdhzOZt7mwjEEHZsUZPizVyeu7QkhwDAusPPcODnE1GevbrbvldmkfvSha4FSTu+AeU/GJZ3w8wdrAHQuJbZOl0vjaLvEt9d3W2fe+UNt81mZP2SDefKLfy+nF1/LbzxL7EqedSTT6ZVdldMF317ZulxL9Z065YfFHt8zXgDYfBtTX+VkzXr6Sx9Dd4DBIQBGJwC5K8cMCIGeQvIJGBScVJBV1xE/eQwANRnAOIIRiAgo1ISVLTQjtYDqtlcS/HQOkICHo+g00KUTRoY/Df7TCzGA56RlrNJeQJhDb6EBg/kYH5kPx1Iv0Ob8Gutj82krjsRWgI7uQMK6zmDZrtWce+uTTni3/LWdyy/xawPkrdPH5GxZcGx1SQc85s8m2X7Lu33WdwKG9uTQ3VqSZ43Zu+DVL1sqZ0v+wd/b0ffy3iltdeEzxurq3/rSARlH2lJ2KdcuJo2N0nPb79rzCTCaHLTkZIQ58jBak7a7BBgJBRgcM2JMxqGYAOr6oF2bwEkeWQGGQFavj/4oIwhU7Qw133HsAQa9JcFBdvfS9LsEGOlogczJAgEHCyMpS+qBkEAM9JyM5liciy3ZsPKcEx33Fro5a78P1Y9NONc8SdBR3fYIC1zZSb1carPYjk2+NmtgbS+lHHkro2eyzI+9pID4ITmdmnvy5dN+/GoC+OS7VJ6+Qoax8k3rz6YTgBoz3vRovnt6Nr6+5/g6zVgfJOaMLZ4i/ec6KrMnIrex+YK1Q/qk86ni4D937zB05uQUtNvLoV4DC5QtYEArhsVnIhKnAjp253Z3CjO4hcNL8XklcVVAAq+7mmdGcpcUqMgCMZagZrD5DsOzxTIPZTrg1xe/3cD8Ljm0/vjpbR50wa+vsehDJsfBJ015+rc4yuls3EnxlO+1zbpr5RY++wTidGBzaxRPellXG4J1Ng+OZB1qb8x01L85n8vZIseu/16ezL22+9Y1r/p5Jl8u2WQKknjK0wNfgFodP+UDKJm1sWdrmj8kU5zUT119at/L45FXxmctrJGExBA/tCHwaWtIN3x81vpZGzpY9wAumTbk4ku/h9Ddx6o6m/yWGowSAAE1MQqrp1jAUv8JGJST8Jq0CeqjbIIWAAEMPEi9RZs7t3r9ODlQ8BIVMCBBQg6jATZ9OYp6jswhtM0AP3Xc+YdeQMKiIGPmIDvspyp9AK05pJMGNm3Bry2SxaTj1pbnxlRvLZIbYKQ3xwWwOUlrqZ814FTZ1xznlfTSmC+5bdqDD8xNbs7fHNhNHRtMPm38ENhEbMpe6tk0fuvFVyJ+gFqT6u+T1xf4WhObJmpsG/W8vmujz9wonObnutNrrrd5b+1xRMc7wEhJQjiTPIOmbEfdeLYD4E/OBAx8KTd51E/AsEBNUtDVZ288QRVgNKY+gKR+W/2m/G1bz/qS5wrGMZBgau6Tr3I5nfRpt1JvoQLB9Ix/m+Obi7ptP/fcfMk3RwDFgehiHVA8yQCcAJa9lPWzFm+FgKVAa96t65yfOsm8nXojdWKAfQL/riECVbJObGaDCCSsn83syCmrsba5sSOxYA2BBpBwulDm98aOrKENzYbB96y9dScrn6NbIFe/2no+kp+uJDoy0MyVp/JzwOrLDRS/HNndOwpWJ4/PeMhiFYzTaQMtY8SbjuoEJyMFEPGchP6kT2Phl4wTIMW3zZPTbq1dHacgz26kLSfRno7qLCaHwVs//NVtx9t71o/M+1J6AAC7Xo6rnj6T2EJQ4WkN2HLLN/s8R/kh86bX7Ncnaq0Re+7Nq7pzd3unCgCAyGJXcaAsl8hGbOfZsT+7nxru+c+cB5AAGOS2nmTTa26o2gGXNsl8An9zpK/YmhvZHOc+Kp79vyRbIZRyxLtGKdJ14Bq/YOrOZ1KeL1GLbIEsDmMYs/pLfe8rHyIHfBavI65gmwtifInzcDC8+kF5z8a1Q+Vcl3R8yrbWhu2ALdshOce8Zvun0I1NWr/WUL6t63nPhrXRz2nQCevctQ7vpHbxrnHa8JSsOaC4RMk0tsBN/0t9zrU1rtx1x2nmGvFHIBl5deB6HPHDOb/qH5IfBgw7K/QykRb20oB4O87t8SWHrOQx+J5DbPvXV9Aq9yw/R9rwX5OfvGThF1ByKV0bp+fkeo5vKyve+j53bnw6uetybCSwAJxdSdtz62g8vtXux2cAVwEP3DzL8e7p11qR4aoABPQnd5v4JXkCzJwBpdQGkA0ay1rqg86N3fiC1ElgvtM4dbzHP41Bf9cPGw3Kv6YovHTDx2781NqyQfbEI66Ska5Tzn3KhwGDUIM3oUuDpFT5Od4pL7nll/qkSzzGOdIPD94jeiV7b6GSkRw52QGFvrMt/ms6NuZT5OkjMOw4TnV2Hfm8pu3N9yn0SabAEBQATMC1GzolcH4nNadbQSA4snX95c3NiVPwC6CA4FqOV5qg0BjWqzWrbo7b2I0vMIGF4K3flv/as37JE/RAoLGrTwbbWT92s5bGlgNXNGUpP8baHgaMlC1P6b08Y13j1T4TWdf67PEkY0+XbV26bet7bvytzOon36yb5Xhmfm3cyfupytfm8BR6cXAg5hjtaB154ejkE3Vy8Lx1fLaVtqeJa88CUsKnv/m3TuXGe4hdHtKnuer7sf3Te8qZ5ca6b34YMO4rePEvCxyxgIC1I/sEoGuBZyeD3qn0PE8BU3bBPuseUi6gJlg8RM5b7rMA4y2v7iuZm6O8a0FHaS8ZAUbkFNJ3WTqi1yYX4MDE1eU+BCCM6UrWPT9595FzS7z/tyq3NOs11xdlAe8tfJIUee6lrDpt6gDJ9hOLTgVOKp1QknMt15c81x/vS5C6ZF7rf4vtCzBucdVf2JyBg5ebSLB6edlH7U4PThdOGV7uOWF0Benq4B0EsJgvnS9NsX7x+Pic/MavfuU/t8ACjJ/bZNU8swVcJXrxaOie2+m9y3ACcIqoDp8yAAEu87sxrhlOJOq3iYz6ngo/fa16AUbWuJwvwLhsn9X6xBZot5eXAoWeU6Fn7SWnCoDiFNIJA58XpXtpykjuOmFkiev5AozrNlocL9wCvoTluxz3eYcBcIAH8gWuThjqAqwXPu1Pot4CjE9i9jXoY1rAtcP7jfkFtCPygYNPV1xnXGFci1BAckTGrfEswLi1FX+D83UV8a3H+5wOnCLq551HaYHFZQdZgHHZPqv1FVhgAsV9rhOzX9Pcq6tt5e/fL8BYXrAssCxw2AILMA6bajEuCywLLMBYPrAssCxw2AILMA6bajEuCywLLMBYPrAssCxw2AILMA6bajEuCywLLMBYPrAssCxw2AILMA6bajEuCywLLMBYPrAssCxw2AILMA6bajEuCywLLMBYPrAssCxw2AILMA6bajEuCywLLMBYPrAssCxw2AILMA6bajEuCywLLMBYPrAssCxw2PGrN2EAABfbSURBVAILMA6bajEuCywLLMB4RT6w98dhtnWet3V7U5w8s0/1/SGZme/JWXW3ZYEFGC98vf3pOX/9Gsn9KblIMG+pOnnlAGHm+nmOR+5P1qHGmG3KPW/HXM+3Y4EFGC94rf1xW7856oeIf/zxx1P+y1/+8oOfBOxE8JBpBAATDPz+hzEAFfKL4H5YCMV/elj/3KQFFmC80GX3Yz5+X9Rfsv7mm29OZaChDpAgAbwFDHV+p8NvhV5K/YXsecog01/Q/vzzz+9ONV999dXpd0+1bcc6KbH+uSkL3AxgFFwv2enpln7+7H2/9ylo7foICJiLtEfq9dv+4tf2uR8fnnbxK2J+FBloIL8SBqB+97vfnZ7pth176pH+s25Px1X3ei1wM4Cx5+wvbdkKtHL6+d2MGbS9ZwhY/ACPdxv6FLBH57XtA0SM1e+c+mEgz8bAm17qgQgQ8iNCfhMkAMrOR3VYfK/LAjcDGDn7S1+e9BSAkh/nEbSuKMDCL433fsFc1PeSUvsM2ABkLzcOfnljel9hrH5BDCh4dtr57rvv7kwHoJx4+p1SJ5ovvvji1J7MO+ZVeFMWeBGAwaGfgrZyBYTds/oZLE8x/n1kFtT6AATvEb788sv3v/71r+8Aw07ufQZeujt9SMjzlDHLe3pon/30BwoAAkh1ugAMXnoCjQhI0QsBK79NSjd0bdwT0/rn1VrgKmA8ZVBxrhz9sS2Y48rdzb0wdIQGGn6HU108jz32Q+WlD5sIQp+QCGJl4AEsOl0IaFcFJ45I/4cSe/hBY+8wfCqjDFwBhjEAQ/LpBCDowK5dYR469ur3eixwETBykKeYTsHxFLLJnPIdoTtma3PU9ynBU87vIfPagqcgjrZHfcAR+OGZ863PfXI2cboAqoguKBv1DDhcPwIuJxygMnU9dVz/vEkLnAAjpzDDHGM6oIDjIPGVP5ZF3IW7h99H5jU9mksy8XfPLwC3PPF+qpw+JTpUprtyuTYnDkDIfvE9VG9AMd9fzHGmTNeRPkVR7/2FT3GMH+m76G1a4N05x5jT9bm+Y6mjPOIcAg6QSIJdUrZz23U4MpDJkXLo7secvF1KnV3KERtdcrgp7xJfcvDjK9W/59OAr+wfc7Cjf/vtt6eA7bR0zR6XpunTjh9++OG0rpNv2sma5gd//OMfT1cR7zJ6jzL7rfLbtMAJMEzNoruX9vm/3MsuR1VkZ+lNeUFoV7K7fP/993f91OnbyzN9C1JlTuftuz59z0C9uu7Ck1/bpBkUszx5lKeM+MrTf8u3lfFSn81DAhSBxcfMJbuck5EtGw/YK3cq1D+el2qzpdfjWODuhOHEABwkJwXB68WXegQwvHxD1xzEyQFg2AVzJPIAjhygABYnFsdbJwtl9dfI2HQJyC7xNzY9cm7z6b49A+WSnJfWZl7NzXx6ru4h+p6TkczGSXbP2l+rHZvLyo9b4AQYFrykq4B3RXAacPSUC/TurvHmKDlNz/iBDapOkLrauH5oc7T1nONNwJjOm8M2JYEPjDrtVL/N65cu3vw7QTk1KQMsNOeSrnuygBkdLyUvIZO5ldFzc+v5lvLW+pbm/NbmenclKVicLgS0F2oCWhC4OgiY7X9Cqs/WKPrsnRbIIRd4uAIJXAGNXElmH7IF194Y9AIce21TF0dn32cAUsAC0Liny/seQWPsyVIn4QGi1xLb4b1G9A+Izf8Wkjlnz2v2We0v1wLvOHhO7l5q5xdgjvw++3f8R/IAQ2BwAAGpLAEBAaVOMNrBS70UAxbJI1MQC2Bk5wYaricAhzwOZleaRFd1BfJs25YFpXclKKCgo7mZK2ruymROyjbXdsapy1bGlNcY5uq0JjkpVb6U43ttac7P2rZuW5us59djgbuPVe1yFni+G1DuaiHQ25XVc15tAtLn8oIcD5BwnXGaUOc5wFAGSE4H6vQX1EgQkVk/gDGDOZMKyAJ0r33yzYA3LgCMtBXc5gMAtzTHATgA71wCpq5tKLlbedfa9vjfWt0l27y1ub7F+byD+oLTzl4QzUAUBJ045pVhGsO3A50sUEAw22dZcPpkxQvUgET79koy+8zydLhZnjyVnSKM51ThGuJEgwR/VyHPQCvA2JM57ZHsc/lT7KJ0Si+5edD5pSc2Zo9Fb8cCH1xJJmAIZkEtuJw8BPS8JhREHNiJouCXezdRO1M5UQhIbZKTiq8UA6KuLXboAKng2DMzuYHYXvusMw6gcHoJMASZ9xpdSQBdYLHn3HSRsk3P27z2Oe+py8eWjYfYz8nsNVxP+M5TAOjH2nL1f7gFTicMTl7KMR3hBXPkS0I944lfOwfmyEi+BQzvOFxd1AMhwODq0c4OiOYJIx0ae+bAR8D3Ee9s25YBC6AwLvlOQq4lxkX0MidgRe422Jtj85XvJXzxbGVsdfrY5wD2Y+U8V/+ntsdzzWON8/8t8MH/JZnB4NRQYGEVcHZqlBPgRxMw7Nae70tkHzlhkGvX2jsNzDHTrVORNleTyBy0OTYDR9S84nlJOd3MGbh1Omq9LulpPbxbcjVD5GSbS/1W27LAngU+AIwZME4A3jVwNGW7dO8pJh+hvchUdsLwYhDdxzHdy41ztN+RYElPvLNsDM/qnUK8nKX3ffQ9KfrM/wj+XjwfGRo/u8qdEPuEKlsckbF4lgWmBT4ADAEz75zAwhFYILerFWhTSLuXOsf8/k/I5LlWdprpWnMpcHN2PJf4aotfPsu1u9qY33wJek3XT9W+vY40h3P6zE+2zNG7KDTX+FzfVb8ssGeBDwAjBoG154zqZopfvu2z13/ynysX1Ofaq7+P/GTWp2ey+ohXufbGeCl5egn47Smvtmu6eknqJIWuAcZRmdfGXO1vzwK7gPH2pvn6Z+SE11Xv6GwKfCcNVy8ELCdgnpPlxPUaTl3n9F/1T2OBBRhPY9dHl+p00Evh+wh3zetk0UvsI4ChT++U7jPe4n3bFliA8UrW1+midzznVO70ECDg97LadUT/Thnn+nci0Q4sFmCcs9Tt1i/AeCFrX7DKvWMo6KnnvcX2o9/afTQMCLT7VEveF7u8gPYJSclzoDKnra7xqwcWey+v8TV2/ejr2uMEJPe86G1aYAHGJ17XAIIaXsD2ScYMzHkdmfX4AYQvp/l+hi+mKfvotWtIwd00Pe/VASWfdgUuPo4FRD1r64VrsuS+22Jsn+DQB4Bt5U/+VX7dFliA8QnXbwaWQAMWAl6Qotp9h6JgrU67L9Ph72PtvgIvcOsfwMgvkROF/iWgQ5+ejQWEjD9l4cELOLyY3bZfGnO1vT4LLMD4xGsWAAh6x3lfe5+nA0ABMGYgKgtQ/0vY+4nI/90AIH1npsAmw2lBcs1wdei6MeUmRw5A/J3PSwTkjAdM8NO7a8+lfqvt9VpgAcYnXLvAosCmih17fnwqEF0PEL76ABjBWuALXv9PxhWl71lMMCCXLARQ9AUkyTs1jH8Ef7JH9QdF4EBOJyKN5J2T+UHn9fAqLbAA4xMvGxAoUUVQC0LBiAT6NiDxF6xODQCi60nfnQgs8DqN+LQkmcYALHgCl60ZjgAG2eR0EgFaxlK/6G1aYAHGJ1zXAkteavf3nQkB6JOPduxAoGeB6grjPwoChAkWeCafU4t2YOEaQ3ZjxjdNge/aCQM/MPP1ei89XXV6nzJlrfLbscACjBe0lgWuj0W9bBSwThBbKtDVe8HZy8YtX89eSno/gvR1KuhLXNXFK3fqCHDSabZXJisCQNGsr27lb8MCCzBe0DoWaN5ZAA2BPq8jqTqDWR/pXGADFO82gAAiz2+2+lLXuX7qA43G3MvxoeSkQ/V7fVbd67bAAowXtH4FtauD9xj9XZECMVXxzSANQLaB6qWmk4prjROFE4urSaeN+m3lz/qtzHSQx4enVN3kW+W3Y4EFGC9kLWfAORU4BfTpyDagj6rsJafrSt+RUL4EAEflLr7btcACjBe09oI5cPCpR9eR6h5D1QUYj2HF25WxAOOFrP0EC+XeIQCLhwa5fiVyHhN4XojZlhrPbIEFGM9s8EvDCe4AokAvv9TvPm2PLe8+Yy/e12+BBRivfw3XDJYFns0CCzCezdRroGWB12+BBRivfw3XDJYFns0CCzCezdRroGWB12+BBRivfw3XDJYFns0CCzCezdRroGWB12+BBRivfw3XDJYFns0CCzCezdRroGWB12+BBRivfw3XDJYFns0CCzCezdRroGWB12+BBRivfw3XDA5aYH0t/qChLrAtwLhgnNW0LLAs8KEFFmB8aI/1tCywLHDBAgswLhhnNb1+C8xriD+a7C+QPfd/9afDHNPza6UFGK915ZbehywgOP1tEX/R3F8w8+cJ/eBTvw53SMgDmSZYzfIDxb2IbgswXsQyLCWe0gL+VKG/adofEPKXzPwR5KekcwCh/jXTCTDmJCr3h1yaXAaY9dXVJ15/O9KC9Edtq5991dVPvRT1vJUfj3qLzhGSUd9tvpWlXZ/qyaHvEaqfvHHJUSbH387sL2UdkRdP8/I8y42hftq0+smbLLl2vw9CH4TvHO/sd42ncWefl142p/Se5eqO6D/tcqmftm27OPCjUE44gdSW54gOL4XnXcYov6ZYRp+Trm91gscP67gvHqH64SWrMZI76wVkR8x+7k//KQO/59l/6hEvOX6AhxyLuSdn2y+Z6Zhu/WJZPyZEliB3DNbmKOyvdss5j99L7TdHyJrykql/v1YGAPwV8e0fBsbj73+qN5d+eYzs7JO8OZdtOR3k12ir6zX+T9nefMpb43zgqG7sbB0vUTIbq7X2my1iwo9OHdnkLo3xqdtOgJEROftMnFRynOOMygg/o5R6ZhhBiATFFjD058gQl/FDXr/EhTeDy8nB+/3335+CAe/XX399un8aVztQchfFX9/T4GOntlDurGSVBJefICSDLL/bEfrX/1LORgXyHFtAT8Agm97Jp0vJeBOk2I7N2BmR+4c//OE0Rz8XgMjKpnQniyOzKzDSF49+9Js/j0iXI0TuJdra+RLvS2lL53J6zfIRPdmYH10iMpNrbaynZzblp21Ml2S89La7EwZFAYOfvZu7IpRU75fC+w1NvMp2yQKaI0NQRkKcN+c+Vbx/f/p5PrIYv+NyO7NxEMcuMbRgYXTBxeAWAmmbAbF19GTgtQPTUx0+Y/l5QaSugFZuwU+NO/8ABHr4kSHBihrbL4ppJ4MsZL79vsipYvMPvhK7kD1JX0BH59ZGO0BQD/jY+bPPPnv/448/3gExe7FPdr40L2BFhj5HiPMn9wj/p+ahb6Brrg/Rnd9dA4zmydZiyLgRQLeWfCXfqO015e9y7kuTMEmAkUPlfIwf5ezVzd2wMeItBzqcul1ZPd6tUT37AR4gJACBjAUQJAVtOiU7WXL95mKTIdDisZA51Knyp38K5GQDnn4cWQBvdQcizaU+nv3GCIdjI7kTgOBmI2PEay7mRF9gIIjZHR+dOaF+k8jqt02Bor7IOgDC5tX6Nl5j4qUToNo7ck++eM2bnsZGcj+WVIBs+5yYxj/8yDzM51zSTi+UzkPEnY8ATnYyPpvxFcTWxmF/m4P5sY9TqrK1RHu6ZqsTw0//0KU+sx7vTORZR7pYA7m5sFnxM/u/tvLphNGEt8qrtwCMxUFaDEbJ0OUFdDK2gKE+XnI4CiO6jljcZMc3dRLseAUDXo5NJ8G0DYjGnzl+QRVx8ACETgDj3GKmh3E4WkFBFrn6RhMw1OmLjNeYHBbYADx1ET04mFOaMUrkB4psyulRegVG6vS3TnbQAEN52hafsVqLno2RTHV7pN0pSoAaNxuaN9sYh9zmvSejeRrvWjIHsrYyezYeABfI7Em3QE8dH6EnO/MdOvIDQMpfEVnSltgN2Ej5nLGUZ31zLScHjzHpJ29zoc9rpzvAEBCMLHEIzqAMHZUheLQ1skWyWCjjT8CoHwMyNgdrJ7QwUFhguOII3IyPX4AAF0QfeqiX7BwBRuM21tTR7gxczMXcQv14jZ2c6srTxWILZs/VcYauNvgnYJAnCQqOT19zxuNZPZmciRwy1XPwSebL/nTuCli7PuyeLc2TPsCGLCCbzboqpvu0V7bSNuuNM5/JFDSCU/BZd3XGbP3T7Vo+5Z7jxUOndJ586vhS89Jm3mylnv+xrw0JsR+d1fGx+Q5qyq3MlnylExA/7BSjji+Racz0a07sMv1YvY1CHxR/Y72m/A4wKM2YjJ0xmwiHbodusuUMwzEFAKregnHWSPAwsAUm3zgM31gcT5sAQuRa/J6TYxH1NQ5HBTioceNr8TyTbW6InvTg9BbWgnMqPFsZW1mCQl/Bb1zP5hkFGOQIYk4imae54VVvXEk9R2RbdiCXU+M1jvnbDTkv++nbCaMx6U0O0OOQ+JB5sQ9b0RVflG3K1dNZosM1Ahr0pDO7pnNyzG3KmePg0YcMdpefS/j03VsX9ebUOPGwGx/JH42HxzrwU2W8U65x2EmdtEd4yD1Hsy++OQY9bVh0Q+fGOCf7JdWf3mHsKWTCLYLAF2CReobnMILGEYwR1GUMThO668eBtUeMWDBUV04GmYFJi6wdeNlp1QmUAqFxk7HN008/ss1HUuYsydn2m88Cjy0ELSc3R5Sd6DUBzlhSBAj0i796OT466j/nwlHjBzgBN53xytmkoAUqAZTrSQAyx7pUbqxzPPQkFzgi4xmbHkh/dpHPeZwafwoWbfxBYvdtqh6fNG2YnJnPsdg4GwENusidDtkeWcO5TvmANjrv6W0dAPg1onvjJIdt2Ki1qP6arJfYfnolb8EEp9xkWqjq3ffsciYuqTd5gMCQSL/6erZQGe7cxB3xyEXGpIPFLXjk6aJswQQrJ7VjCJT64rtE9BbQdIb0yu3iHCwHurSYe47bvI09AWPqw1ZsyJmBFN3nvOMt12auc37km3e7XA5sPuTi5fhAjRyOa0fNSS/ZRh/6sdElMlc26B1Ap0vByCe0qQvoz9my+vJzY2o3F/klXjzZji2aB/8TqGwkBxTsNIGUrnSuf/lWJ7Y9Ahj4nPbIRGxrU6UXIv/SXE5ML/ifE2AwMOOamOCxQ3HOkmfH3QKWE3L8HIMRMnTGsBsGGEDAotmVyGC8gl4AeDauQAIiM1CSB4C0RXR23w/k4qt9L49XQHKgeZ3A3xz2+tYuKFr08saegKGueiBXoJNjfE4bxStPpj4dYdOLMwY09QUMbMp2k/QRIOZ8jTi360ugeYmfXHz4JXbstGHd6NwO33ymvObaPGebcnOdfNVteXvWHpizBZsgPkrH3j0ANsGcDfHxQ2DZxtf6Jrtce+tR3V7Ol62TnM8GUnjnnPb6voa6uw/9GZ0BM/xDlWcUJBgtXgRpGZJzGkfizHtpz0EsLECLLCAHaIEbt/Zt3rw4Czn0yFnk9DDuNTlbufMZYOSMsz4Qrg7Y0X2PGh/AAOotZTd8zYktBO6WzCmePZtOfnxkXuMTAJ1crLFxAxobCb0FCjoib+rw0DKdJRsY8Jrj5l/qtHtON2V+AETMXyIH76Tq8V+yj37sE2XTnt9C/sEXtzK0fGu0+06WM02Hn/Iql5M9y9uxtFksuyiHtJPZNXJM/JcWUjtngfpAjKzG4zAAhLxrMrZ6bZ85K1DckkAi3/i+e6LcKWrLm17aARB9zVlyYuPcc6ejc8de9ZJxnAjZy9yc8JK7Ha/n5n6JTxuZriSBBTBUL7Gr8dgAsFUvf0pKd0DcJtXYtRlfXc/pZLNgq04Y8U199SnN+m3ZOlgn1PiVt7yv9fnuU5IM0kQz6H0nVn+B2CIke+Zb+fXb1htfP/UQm1PY0civLbmXdKVL+pAT+teXXA7/EEp3Qb6V0XwEkHa6C2DjbgnvrFfeyquPtvgbA+9e0mfKTUa5/qVLfPjZUFACCoDNjvpI1gSoCcJp38Z5qrz5W8NOeM1H3pz26pwIAGwAHs/UVZ35IOVzBDDyseSUn+vz2up/fo59hBlcMuojiL8TMceZ5TuGA4WH9jsg+qNZpm7nyg0y26uTn6ufPJXvw1uf8vo6TQHH56bGPzJuvHIAC+iqO9L/Gs9jyro21nO3PwlgPPck1ngvwwLt5C9Dm+tavDZ9r8/o6TkWYDy9jW9qBEH4WnbY9Cy/qYV64GQXYDzQcKvbeQu8lgCk52vR9by1n7fl/wEtI/eJr63bfwAAAABJRU5ErkJggg==)"
      ]
    },
    {
      "cell_type": "markdown",
      "metadata": {
        "id": "SLPclKLzT22K"
      },
      "source": [
        "훈련하는 동안 배치 정규화는 입력을 정규화한 다음 스케일을 조정하고 이동시킨다.\n",
        "<br>테스트 할 때는 각 훈련할 때 구했던 각 미니배치의 평균과 분산, 즉, 샘플 평균과 샘플 분산의 평균을 이용하여 정규화(3)를 하고 이미 훈련시켜서 가지고 있는 $\\gamma,\\beta$를 곱하고 더하여 크기조정 및 이동변환(4)을 한다."
      ]
    },
    {
      "cell_type": "markdown",
      "metadata": {
        "id": "EYkEd6NvPI3d"
      },
      "source": [
        "심층 신경망에서 배치 정규화를 이용하면 성능을 크게 향상시킨다.\n",
        "<br> 그레이디언트 소실 문제가 크게 감소하여 수렴성을 가진 활성화 함수(tanh, sigmoid)를 사용할 수 있다."
      ]
    },
    {
      "cell_type": "markdown",
      "metadata": {
        "id": "lryB8rrQXZyG"
      },
      "source": [
        "배치 정규화는 미니배치마다 평균과 표준편차를 계산하는데 이는 훈련데이터에 일종의 잡음을 넣는다고 볼 수 있다. 배치 정규화는 이런 잡음으로 훈련 세트에 과대적합되는 것을 방지하는 규제와 같은 역할을 한다.\n",
        "\n",
        "<br> 입력 데이터를 정규화할 필요가 없다는 장점이 있는 반면에 층마다 계산이 추가되기 때문에 모델의 복잡도가 커지고 실행시간이 더 걸린다는 단점을 가지고 있기도 한다.\n",
        "<br> 그래서 훈련이 끝나고 이전층과 배치 정규화 층을 합쳐서, 즉, 이전 층의 가중치와 편향을 업데이트된 가중치와 편향으로 바꾸어서 배치 정규화층을 제거한다."
      ]
    },
    {
      "cell_type": "code",
      "metadata": {
        "id": "LiCCHwzvOAz9"
      },
      "source": [
        "# 케라스로 배치 정규화 구현\n",
        "model = keras.models.Sequential([\n",
        "    keras.layers.Flatten(input_shape=[28, 28]),\n",
        "    keras.layers.BatchNormalization(),\n",
        "    keras.layers.Dense(300, activation=\"relu\"),\n",
        "    keras.layers.BatchNormalization(),\n",
        "    keras.layers.Dense(100, activation=\"relu\"),\n",
        "    keras.layers.BatchNormalization(),\n",
        "    keras.layers.Dense(10, activation=\"softmax\")\n",
        "])"
      ],
      "execution_count": null,
      "outputs": []
    },
    {
      "cell_type": "code",
      "metadata": {
        "id": "41KWLLadPIrW",
        "colab": {
          "base_uri": "https://localhost:8080/"
        },
        "outputId": "df6cb663-7cbe-4b1d-b0a2-e998db684fa5"
      },
      "source": [
        "model.summary()"
      ],
      "execution_count": null,
      "outputs": [
        {
          "output_type": "stream",
          "name": "stdout",
          "text": [
            "Model: \"sequential_4\"\n",
            "_________________________________________________________________\n",
            "Layer (type)                 Output Shape              Param #   \n",
            "=================================================================\n",
            "flatten_4 (Flatten)          (None, 784)               0         \n",
            "_________________________________________________________________\n",
            "batch_normalization (BatchNo (None, 784)               3136      \n",
            "_________________________________________________________________\n",
            "dense_15 (Dense)             (None, 300)               235500    \n",
            "_________________________________________________________________\n",
            "batch_normalization_1 (Batch (None, 300)               1200      \n",
            "_________________________________________________________________\n",
            "dense_16 (Dense)             (None, 100)               30100     \n",
            "_________________________________________________________________\n",
            "batch_normalization_2 (Batch (None, 100)               400       \n",
            "_________________________________________________________________\n",
            "dense_17 (Dense)             (None, 10)                1010      \n",
            "=================================================================\n",
            "Total params: 271,346\n",
            "Trainable params: 268,978\n",
            "Non-trainable params: 2,368\n",
            "_________________________________________________________________\n"
          ]
        }
      ]
    },
    {
      "cell_type": "code",
      "metadata": {
        "id": "dz2n9BvQZv7r",
        "colab": {
          "base_uri": "https://localhost:8080/"
        },
        "outputId": "0507a5f6-446d-4c23-b1e4-ef7a638bba49"
      },
      "source": [
        "# 배치 정규화 층의 파라미터 살펴보기\n",
        "bn1 = model.layers[1]\n",
        "[(var.name, var.trainable) for var in bn1.variables]        \n",
        "# gamma,beta는 역전파로 훈련되고, 나머지 두개는 non-trainable param이니까 안됨."
      ],
      "execution_count": null,
      "outputs": [
        {
          "output_type": "execute_result",
          "data": {
            "text/plain": [
              "[('batch_normalization/gamma:0', True),\n",
              " ('batch_normalization/beta:0', True),\n",
              " ('batch_normalization/moving_mean:0', False),\n",
              " ('batch_normalization/moving_variance:0', False)]"
            ]
          },
          "metadata": {},
          "execution_count": 28
        }
      ]
    },
    {
      "cell_type": "code",
      "metadata": {
        "id": "MblXdunnb7Hi",
        "colab": {
          "base_uri": "https://localhost:8080/"
        },
        "outputId": "8014df6a-762b-4ce6-c8bc-8fd8b85e0af8"
      },
      "source": [
        "bn1.updates     # 케라스에서 배치 정규화 층을 만들때 생성된 연산으로 이동 평균(mu, sigma)을 업데이트함."
      ],
      "execution_count": null,
      "outputs": [
        {
          "output_type": "stream",
          "name": "stderr",
          "text": [
            "/usr/local/lib/python3.7/dist-packages/keras/engine/base_layer.py:1348: UserWarning: `layer.updates` will be removed in a future version. This property should not be used in TensorFlow 2.0, as `updates` are applied automatically.\n",
            "  warnings.warn('`layer.updates` will be removed in a future version. '\n"
          ]
        },
        {
          "output_type": "execute_result",
          "data": {
            "text/plain": [
              "[]"
            ]
          },
          "metadata": {},
          "execution_count": 29
        }
      ]
    },
    {
      "cell_type": "code",
      "metadata": {
        "id": "NIAai_5wb8g0",
        "colab": {
          "base_uri": "https://localhost:8080/"
        },
        "outputId": "038ae10d-01b3-4810-b305-6cbb2fb36ae4"
      },
      "source": [
        "model.compile(loss=\"sparse_categorical_crossentropy\",\n",
        "              optimizer=keras.optimizers.SGD(lr=1e-3),\n",
        "              metrics=[\"accuracy\"])"
      ],
      "execution_count": null,
      "outputs": [
        {
          "output_type": "stream",
          "name": "stderr",
          "text": [
            "/usr/local/lib/python3.7/dist-packages/keras/optimizer_v2/optimizer_v2.py:356: UserWarning: The `lr` argument is deprecated, use `learning_rate` instead.\n",
            "  \"The `lr` argument is deprecated, use `learning_rate` instead.\")\n"
          ]
        }
      ]
    },
    {
      "cell_type": "code",
      "metadata": {
        "id": "1HoIdb7ub-B4",
        "colab": {
          "base_uri": "https://localhost:8080/"
        },
        "outputId": "03b70579-1227-4275-adcf-34b489d6a058"
      },
      "source": [
        "history = model.fit(X_train, y_train, epochs=10,\n",
        "                    validation_data=(X_valid, y_valid))"
      ],
      "execution_count": null,
      "outputs": [
        {
          "output_type": "stream",
          "name": "stdout",
          "text": [
            "Epoch 1/10\n",
            "1719/1719 [==============================] - 10s 6ms/step - loss: 0.8465 - accuracy: 0.7180 - val_loss: 0.5548 - val_accuracy: 0.8138\n",
            "Epoch 2/10\n",
            "1719/1719 [==============================] - 10s 6ms/step - loss: 0.5743 - accuracy: 0.8021 - val_loss: 0.4756 - val_accuracy: 0.8362\n",
            "Epoch 3/10\n",
            "1719/1719 [==============================] - 9s 5ms/step - loss: 0.5178 - accuracy: 0.8199 - val_loss: 0.4404 - val_accuracy: 0.8522\n",
            "Epoch 4/10\n",
            "1719/1719 [==============================] - 9s 5ms/step - loss: 0.4802 - accuracy: 0.8331 - val_loss: 0.4183 - val_accuracy: 0.8580\n",
            "Epoch 5/10\n",
            "1719/1719 [==============================] - 9s 5ms/step - loss: 0.4567 - accuracy: 0.8396 - val_loss: 0.4025 - val_accuracy: 0.8628\n",
            "Epoch 6/10\n",
            "1719/1719 [==============================] - 8s 5ms/step - loss: 0.4392 - accuracy: 0.8459 - val_loss: 0.3908 - val_accuracy: 0.8672\n",
            "Epoch 7/10\n",
            "1719/1719 [==============================] - 9s 5ms/step - loss: 0.4258 - accuracy: 0.8508 - val_loss: 0.3807 - val_accuracy: 0.8714\n",
            "Epoch 8/10\n",
            "1719/1719 [==============================] - 9s 5ms/step - loss: 0.4147 - accuracy: 0.8543 - val_loss: 0.3742 - val_accuracy: 0.8746\n",
            "Epoch 9/10\n",
            "1719/1719 [==============================] - 9s 5ms/step - loss: 0.4032 - accuracy: 0.8572 - val_loss: 0.3686 - val_accuracy: 0.8742\n",
            "Epoch 10/10\n",
            "1719/1719 [==============================] - 9s 5ms/step - loss: 0.3918 - accuracy: 0.8613 - val_loss: 0.3636 - val_accuracy: 0.8778\n"
          ]
        }
      ]
    },
    {
      "cell_type": "markdown",
      "metadata": {
        "id": "FGH4T7pnf_1x"
      },
      "source": [
        "배치 정규화 층을 활성화 함수 이후에 추가하는게 좋은지, 이전에 추가하는게 좋은지의 논란이 있기 때문에 <br>두가지 모두 실험해보고 더 좋은것을 선택하자."
      ]
    },
    {
      "cell_type": "code",
      "metadata": {
        "id": "9Z4JV14jb_W8",
        "colab": {
          "base_uri": "https://localhost:8080/",
          "height": 91
        },
        "outputId": "95e03f59-c346-41a4-dd4f-b7bf67dd9461"
      },
      "source": [
        "# 케라스로 배치 정규화 구현(배치 정규화 층이 은닉층의 활성화 함수 이후)\n",
        "model = keras.models.Sequential([\n",
        "    keras.layers.Flatten(input_shape=[28, 28]),\n",
        "    keras.layers.BatchNormalization(),\n",
        "    keras.layers.Dense(300, activation=\"relu\"),\n",
        "    keras.layers.BatchNormalization(),\n",
        "    keras.layers.Dense(100, activation=\"relu\"),\n",
        "    keras.layers.BatchNormalization(),\n",
        "    keras.layers.Dense(10, activation=\"softmax\")\n",
        "])\n",
        "'''model = keras.models.Sequential([\n",
        "    keras.layers.Flatten(input_shape=[28, 28]),\n",
        "    keras.layers.BatchNormalization(),\n",
        "    keras.layers.Dense(300, use_bias=False),    # 배치 정규화 층에서 이동 파라미터 포함하니까 편향 빼기\n",
        "    keras.layers.BatchNormalization(),      # 정규화를 하고 활성화 함수를 돌리느냐 아니면 활성화함수까지 돌리고 한번에 정규화하느냐의 차이\n",
        "    keras.layers.Activation(\"relu\"),\n",
        "    keras.layers.Dense(100, use_bias=False),    \n",
        "    keras.layers.BatchNormalization(),\n",
        "    keras.layers.Activation(\"relu\"),\n",
        "    keras.layers.Dense(10, activation=\"softmax\")\n",
        "])'''"
      ],
      "execution_count": null,
      "outputs": [
        {
          "output_type": "execute_result",
          "data": {
            "application/vnd.google.colaboratory.intrinsic+json": {
              "type": "string"
            },
            "text/plain": [
              "'model = keras.models.Sequential([\\n    keras.layers.Flatten(input_shape=[28, 28]),\\n    keras.layers.BatchNormalization(),\\n    keras.layers.Dense(300, use_bias=False),    # 배치 정규화 층에서 이동 파라미터 포함하니까 편향 빼기\\n    keras.layers.BatchNormalization(),      # 정규화를 하고 활성화 함수를 돌리느냐 아니면 활성화함수까지 돌리고 한번에 정규화하느냐의 차이\\n    keras.layers.Activation(\"relu\"),\\n    keras.layers.Dense(100, use_bias=False),    \\n    keras.layers.BatchNormalization(),\\n    keras.layers.Activation(\"relu\"),\\n    keras.layers.Dense(10, activation=\"softmax\")\\n])'"
            ]
          },
          "metadata": {},
          "execution_count": 32
        }
      ]
    },
    {
      "cell_type": "markdown",
      "metadata": {
        "id": "iKxerxwOgkE1"
      },
      "source": [
        "활성화 함수 전에 배치 정규화 층을 추가하려면 은닉층에서 활성화 함수를 지정하지 말고 배치 정규화층 뒤에 따로 층을 만들어서 추가해야한다."
      ]
    },
    {
      "cell_type": "markdown",
      "metadata": {
        "id": "rJpN39kMhfOL"
      },
      "source": [
        "batchnormalization 클래스 하이퍼파라미터\n",
        "* momentum\n",
        "<br> : 이동 평균 업데이트 할 때 사용\n",
        "<br> : 일반적으로 1에 가까움(0.9,0.99 등)\n",
        "\n",
        "* axis\n",
        "<br> : 정규화할 축을 결정"
      ]
    },
    {
      "cell_type": "markdown",
      "metadata": {
        "id": "BkIe6h-Nj_lM"
      },
      "source": [
        "##11.1.4 그레이디언트 클리핑"
      ]
    },
    {
      "cell_type": "markdown",
      "metadata": {
        "id": "Cv84rWP3kD-S"
      },
      "source": [
        "* 그레이디언트 클리핑(gradient clipping)\n",
        "<br> 역전파될 때 일정 임곗값을 넘어서지 못하게 그레이디언트를 잘라내는 방법"
      ]
    },
    {
      "cell_type": "code",
      "metadata": {
        "id": "zlfQvj5ggrtM"
      },
      "source": [
        "# 그레이디언트 클리핑 구현방법1(그레이디언트 벡터의 방향을 바꾸고 싶을 때)\n",
        "optimizer = keras.optimizers.SGD(clipvalue=1.0)     "
      ],
      "execution_count": null,
      "outputs": []
    },
    {
      "cell_type": "code",
      "metadata": {
        "id": "aEBQQZVZkYcM"
      },
      "source": [
        "# 그레이디언트 클리핑 구현방법2(그레이디언트 벡터의 방향을 바꾸지 않을 때)\n",
        "optimizer = keras.optimizers.SGD(clipnorm=1.0)"
      ],
      "execution_count": null,
      "outputs": []
    },
    {
      "cell_type": "markdown",
      "metadata": {
        "id": "lYr9xiNllq0N"
      },
      "source": [
        "매개변수를 1로 설정하면 그레이디언트 벡터의 모든 원소를 -1과 1 사이로 자른다는 뜻이다.\n",
        "<br> 순환 신경망에서는 배치 정규화를 적용하기 어려워서 그레이디언트 클리핑 방법을 많이 사용한다고 한다."
      ]
    },
    {
      "cell_type": "markdown",
      "metadata": {
        "id": "WGjNzgrbmVVy"
      },
      "source": [
        "# 11.2 사전훈련된 층 재사용하기"
      ]
    },
    {
      "cell_type": "markdown",
      "metadata": {
        "id": "_XMxsBq1mkuI"
      },
      "source": [
        "* 전이 학습(transfer learning)\n",
        "<br> 이미 만든 신경망의 하위층을 재사용하는 것\n",
        "<br> => 훈련속도↑, 필요한 훈련 데이터 수↓"
      ]
    },
    {
      "cell_type": "markdown",
      "metadata": {
        "id": "tpfWtw-ln4TX"
      },
      "source": [
        "##11.2.1 케라스를 사용한 전이 학습"
      ]
    },
    {
      "cell_type": "markdown",
      "metadata": {
        "id": "rJH0MBPVpBix"
      },
      "source": [
        "패션 MNIST 훈련 세트를 두 개로 나누어 보자\n",
        "* X_train_A: 샌달과 셔츠(클래스 5와 6)을 제외한 모든 이미지, modelA에 대한 훈련세트\n",
        "* X_train_B: 샌달과 셔츠 이미지 중 처음 200개만 가진 작은 훈련 세트, modelB에 대한 훈련세트\n",
        "\n",
        "검증 세트와 테스트 세트도 이렇게 나눈다."
      ]
    },
    {
      "cell_type": "code",
      "metadata": {
        "id": "BXqlImLFmH_J"
      },
      "source": [
        "def split_dataset(X, y):\n",
        "    y_5_or_6 = (y == 5) | (y == 6)      # 샌들, 셔츠\n",
        "    y_A = y[~y_5_or_6]\n",
        "    y_A[y_A > 6] -= 2       # 7, 8, 9 인덱스 5, 6, 7로 바꿔주기\n",
        "    y_B = (y[y_5_or_6] == 6).astype(np.float32)      # binary classification task: is it a shirt (class 6)?\n",
        "    return ((X[~y_5_or_6], y_A),\n",
        "            (X[y_5_or_6], y_B))\n",
        "\n",
        "(X_train_A, y_train_A), (X_train_B, y_train_B) = split_dataset(X_train, y_train)\n",
        "(X_valid_A, y_valid_A), (X_valid_B, y_valid_B) = split_dataset(X_valid, y_valid)\n",
        "(X_test_A, y_test_A), (X_test_B, y_test_B) = split_dataset(X_test, y_test)\n",
        "X_train_B = X_train_B[:200]     # 초반 200개만 선택\n",
        "y_train_B = y_train_B[:200]"
      ],
      "execution_count": null,
      "outputs": []
    },
    {
      "cell_type": "code",
      "metadata": {
        "id": "Yibt03swoejb"
      },
      "source": [
        "tf.random.set_seed(42)\n",
        "np.random.seed(42)"
      ],
      "execution_count": null,
      "outputs": []
    },
    {
      "cell_type": "code",
      "metadata": {
        "id": "UGaexmuRof3q"
      },
      "source": [
        "# 패션 MNIST 데이터셋 분류 모델(샌들과 셔츠 제외) 만들기 = 모델 A\n",
        "model_A = keras.models.Sequential()\n",
        "model_A.add(keras.layers.Flatten(input_shape=[28, 28]))\n",
        "for n_hidden in (300, 100, 50, 50, 50):\n",
        "    model_A.add(keras.layers.Dense(n_hidden, activation=\"selu\"))     # 은닉층에 selu 활성화 함수 사용\n",
        "model_A.add(keras.layers.Dense(8, activation=\"softmax\"))             # 출력층에는 softmax 사용"
      ],
      "execution_count": null,
      "outputs": []
    },
    {
      "cell_type": "code",
      "metadata": {
        "id": "49zjoffHohGO",
        "colab": {
          "base_uri": "https://localhost:8080/"
        },
        "outputId": "5fe22444-8b66-4aa4-8011-8212b82db468"
      },
      "source": [
        "model_A.compile(loss=\"sparse_categorical_crossentropy\",     \n",
        "                optimizer=keras.optimizers.SGD(lr=1e-3),\n",
        "                metrics=[\"accuracy\"])"
      ],
      "execution_count": null,
      "outputs": [
        {
          "output_type": "stream",
          "name": "stderr",
          "text": [
            "/usr/local/lib/python3.7/dist-packages/keras/optimizer_v2/optimizer_v2.py:356: UserWarning: The `lr` argument is deprecated, use `learning_rate` instead.\n",
            "  \"The `lr` argument is deprecated, use `learning_rate` instead.\")\n"
          ]
        }
      ]
    },
    {
      "cell_type": "code",
      "metadata": {
        "id": "HWJmiFiGoiLr",
        "colab": {
          "base_uri": "https://localhost:8080/"
        },
        "outputId": "92d9447d-f788-45a6-9e20-99a5b1903777"
      },
      "source": [
        "history = model_A.fit(X_train_A, y_train_A, epochs=20,\n",
        "                    validation_data=(X_valid_A, y_valid_A))"
      ],
      "execution_count": null,
      "outputs": [
        {
          "output_type": "stream",
          "name": "stdout",
          "text": [
            "Epoch 1/20\n",
            "1375/1375 [==============================] - 5s 3ms/step - loss: 0.5927 - accuracy: 0.8104 - val_loss: 0.3896 - val_accuracy: 0.8667\n",
            "Epoch 2/20\n",
            "1375/1375 [==============================] - 5s 3ms/step - loss: 0.3523 - accuracy: 0.8786 - val_loss: 0.3289 - val_accuracy: 0.8824\n",
            "Epoch 3/20\n",
            "1375/1375 [==============================] - 4s 3ms/step - loss: 0.3170 - accuracy: 0.8896 - val_loss: 0.3014 - val_accuracy: 0.8989\n",
            "Epoch 4/20\n",
            "1375/1375 [==============================] - 5s 3ms/step - loss: 0.2973 - accuracy: 0.8975 - val_loss: 0.2894 - val_accuracy: 0.9021\n",
            "Epoch 5/20\n",
            "1375/1375 [==============================] - 4s 3ms/step - loss: 0.2835 - accuracy: 0.9022 - val_loss: 0.2776 - val_accuracy: 0.9066\n",
            "Epoch 6/20\n",
            "1375/1375 [==============================] - 4s 3ms/step - loss: 0.2729 - accuracy: 0.9061 - val_loss: 0.2735 - val_accuracy: 0.9071\n",
            "Epoch 7/20\n",
            "1375/1375 [==============================] - 4s 3ms/step - loss: 0.2641 - accuracy: 0.9093 - val_loss: 0.2720 - val_accuracy: 0.9086\n",
            "Epoch 8/20\n",
            "1375/1375 [==============================] - 4s 3ms/step - loss: 0.2573 - accuracy: 0.9126 - val_loss: 0.2588 - val_accuracy: 0.9145\n",
            "Epoch 9/20\n",
            "1375/1375 [==============================] - 4s 3ms/step - loss: 0.2518 - accuracy: 0.9136 - val_loss: 0.2562 - val_accuracy: 0.9143\n",
            "Epoch 10/20\n",
            "1375/1375 [==============================] - 4s 3ms/step - loss: 0.2469 - accuracy: 0.9154 - val_loss: 0.2541 - val_accuracy: 0.9160\n",
            "Epoch 11/20\n",
            "1375/1375 [==============================] - 5s 3ms/step - loss: 0.2423 - accuracy: 0.9177 - val_loss: 0.2496 - val_accuracy: 0.9153\n",
            "Epoch 12/20\n",
            "1375/1375 [==============================] - 4s 3ms/step - loss: 0.2382 - accuracy: 0.9189 - val_loss: 0.2514 - val_accuracy: 0.9126\n",
            "Epoch 13/20\n",
            "1375/1375 [==============================] - 4s 3ms/step - loss: 0.2351 - accuracy: 0.9198 - val_loss: 0.2446 - val_accuracy: 0.9165\n",
            "Epoch 14/20\n",
            "1375/1375 [==============================] - 5s 3ms/step - loss: 0.2316 - accuracy: 0.9214 - val_loss: 0.2416 - val_accuracy: 0.9175\n",
            "Epoch 15/20\n",
            "1375/1375 [==============================] - 4s 3ms/step - loss: 0.2288 - accuracy: 0.9212 - val_loss: 0.2447 - val_accuracy: 0.9188\n",
            "Epoch 16/20\n",
            "1375/1375 [==============================] - 5s 3ms/step - loss: 0.2255 - accuracy: 0.9225 - val_loss: 0.2386 - val_accuracy: 0.9203\n",
            "Epoch 17/20\n",
            "1375/1375 [==============================] - 5s 3ms/step - loss: 0.2231 - accuracy: 0.9233 - val_loss: 0.2410 - val_accuracy: 0.9180\n",
            "Epoch 18/20\n",
            "1375/1375 [==============================] - 5s 3ms/step - loss: 0.2201 - accuracy: 0.9245 - val_loss: 0.2427 - val_accuracy: 0.9153\n",
            "Epoch 19/20\n",
            "1375/1375 [==============================] - 5s 3ms/step - loss: 0.2178 - accuracy: 0.9252 - val_loss: 0.2330 - val_accuracy: 0.9203\n",
            "Epoch 20/20\n",
            "1375/1375 [==============================] - 4s 3ms/step - loss: 0.2156 - accuracy: 0.9261 - val_loss: 0.2333 - val_accuracy: 0.9203\n"
          ]
        }
      ]
    },
    {
      "cell_type": "code",
      "metadata": {
        "id": "PO0Ib-fWojaU"
      },
      "source": [
        "model_A.save(\"my_model_A.h5\")"
      ],
      "execution_count": null,
      "outputs": []
    },
    {
      "cell_type": "code",
      "metadata": {
        "id": "WRjJcfJ6omLv"
      },
      "source": [
        "# 샌들과 셔츠 이미지 구분하는 이진 분류기 = 모델 B(모델 A와 구조 거의 비슷)\n",
        "model_B = keras.models.Sequential()\n",
        "model_B.add(keras.layers.Flatten(input_shape=[28, 28]))\n",
        "for n_hidden in (300, 100, 50, 50, 50):\n",
        "    model_B.add(keras.layers.Dense(n_hidden, activation=\"selu\"))\n",
        "model_B.add(keras.layers.Dense(1, activation=\"sigmoid\"))        # 출력층에 sigmoid 사용(model A와 다른점)"
      ],
      "execution_count": null,
      "outputs": []
    },
    {
      "cell_type": "code",
      "metadata": {
        "id": "TGCYvSp7onVl",
        "colab": {
          "base_uri": "https://localhost:8080/"
        },
        "outputId": "565516b6-8ceb-42ab-a954-204e3af2c28e"
      },
      "source": [
        "model_B.compile(loss=\"binary_crossentropy\",     # 손실함수로 이진 크로스엔트로피 사용(modelA와 다른점)\n",
        "                optimizer=keras.optimizers.SGD(lr=1e-3),\n",
        "                metrics=[\"accuracy\"])"
      ],
      "execution_count": null,
      "outputs": [
        {
          "output_type": "stream",
          "name": "stderr",
          "text": [
            "/usr/local/lib/python3.7/dist-packages/keras/optimizer_v2/optimizer_v2.py:356: UserWarning: The `lr` argument is deprecated, use `learning_rate` instead.\n",
            "  \"The `lr` argument is deprecated, use `learning_rate` instead.\")\n"
          ]
        }
      ]
    },
    {
      "cell_type": "code",
      "metadata": {
        "id": "GGJwcXfAoowz",
        "colab": {
          "base_uri": "https://localhost:8080/"
        },
        "outputId": "d0769b3e-fe0f-45a6-99f8-ae256954f8bd"
      },
      "source": [
        "history = model_B.fit(X_train_B, y_train_B, epochs=20,\n",
        "                      validation_data=(X_valid_B, y_valid_B))"
      ],
      "execution_count": null,
      "outputs": [
        {
          "output_type": "stream",
          "name": "stdout",
          "text": [
            "Epoch 1/20\n",
            "7/7 [==============================] - 1s 36ms/step - loss: 0.9573 - accuracy: 0.4650 - val_loss: 0.6314 - val_accuracy: 0.6004\n",
            "Epoch 2/20\n",
            "7/7 [==============================] - 0s 16ms/step - loss: 0.5692 - accuracy: 0.7450 - val_loss: 0.4784 - val_accuracy: 0.8529\n",
            "Epoch 3/20\n",
            "7/7 [==============================] - 0s 13ms/step - loss: 0.4503 - accuracy: 0.8650 - val_loss: 0.4102 - val_accuracy: 0.8945\n",
            "Epoch 4/20\n",
            "7/7 [==============================] - 0s 15ms/step - loss: 0.3879 - accuracy: 0.8950 - val_loss: 0.3647 - val_accuracy: 0.9178\n",
            "Epoch 5/20\n",
            "7/7 [==============================] - 0s 18ms/step - loss: 0.3435 - accuracy: 0.9250 - val_loss: 0.3300 - val_accuracy: 0.9320\n",
            "Epoch 6/20\n",
            "7/7 [==============================] - 0s 17ms/step - loss: 0.3081 - accuracy: 0.9300 - val_loss: 0.3019 - val_accuracy: 0.9402\n",
            "Epoch 7/20\n",
            "7/7 [==============================] - 0s 16ms/step - loss: 0.2800 - accuracy: 0.9350 - val_loss: 0.2804 - val_accuracy: 0.9422\n",
            "Epoch 8/20\n",
            "7/7 [==============================] - 0s 13ms/step - loss: 0.2564 - accuracy: 0.9450 - val_loss: 0.2606 - val_accuracy: 0.9473\n",
            "Epoch 9/20\n",
            "7/7 [==============================] - 0s 15ms/step - loss: 0.2362 - accuracy: 0.9550 - val_loss: 0.2428 - val_accuracy: 0.9523\n",
            "Epoch 10/20\n",
            "7/7 [==============================] - 0s 13ms/step - loss: 0.2188 - accuracy: 0.9600 - val_loss: 0.2281 - val_accuracy: 0.9544\n",
            "Epoch 11/20\n",
            "7/7 [==============================] - 0s 14ms/step - loss: 0.2036 - accuracy: 0.9700 - val_loss: 0.2150 - val_accuracy: 0.9584\n",
            "Epoch 12/20\n",
            "7/7 [==============================] - 0s 16ms/step - loss: 0.1898 - accuracy: 0.9700 - val_loss: 0.2036 - val_accuracy: 0.9584\n",
            "Epoch 13/20\n",
            "7/7 [==============================] - 0s 14ms/step - loss: 0.1773 - accuracy: 0.9750 - val_loss: 0.1931 - val_accuracy: 0.9615\n",
            "Epoch 14/20\n",
            "7/7 [==============================] - 0s 14ms/step - loss: 0.1668 - accuracy: 0.9800 - val_loss: 0.1838 - val_accuracy: 0.9635\n",
            "Epoch 15/20\n",
            "7/7 [==============================] - 0s 14ms/step - loss: 0.1570 - accuracy: 0.9900 - val_loss: 0.1746 - val_accuracy: 0.9686\n",
            "Epoch 16/20\n",
            "7/7 [==============================] - 0s 14ms/step - loss: 0.1481 - accuracy: 0.9900 - val_loss: 0.1674 - val_accuracy: 0.9686\n",
            "Epoch 17/20\n",
            "7/7 [==============================] - 0s 16ms/step - loss: 0.1406 - accuracy: 0.9900 - val_loss: 0.1604 - val_accuracy: 0.9706\n",
            "Epoch 18/20\n",
            "7/7 [==============================] - 0s 17ms/step - loss: 0.1334 - accuracy: 0.9900 - val_loss: 0.1539 - val_accuracy: 0.9706\n",
            "Epoch 19/20\n",
            "7/7 [==============================] - 0s 14ms/step - loss: 0.1268 - accuracy: 0.9900 - val_loss: 0.1482 - val_accuracy: 0.9716\n",
            "Epoch 20/20\n",
            "7/7 [==============================] - 0s 14ms/step - loss: 0.1208 - accuracy: 0.9900 - val_loss: 0.1431 - val_accuracy: 0.9716\n"
          ]
        }
      ]
    },
    {
      "cell_type": "code",
      "metadata": {
        "id": "mJOV_G3CoqAm",
        "colab": {
          "base_uri": "https://localhost:8080/"
        },
        "outputId": "c5bfeda8-2028-47a2-c99e-0adca6c0e65e"
      },
      "source": [
        "model.summary()"
      ],
      "execution_count": null,
      "outputs": [
        {
          "output_type": "stream",
          "name": "stdout",
          "text": [
            "Model: \"sequential_5\"\n",
            "_________________________________________________________________\n",
            "Layer (type)                 Output Shape              Param #   \n",
            "=================================================================\n",
            "flatten_5 (Flatten)          (None, 784)               0         \n",
            "_________________________________________________________________\n",
            "batch_normalization_3 (Batch (None, 784)               3136      \n",
            "_________________________________________________________________\n",
            "dense_18 (Dense)             (None, 300)               235500    \n",
            "_________________________________________________________________\n",
            "batch_normalization_4 (Batch (None, 300)               1200      \n",
            "_________________________________________________________________\n",
            "dense_19 (Dense)             (None, 100)               30100     \n",
            "_________________________________________________________________\n",
            "batch_normalization_5 (Batch (None, 100)               400       \n",
            "_________________________________________________________________\n",
            "dense_20 (Dense)             (None, 10)                1010      \n",
            "=================================================================\n",
            "Total params: 271,346\n",
            "Trainable params: 268,978\n",
            "Non-trainable params: 2,368\n",
            "_________________________________________________________________\n"
          ]
        }
      ]
    },
    {
      "cell_type": "code",
      "metadata": {
        "id": "XUBqunqRosVI"
      },
      "source": [
        "# 모델 A를 기반으로 새로운 모델 model_B_on_A 만들기\n",
        "model_A = keras.models.load_model(\"my_model_A.h5\")\n",
        "model_B_on_A = keras.models.Sequential(model_A.layers[:-1])     # 모델 A의 출력층을 제외한 모든 층 재사용\n",
        "model_B_on_A.add(keras.layers.Dense(1, activation=\"sigmoid\"))   # 출력층 새로 추가(sigmoid사용)"
      ],
      "execution_count": null,
      "outputs": []
    },
    {
      "cell_type": "markdown",
      "metadata": {
        "id": "FqXFUICuGNNr"
      },
      "source": [
        "model_B_on_A 훈련할 때 model A도 영향을 받기 때문에 층을 재사용하기 전에 복제해야한다.\n"
      ]
    },
    {
      "cell_type": "code",
      "metadata": {
        "id": "n7gY-VpCot3o"
      },
      "source": [
        "model_A_clone = keras.models.clone_model(model_A)       # clone_model 메서드를 사용하여 구조 복제(가중치 복제 따로 해줘야함!!!!!)\n",
        "model_A_clone.set_weights(model_A.get_weights())        # 가중치 복제"
      ],
      "execution_count": null,
      "outputs": []
    },
    {
      "cell_type": "markdown",
      "metadata": {
        "id": "uv-m66HiHitQ"
      },
      "source": [
        "새로운 출력층이 랜덤하게 초기화되어 있기 때문에 초반 몇 번의 에포크 동안에는 큰 오차를 만들것이다.\n",
        "<br> 이 오차가 재사용된 가중치(modelA에서 가져온 가중치)를 망칠 수 있기 때문에 <br>처음 몇번은 재사용된 층을 동결하고 새로운 층에 적절한 가중치를 학습할 시간을 줘야한다."
      ]
    },
    {
      "cell_type": "code",
      "metadata": {
        "id": "WORwvGYBovL9",
        "colab": {
          "base_uri": "https://localhost:8080/"
        },
        "outputId": "16fcefb6-41be-4bf4-b165-dabd1b25131b"
      },
      "source": [
        "for layer in model_B_on_A.layers[:-1]:\n",
        "    layer.trainable = False         # 재사용층 동결\n",
        "\n",
        "model_B_on_A.compile(loss=\"binary_crossentropy\",\n",
        "                     optimizer=keras.optimizers.SGD(lr=1e-3),\n",
        "                     metrics=[\"accuracy\"])"
      ],
      "execution_count": null,
      "outputs": [
        {
          "output_type": "stream",
          "name": "stderr",
          "text": [
            "/usr/local/lib/python3.7/dist-packages/keras/optimizer_v2/optimizer_v2.py:356: UserWarning: The `lr` argument is deprecated, use `learning_rate` instead.\n",
            "  \"The `lr` argument is deprecated, use `learning_rate` instead.\")\n"
          ]
        }
      ]
    },
    {
      "cell_type": "markdown",
      "metadata": {
        "id": "NdCzBmhSIVMN"
      },
      "source": [
        "※ 재사용층을 동결하거나 동결 해제하고 나서 반드시 모델을 컴파일해야한다!!!!!!!"
      ]
    },
    {
      "cell_type": "code",
      "metadata": {
        "id": "PuLElI4BowXw",
        "colab": {
          "base_uri": "https://localhost:8080/"
        },
        "outputId": "6b68db82-617a-4240-dbff-2bfccaa0d2fa"
      },
      "source": [
        "history = model_B_on_A.fit(X_train_B, y_train_B, epochs=4,\n",
        "                           validation_data=(X_valid_B, y_valid_B))      # 동결하고 몇번 훈련 돌리고\n",
        "\n",
        "for layer in model_B_on_A.layers[:-1]:\n",
        "    layer.trainable = True      # 재사용층 동결 해제\n",
        "\n",
        "model_B_on_A.compile(loss=\"binary_crossentropy\",\n",
        "                     optimizer=keras.optimizers.SGD(lr=1e-4),   # 동결 해제한 후에 학습률을 낮추는게 좋다 => 재사용된 가중치가 망가지는것 막아줌\n",
        "                     metrics=[\"accuracy\"])\n",
        "history = model_B_on_A.fit(X_train_B, y_train_B, epochs=16,     # 동결 해제하고 마저 돌리기\n",
        "                           validation_data=(X_valid_B, y_valid_B))"
      ],
      "execution_count": null,
      "outputs": [
        {
          "output_type": "stream",
          "name": "stdout",
          "text": [
            "Epoch 1/4\n",
            "7/7 [==============================] - 1s 35ms/step - loss: 0.5728 - accuracy: 0.6550 - val_loss: 0.5777 - val_accuracy: 0.6389\n",
            "Epoch 2/4\n",
            "7/7 [==============================] - 0s 11ms/step - loss: 0.5370 - accuracy: 0.6850 - val_loss: 0.5409 - val_accuracy: 0.6836\n",
            "Epoch 3/4\n",
            "7/7 [==============================] - 0s 12ms/step - loss: 0.5008 - accuracy: 0.7300 - val_loss: 0.5094 - val_accuracy: 0.7130\n",
            "Epoch 4/4\n",
            "7/7 [==============================] - 0s 16ms/step - loss: 0.4699 - accuracy: 0.7500 - val_loss: 0.4812 - val_accuracy: 0.7343\n",
            "Epoch 1/16\n"
          ]
        },
        {
          "output_type": "stream",
          "name": "stderr",
          "text": [
            "/usr/local/lib/python3.7/dist-packages/keras/optimizer_v2/optimizer_v2.py:356: UserWarning: The `lr` argument is deprecated, use `learning_rate` instead.\n",
            "  \"The `lr` argument is deprecated, use `learning_rate` instead.\")\n"
          ]
        },
        {
          "output_type": "stream",
          "name": "stdout",
          "text": [
            "7/7 [==============================] - 1s 38ms/step - loss: 0.4454 - accuracy: 0.7750 - val_loss: 0.4637 - val_accuracy: 0.7546\n",
            "Epoch 2/16\n",
            "7/7 [==============================] - 0s 16ms/step - loss: 0.4275 - accuracy: 0.8100 - val_loss: 0.4453 - val_accuracy: 0.7677\n",
            "Epoch 3/16\n",
            "7/7 [==============================] - 0s 16ms/step - loss: 0.4089 - accuracy: 0.8200 - val_loss: 0.4288 - val_accuracy: 0.7799\n",
            "Epoch 4/16\n",
            "7/7 [==============================] - 0s 17ms/step - loss: 0.3925 - accuracy: 0.8250 - val_loss: 0.4139 - val_accuracy: 0.7951\n",
            "Epoch 5/16\n",
            "7/7 [==============================] - 0s 14ms/step - loss: 0.3777 - accuracy: 0.8400 - val_loss: 0.3994 - val_accuracy: 0.8103\n",
            "Epoch 6/16\n",
            "7/7 [==============================] - 0s 16ms/step - loss: 0.3631 - accuracy: 0.8450 - val_loss: 0.3857 - val_accuracy: 0.8286\n",
            "Epoch 7/16\n",
            "7/7 [==============================] - 0s 16ms/step - loss: 0.3495 - accuracy: 0.8600 - val_loss: 0.3734 - val_accuracy: 0.8408\n",
            "Epoch 8/16\n",
            "7/7 [==============================] - 0s 16ms/step - loss: 0.3371 - accuracy: 0.8700 - val_loss: 0.3619 - val_accuracy: 0.8499\n",
            "Epoch 9/16\n",
            "7/7 [==============================] - 0s 16ms/step - loss: 0.3256 - accuracy: 0.8900 - val_loss: 0.3500 - val_accuracy: 0.8621\n",
            "Epoch 10/16\n",
            "7/7 [==============================] - 0s 13ms/step - loss: 0.3139 - accuracy: 0.8950 - val_loss: 0.3403 - val_accuracy: 0.8671\n",
            "Epoch 11/16\n",
            "7/7 [==============================] - 0s 16ms/step - loss: 0.3042 - accuracy: 0.9150 - val_loss: 0.3306 - val_accuracy: 0.8763\n",
            "Epoch 12/16\n",
            "7/7 [==============================] - 0s 16ms/step - loss: 0.2945 - accuracy: 0.9150 - val_loss: 0.3213 - val_accuracy: 0.8824\n",
            "Epoch 13/16\n",
            "7/7 [==============================] - 0s 18ms/step - loss: 0.2852 - accuracy: 0.9250 - val_loss: 0.3121 - val_accuracy: 0.8895\n",
            "Epoch 14/16\n",
            "7/7 [==============================] - 0s 16ms/step - loss: 0.2762 - accuracy: 0.9350 - val_loss: 0.3044 - val_accuracy: 0.8935\n",
            "Epoch 15/16\n",
            "7/7 [==============================] - 0s 16ms/step - loss: 0.2685 - accuracy: 0.9450 - val_loss: 0.2964 - val_accuracy: 0.8996\n",
            "Epoch 16/16\n",
            "7/7 [==============================] - 0s 13ms/step - loss: 0.2608 - accuracy: 0.9450 - val_loss: 0.2891 - val_accuracy: 0.9077\n"
          ]
        }
      ]
    },
    {
      "cell_type": "code",
      "metadata": {
        "id": "GWSVvEP6oyKL",
        "colab": {
          "base_uri": "https://localhost:8080/"
        },
        "outputId": "6230e32d-27d5-4899-9d58-66b419568f29"
      },
      "source": [
        "model_B.evaluate(X_test_B, y_test_B)        # modelB의 [오차율, 정확도]"
      ],
      "execution_count": null,
      "outputs": [
        {
          "output_type": "stream",
          "name": "stdout",
          "text": [
            "63/63 [==============================] - 0s 2ms/step - loss: 0.1408 - accuracy: 0.9705\n"
          ]
        },
        {
          "output_type": "execute_result",
          "data": {
            "text/plain": [
              "[0.1408407837152481, 0.9704999923706055]"
            ]
          },
          "metadata": {},
          "execution_count": 49
        }
      ]
    },
    {
      "cell_type": "code",
      "metadata": {
        "id": "Tk6yu-5io0E1",
        "colab": {
          "base_uri": "https://localhost:8080/"
        },
        "outputId": "53cb198d-c305-4716-cf48-72310f5b5b4e"
      },
      "source": [
        "model_B_on_A.evaluate(X_test_B, y_test_B)   # modelBonA의 [오차율, 정확도]"
      ],
      "execution_count": null,
      "outputs": [
        {
          "output_type": "stream",
          "name": "stdout",
          "text": [
            "63/63 [==============================] - 0s 2ms/step - loss: 0.2877 - accuracy: 0.9100\n"
          ]
        },
        {
          "output_type": "execute_result",
          "data": {
            "text/plain": [
              "[0.2876671254634857, 0.9100000262260437]"
            ]
          },
          "metadata": {},
          "execution_count": 50
        }
      ]
    },
    {
      "cell_type": "code",
      "metadata": {
        "id": "gf_AuQjgo1Mc",
        "colab": {
          "base_uri": "https://localhost:8080/"
        },
        "outputId": "24eea384-048f-49fe-c9b1-63b9a4cb26f8"
      },
      "source": [
        "(100 - 97.05) / (100 - 99.45)"
      ],
      "execution_count": null,
      "outputs": [
        {
          "output_type": "execute_result",
          "data": {
            "text/plain": [
              "5.363636363636396"
            ]
          },
          "metadata": {},
          "execution_count": 51
        }
      ]
    },
    {
      "cell_type": "markdown",
      "metadata": {
        "id": "y19WTh0oLwKw"
      },
      "source": [
        "오차율이 5배나 줄었다고 생각할 수 있지만, 타깃 클래스나 랜덤 초기값을 바꾸면 성능이 떨어질 것이다.\n",
        "<br> 전이 학습은 '작은 완전 연결 네트워크'에서는 잘 동작하지 않고, \n",
        "<br> 조금 더 일반적인 특성을 감지하는 경향이 있는 '심층 합성곱 신경망'에서 잘 동작한다."
      ]
    },
    {
      "cell_type": "markdown",
      "metadata": {
        "id": "R6KX_M5eM_cB"
      },
      "source": [
        "##11.2.2 비지도 사전훈련"
      ]
    },
    {
      "cell_type": "markdown",
      "metadata": {
        "id": "IfLqbPSpN7O5"
      },
      "source": [
        "풀어야 할 문제가 복잡 & 재사용할 수 있는 비슷한 모델X & 레이블된 훈련 데이터가 많지 않은 경우\n",
        "<br> => 비지도 사전훈련(unsupervised pretraining) 사용\n",
        "> 1. 레이블되지 않은 훈련 데이터를 가지고 오토인코더(autoencoder)나 생성적 적대 신경망(17장에서 배웁니다) 같은 비지도 학습 모델을 훈련\n",
        "2. 위에서 말한 비지도 학습 모델의 하위층을 재사용하고 그 위에 맞는 출력층 추가\n",
        "3. 레이블된 훈련 샘플(지도학습으로)을 가지고 최종 네트워크를 튜닝\n"
      ]
    },
    {
      "cell_type": "markdown",
      "metadata": {
        "id": "YTefuD0_Rz17"
      },
      "source": [
        "##11.2.3 보조 작업에서 사전훈련"
      ]
    },
    {
      "cell_type": "markdown",
      "metadata": {
        "id": "6cWrLTAoUeyK"
      },
      "source": [
        "레이블된 훈련 데이터가 많지 않은 경우, 비지도 사전훈련 방법 말고 다른 방법이 하나 더 있다.\n",
        "<br> 레이블된 훈련 데이터를 쉽게 얻거나 생성할 수 있는 '보조 작업'에서 첫번째 신경망을 학습하고 재사용하는 것이다.\n",
        "<br> (여기서 첫번째 신경망의 하위층은 다음 신경망에 재사용될 수 있는 특성 추출기를 학습하게된다.)"
      ]
    },
    {
      "cell_type": "markdown",
      "metadata": {
        "id": "c-3Jx3I4Ueu5"
      },
      "source": [
        "# 11.3 고속 옵티마이저"
      ]
    },
    {
      "cell_type": "markdown",
      "metadata": {
        "id": "tdqNyeETUer1"
      },
      "source": [
        "심층 신경망의 훈련 속도 높이는 방법\n",
        "1. 연결 가중치에 좋은 초기화 전략 사용하기\n",
        "2. 좋은 활성화 함수 사용하기\n",
        "3. 배치 정규화 사용하기\n",
        "4. 사전 훈련된 네트워크의 일부 재사용하기\n",
        "5. 더 빠른 옵티마이저 사용하기"
      ]
    },
    {
      "cell_type": "markdown",
      "metadata": {
        "id": "KrvOozcsUebA"
      },
      "source": [
        "##11.3.1 모멘텀 최적화"
      ]
    },
    {
      "cell_type": "markdown",
      "metadata": {
        "id": "uOXFUS9tbg2y"
      },
      "source": [
        "모멘텀 최적화는 **이전 그레이디언트가 얼마였는지** 중요하게 생각한다."
      ]
    },
    {
      "cell_type": "markdown",
      "metadata": {
        "id": "QkRdKloLheS7"
      },
      "source": [
        "* 모멘텀 알고리즘\n",
        "1. $m ← \\beta m - \\eta \\nabla_{\\theta} J(\\theta)$\n",
        "2. $\\theta ← \\theta + m$\n",
        "> $\\beta$ : 마찰저항(모멘텀이 너무 커지는 것을 막아줌)\n",
        "\n",
        "\n",
        "* 모멘텀 알고리즘\n",
        "1. $v_n = \\alpha v_{n-1} - \\eta \\nabla_{\\theta} J(\\theta)$\n",
        "2. $x_{n+1} = x_n + v_n$\n",
        "> $v_n $ : 현재 속도\n",
        "<br>$x_n$ : 현재 위치\n",
        "<br> $\\alpha$ : 과거 속도의 영향력/비중"
      ]
    },
    {
      "cell_type": "markdown",
      "metadata": {
        "id": "IUY83z-3t0Of"
      },
      "source": [
        "![image.png](data:image/png;base64,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)"
      ]
    },
    {
      "cell_type": "markdown",
      "metadata": {
        "id": "-8wV1CTZmPgk"
      },
      "source": [
        "경사하강법은 가파른 경사는 빠르게 내려가지만 좁고 긴 골짜기 형태에서는 시간이 오래 걸린다. <br> 반면, 모멘텀 최적화는 골짜기를 따라 목표지점(최적점)에 도착할 때까지 점점 더 빠르게 내려간다."
      ]
    },
    {
      "cell_type": "code",
      "metadata": {
        "id": "KTLVHRSvo2tf",
        "colab": {
          "base_uri": "https://localhost:8080/"
        },
        "outputId": "1fb7d904-c00c-46b3-d4ae-2a46af349bb1"
      },
      "source": [
        "# 케라스에서 모멘텀 최적화 구현\n",
        "optimizer = keras.optimizers.SGD(lr=0.001, momentum=0.9)"
      ],
      "execution_count": null,
      "outputs": [
        {
          "output_type": "stream",
          "name": "stderr",
          "text": [
            "/usr/local/lib/python3.7/dist-packages/keras/optimizer_v2/optimizer_v2.py:356: UserWarning: The `lr` argument is deprecated, use `learning_rate` instead.\n",
            "  \"The `lr` argument is deprecated, use `learning_rate` instead.\")\n"
          ]
        }
      ]
    },
    {
      "cell_type": "markdown",
      "metadata": {
        "id": "4iPNbBsIpHgw"
      },
      "source": [
        "##11.3.2 네스테로프 가속 경사(NAG)"
      ]
    },
    {
      "cell_type": "markdown",
      "metadata": {
        "id": "KUGGrFO9pWcb"
      },
      "source": [
        "* 네스테로프 가속 경사 알고리즘\n",
        "1. $m ← \\beta m - \\eta \\nabla_{\\theta} J(\\theta+\\beta m)$\n",
        "2. $\\theta ← \\theta + m$"
      ]
    },
    {
      "cell_type": "markdown",
      "metadata": {
        "id": "_4ZvxlgKt10h"
      },
      "source": [
        "![image.png](data:image/png;base64,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)"
      ]
    },
    {
      "cell_type": "markdown",
      "metadata": {
        "id": "4X1xYajkrQK3"
      },
      "source": [
        "원래 위치에서의 그레이디언트를 사용하는 것보다 그 방향으로 조금 더 가서 측정한 그레이디언트를 사용하는 것이 조금 더 정확할 것이다.\n",
        "<br> (이미 모멘텀 벡터가 올바른 방향을 가리키고 있기 때문에 조금 더 가는 것이 문제되지 않는다.)\n",
        "<br> $\\theta+\\beta m$이 진동을 감소시키고 수렴을 빠르게 만들어주기 때문에 일반적으로 기본 모멘텀 최적화보다 NAG의 훈련 속도가 빠르다.\n"
      ]
    },
    {
      "cell_type": "code",
      "metadata": {
        "id": "dfjMjf-Io96c",
        "colab": {
          "base_uri": "https://localhost:8080/"
        },
        "outputId": "9b9d72d0-0201-4783-c40e-d470b996c222"
      },
      "source": [
        "optimizer = keras.optimizers.SGD(lr=0.001, momentum=0.9, nesterov=True)"
      ],
      "execution_count": null,
      "outputs": [
        {
          "output_type": "stream",
          "name": "stderr",
          "text": [
            "/usr/local/lib/python3.7/dist-packages/keras/optimizer_v2/optimizer_v2.py:356: UserWarning: The `lr` argument is deprecated, use `learning_rate` instead.\n",
            "  \"The `lr` argument is deprecated, use `learning_rate` instead.\")\n"
          ]
        }
      ]
    },
    {
      "cell_type": "markdown",
      "metadata": {
        "id": "pqDPZSdTtXbX"
      },
      "source": [
        "##11.3.3 AdaGrad"
      ]
    },
    {
      "cell_type": "markdown",
      "metadata": {
        "id": "lrIci7MOu7DC"
      },
      "source": [
        "* AdaGrad 알고리즘\n",
        "1. $s ← s + \\nabla_ {\\theta} J(\\theta) \\otimes\\nabla_{\\theta} J(\\theta)$\n",
        "2. $\\theta ← \\theta - \\eta \\nabla_ {\\theta} J(\\theta) \\oslash \\sqrt{s+\\epsilon}$"
      ]
    },
    {
      "cell_type": "markdown",
      "metadata": {
        "id": "sfKTxCg7v8H9"
      },
      "source": [
        "AdaGrad는 **학습률을 감소**시키지만 경사가 완만한 차원보다 가파른 차원에 대해 더 빠르게 감소한다.<br> 이처럼 모델이 최적점에 가까이 갈수록 낮아지는 학습률을 적응적 학습률이라 한다.\n"
      ]
    },
    {
      "cell_type": "markdown",
      "metadata": {
        "id": "sxU9GFmG0GM8"
      },
      "source": [
        "$s$가 과거의 기울기를 제곱해서 더해지는 값이니까 골짜기를 내려가면 갈수록 $s$값은 커지겠죠?\n",
        "<br>그러면 학습률은 경사가 낮아질수록(최적점에 도달할수록) 작아질겁니다!"
      ]
    },
    {
      "cell_type": "markdown",
      "metadata": {
        "id": "Sr9UGQRX0rWV"
      },
      "source": [
        "AdaGrad 알고리즘의 핵심은\n",
        "**가중치마다 학습률이 다르게 적용된다는 것**"
      ]
    },
    {
      "cell_type": "markdown",
      "metadata": {
        "id": "mQe2UE7q0vd_"
      },
      "source": [
        "하지만 학습률이 너무 감소되어 전역 최적점에 도착하기 전에 알고리즘이 멈추는 경우가 많기 때문에 심층 신경망에서는 사용하지 말아야한다.(간단한 작업에는 ok)"
      ]
    },
    {
      "cell_type": "code",
      "metadata": {
        "id": "UoGAUBuqsPXl",
        "colab": {
          "base_uri": "https://localhost:8080/"
        },
        "outputId": "2e168bc0-af77-4abe-9988-53d824715d74"
      },
      "source": [
        "optimizer = keras.optimizers.Adagrad(lr=0.001)"
      ],
      "execution_count": null,
      "outputs": [
        {
          "output_type": "stream",
          "name": "stderr",
          "text": [
            "/usr/local/lib/python3.7/dist-packages/keras/optimizer_v2/optimizer_v2.py:356: UserWarning: The `lr` argument is deprecated, use `learning_rate` instead.\n",
            "  \"The `lr` argument is deprecated, use `learning_rate` instead.\")\n"
          ]
        }
      ]
    },
    {
      "cell_type": "markdown",
      "metadata": {
        "id": "enkUtVIxw91R"
      },
      "source": [
        "##11.3.4 RMSProp"
      ]
    },
    {
      "cell_type": "markdown",
      "metadata": {
        "id": "Fv06qWTC1KPW"
      },
      "source": [
        "RMSProp 알고리즘은 모든 그레이디언트를 누적하는 것이 아니라,\n",
        "<br> 먼 과거의 기울기는 점점 잊고 새로운 기울기 정보를 크게 반영함으로서 AdaGrad 알고리즘의 문제를 해결한다."
      ]
    },
    {
      "cell_type": "markdown",
      "metadata": {
        "id": "RUuhcIz25ZTm"
      },
      "source": [
        "아래의 1번식에서 '지수 감소 평균' 방식을 적용한다.\n",
        "> 지수 감소 평균이란?\n",
        "<br> 데이터의 이동 평균을 구할 때, 오래된 데이터가 미치는 영향을\n",
        "지수적으로 감쇠(exponential decay) 하도록 만들어 주는 방법."
      ]
    },
    {
      "cell_type": "markdown",
      "metadata": {
        "id": "R8g8BZNd1JKV"
      },
      "source": [
        "* RMSProp 알고리즘\n",
        "1. $s ← \\beta s + (1-\\beta)\\nabla_ {\\theta} J(\\theta) \\otimes\\nabla_{\\theta} J(\\theta)$\n",
        "2. $\\theta ← \\theta - \\eta \\nabla_ {\\theta} J(\\theta) \\oslash \\sqrt{s+\\epsilon}$\n",
        "> $\\beta$ : 감쇠율(보통 0.9로 설정)"
      ]
    },
    {
      "cell_type": "markdown",
      "metadata": {
        "id": "Md8KIxpl2SH2"
      },
      "source": [
        "아주 간단한 문제를 제외하고는 RMSProp 알고리즘이 AdaGrad보다 늘, 훨씬 성능이 좋다."
      ]
    },
    {
      "cell_type": "code",
      "metadata": {
        "id": "AZxAfcnTw8t3",
        "colab": {
          "base_uri": "https://localhost:8080/"
        },
        "outputId": "2a097f0f-1649-416e-ad07-3753b24b0e52"
      },
      "source": [
        "optimizer = keras.optimizers.RMSprop(lr=0.001, rho=0.9)"
      ],
      "execution_count": null,
      "outputs": [
        {
          "output_type": "stream",
          "name": "stderr",
          "text": [
            "/usr/local/lib/python3.7/dist-packages/keras/optimizer_v2/optimizer_v2.py:356: UserWarning: The `lr` argument is deprecated, use `learning_rate` instead.\n",
            "  \"The `lr` argument is deprecated, use `learning_rate` instead.\")\n"
          ]
        }
      ]
    },
    {
      "cell_type": "markdown",
      "metadata": {
        "id": "M-Vr9PmA2eBf"
      },
      "source": [
        "##11.3.5 Adam과 Nadam 최적화"
      ]
    },
    {
      "cell_type": "markdown",
      "metadata": {
        "id": "ZU5H78xH24NE"
      },
      "source": [
        "* 적응적 모멘트 추정(adaptive moment estimation)\n",
        " <br> Adam = 모멘텀 최적화 + RMSProp"
      ]
    },
    {
      "cell_type": "markdown",
      "metadata": {
        "id": "0wTQRXiQ3cOa"
      },
      "source": [
        "* Adam 알고리즘\n",
        "1. $m ← \\beta_1 m + (1-\\beta_1)\\nabla_ {\\theta} J(\\theta)$\n",
        "2. $s ← \\beta_2s + (1-\\beta_2s)\\nabla_ {\\theta} J(\\theta) \\otimes\\nabla_{\\theta} J(\\theta)$\n",
        "3. $\\hat m ← \\frac{m}{1-\\beta_1^t}$\n",
        "4. $\\hat s ← \\frac{s}{1-\\beta_2^t}$\n",
        "2. $\\theta ← \\theta + \\eta \\hat m \\oslash \\sqrt{\\hat s+\\epsilon}$\n",
        "> $t$ : 반복 횟수$(1,2,\\dots)$"
      ]
    },
    {
      "cell_type": "markdown",
      "metadata": {
        "id": "JnJL7CW8-K3w"
      },
      "source": [
        "NOTE\n",
        "*  모멘텀 감쇠 하이퍼파라미터 $\\beta_1$은 보통 0.9로 초기화\n",
        "* 스케일 감쇠 하이퍼파라미터 $\\beta_2$는 보통 0.999로 초기화\n",
        "* $\\epsilon$은 보통 $10^{-8}$로 초기화(책에는 -7, 논문에는 -8)"
      ]
    },
    {
      "cell_type": "markdown",
      "metadata": {
        "id": "Gt5OEKvP6vCC"
      },
      "source": [
        "\n",
        "위의 3번과 4번은 훈련 초기에 $m$과 $s$의 값을 증폭시키는데 도움을 준다.\n",
        "<br> $m$과 $s$가 0부터 시작하기 때문에 $\\beta_1 m$과 $\\beta_2 s$가 반복 초기에 크게 기여를 하지 못한다.\n",
        "<br> 이를 보상해주기 위해 반복 초기에 $m$과 $s$를 증폭시켜주지만 반복이 계속 진행되면 3,4번의 분모가 1에 가까워져 거의 증폭되지 않는다."
      ]
    },
    {
      "cell_type": "markdown",
      "metadata": {
        "id": "dP4RUjTiAFHs"
      },
      "source": [
        "Adam은 AdaGrad, RMSProp처럼 적응적 학습률 알고리즘이라서 $\\eta$를 튜닝할 필요가 적다. => 기본값 0.001사용"
      ]
    },
    {
      "cell_type": "code",
      "metadata": {
        "id": "jrKnlxto2Mlv",
        "colab": {
          "base_uri": "https://localhost:8080/"
        },
        "outputId": "037b172c-480c-4e5c-c0d2-be18df562c34"
      },
      "source": [
        "# 케라스에서 adam 옵티마이저 사용하는법\n",
        "optimizer = keras.optimizers.Adam(lr=0.001, beta_1=0.9, beta_2=0.999)"
      ],
      "execution_count": null,
      "outputs": [
        {
          "output_type": "stream",
          "name": "stderr",
          "text": [
            "/usr/local/lib/python3.7/dist-packages/keras/optimizer_v2/optimizer_v2.py:356: UserWarning: The `lr` argument is deprecated, use `learning_rate` instead.\n",
            "  \"The `lr` argument is deprecated, use `learning_rate` instead.\")\n"
          ]
        }
      ]
    },
    {
      "cell_type": "markdown",
      "metadata": {
        "id": "y8NuCNRAAh4m"
      },
      "source": [
        "Adam의 두가지 변종\n",
        "1. AdaMax\n",
        "2. Nadam"
      ]
    },
    {
      "cell_type": "markdown",
      "metadata": {
        "id": "ExerqakKBX95"
      },
      "source": [
        "* AdaMax 알고리즘\n",
        "<br> Adam 알고리즘 5단계에서 $s$의 제곱근으로 파라미터 업데이트의 스케일을 낮춘다.\n",
        "<br>즉, 감쇠된 그레이디언트의 $l_2$ 노름(제곱 합의 제곱근)으로 파라미터 업데이트의 스케일을 낮춘다.\n",
        "<br> AdaMax에서는 $l_{2}$노름을 $l_{\\infty}$노름으로 바꾸고 감쇠된 그레이디언트의 최대값으로 파라미터 업데이트의 스케일을 낮춘다.\n",
        "1. $m ← \\beta_1 m + (1-\\beta_1)\\nabla_ {\\theta} J(\\theta)$\n",
        "2. $s ← $max$(\\beta_2s, \\nabla_ {\\theta} J(\\theta)$)\n",
        "3. $\\hat m ← \\frac{m}{1-\\beta_1^t}$\n",
        "2. $\\theta ← \\theta + \\eta \\hat m \\oslash \\sqrt{s+\\epsilon}$"
      ]
    },
    {
      "cell_type": "code",
      "metadata": {
        "id": "hqr_r2dlEHXN",
        "colab": {
          "base_uri": "https://localhost:8080/"
        },
        "outputId": "8531a619-9ec6-4284-9510-02df727718fd"
      },
      "source": [
        "optimizer = keras.optimizers.Adamax(lr=0.001, beta_1=0.9, beta_2=0.999)"
      ],
      "execution_count": null,
      "outputs": [
        {
          "output_type": "stream",
          "name": "stderr",
          "text": [
            "/usr/local/lib/python3.7/dist-packages/keras/optimizer_v2/optimizer_v2.py:356: UserWarning: The `lr` argument is deprecated, use `learning_rate` instead.\n",
            "  \"The `lr` argument is deprecated, use `learning_rate` instead.\")\n"
          ]
        }
      ]
    },
    {
      "cell_type": "markdown",
      "metadata": {
        "id": "1VLLIQDbDEXM"
      },
      "source": [
        "* Nadam\n",
        "<br> Nadam = Adam + NAG"
      ]
    },
    {
      "cell_type": "code",
      "metadata": {
        "id": "whViwTxT_7PC",
        "colab": {
          "base_uri": "https://localhost:8080/"
        },
        "outputId": "d7349ad2-b273-42c1-c9f4-0c8f609f58bd"
      },
      "source": [
        "optimizer = keras.optimizers.Nadam(lr=0.001, beta_1=0.9, beta_2=0.999)"
      ],
      "execution_count": null,
      "outputs": [
        {
          "output_type": "stream",
          "name": "stderr",
          "text": [
            "/usr/local/lib/python3.7/dist-packages/keras/optimizer_v2/optimizer_v2.py:356: UserWarning: The `lr` argument is deprecated, use `learning_rate` instead.\n",
            "  \"The `lr` argument is deprecated, use `learning_rate` instead.\")\n"
          ]
        }
      ]
    },
    {
      "cell_type": "markdown",
      "metadata": {
        "id": "dbqKMuIKEuwN"
      },
      "source": [
        "##11.3.6 학습률 스케줄링"
      ]
    },
    {
      "cell_type": "markdown",
      "metadata": {
        "id": "dKpZr7CMFTfg"
      },
      "source": [
        "큰 학습률로 시작해서 학습 속도가 느려지면 학습률을 낮추는 방법을 사용하면\n",
        "<br> 고정 학습률을 사용하는 방법보다 더 빨리 좋은 솔루션을 찾을 수 있다."
      ]
    },
    {
      "cell_type": "markdown",
      "metadata": {
        "id": "TPCC8e6yFIHb"
      },
      "source": [
        "* 학습 스케줄\n",
        "<br> 훈련하는 동안 학습률을 감소시키는 방법(5가지)"
      ]
    },
    {
      "cell_type": "markdown",
      "metadata": {
        "id": "zESahRaaF5XE"
      },
      "source": [
        "1. 거듭제곱 기반 스케줄링\n",
        "<br>$\\eta(t)=\\eta_0 / (1+t/s)^c$\n",
        "> $\\eta_0$ : 초기 학습률\n",
        "<br>$c$ : 거듭제곱 수 => 보통 1\n",
        "<br>$s$ : 스텝 횟수 => 하이퍼파라미터\n",
        "\n",
        "     => 처음에는 빠르게 감소하다가 점점 더 느리게 감소됨\n",
        "\n",
        "\n",
        "2. 지수 기반 스케줄링\n",
        "<br>$\\eta(t)=\\eta_0$ x $ 0.1^{t/s}$\n",
        "<br> => 학습률이 s번 스텝마다 10배씩 줄어듦\n",
        "\n",
        "\n",
        "3. 구간별 고정 스케줄링\n",
        "<br> => 일정 횟수의 에포크 동안 일정한 학습률을 사용하고, 또 다른 횟수의 에포크 동안 작은 학습률을 사용하는 방식\n",
        "\n",
        "\n",
        "4. 성능 기반 스케줄링\n",
        "<br> => 매 N 스텝마다 검증 오차를 측정하고 오차가 줄어들지 않으면 $\\lambda$배만큼 학습률을 감소시킴\n",
        "\n",
        "\n",
        "5. 1사이클 스케줄링\n",
        "<br> => 훈련 절반동안 초기 학습률을 선형적으로 $\\eta_1$까지 증가시킴\n",
        "<br> => 나머지 절반 동안 선형적으로 $\\eta_0$로 줄임\n",
        "<br> => 마지막 몇번은 학습률을 소수점 몇 째 자리까지 줄임\n",
        "<br> 즉, 최대 학습률 $\\eta_1$은 최적의 학습률을 찾을 때와 같은 방식으로 선택하고 초기 학습률 $\\eta_0$는 대략 10배 정도 낮은 값을 선택\n"
      ]
    },
    {
      "cell_type": "markdown",
      "metadata": {
        "id": "eKWbvCTwKUGo"
      },
      "source": [
        "#11.4 규제를 사용해 과대적합 피하기"
      ]
    },
    {
      "cell_type": "markdown",
      "metadata": {
        "id": "TfxvJYWdK0C8"
      },
      "source": [
        "규제 방법\n",
        "* 조기 종료\n",
        "* 배치 정규화\n",
        "* $l_1, l_2$ 규제\n",
        "* 드롭아웃(dropout)\n",
        "* 맥스-노름(max-norm)"
      ]
    },
    {
      "cell_type": "markdown",
      "metadata": {
        "id": "ze026OCMLF93"
      },
      "source": [
        "##11.4.1 $l_1$ 과 $l_2$ 규제"
      ]
    },
    {
      "cell_type": "markdown",
      "metadata": {
        "id": "qjHv48LgOUQK"
      },
      "source": [
        "$l_2$ 함수는 훈련하는 동안 규제 손실을 계산하기 위해 각 스텝에서 호출되는 규제 객체를 반환한다. \n",
        "<br>이 손실은 최종 손실에 합산된다."
      ]
    },
    {
      "cell_type": "code",
      "metadata": {
        "id": "ckrp0sWIEJjv"
      },
      "source": [
        "#l2 규제 적용하는 방법\n",
        "layer = keras.layers.Dense(100, activation=\"elu\",\n",
        "                           kernel_initializer=\"he_normal\",\n",
        "                           kernel_regularizer=keras.regularizers.l2(0.01))\n",
        "# or l1(0.1) for ℓ1 regularization with a factor or 0.1\n",
        "# or l1_l2(0.1, 0.01) for both ℓ1 and ℓ2 regularization, with factors 0.1 and 0.01 respectively"
      ],
      "execution_count": null,
      "outputs": []
    },
    {
      "cell_type": "code",
      "metadata": {
        "id": "RdBj4THHLQiU",
        "colab": {
          "base_uri": "https://localhost:8080/"
        },
        "outputId": "309b55bb-11c0-44ea-eec8-ac76220cdbb2"
      },
      "source": [
        "# 실제로 사용해보자\n",
        "model = keras.models.Sequential([\n",
        "    keras.layers.Flatten(input_shape=[28, 28]),\n",
        "    keras.layers.Dense(300, activation=\"elu\",\n",
        "                       kernel_initializer=\"he_normal\",\n",
        "                       kernel_regularizer=keras.regularizers.l2(0.01)),\n",
        "    keras.layers.Dense(100, activation=\"elu\",\n",
        "                       kernel_initializer=\"he_normal\",\n",
        "                       kernel_regularizer=keras.regularizers.l2(0.01)),\n",
        "    keras.layers.Dense(10, activation=\"softmax\",\n",
        "                       kernel_regularizer=keras.regularizers.l2(0.01))\n",
        "])\n",
        "model.compile(loss=\"sparse_categorical_crossentropy\", optimizer=\"nadam\", metrics=[\"accuracy\"])\n",
        "n_epochs = 2\n",
        "history = model.fit(X_train_scaled, y_train, epochs=n_epochs,\n",
        "                    validation_data=(X_valid_scaled, y_valid))"
      ],
      "execution_count": null,
      "outputs": [
        {
          "output_type": "stream",
          "name": "stdout",
          "text": [
            "Epoch 1/2\n",
            "1719/1719 [==============================] - 14s 7ms/step - loss: 1.6185 - accuracy: 0.8115 - val_loss: 0.7141 - val_accuracy: 0.8310\n",
            "Epoch 2/2\n",
            "1719/1719 [==============================] - 13s 7ms/step - loss: 0.7180 - accuracy: 0.8273 - val_loss: 0.6775 - val_accuracy: 0.8364\n"
          ]
        }
      ]
    },
    {
      "cell_type": "code",
      "metadata": {
        "id": "WVMCy_Q0LR0T",
        "colab": {
          "base_uri": "https://localhost:8080/"
        },
        "outputId": "eeb32809-65de-42a2-8f8c-60026476b3b4"
      },
      "source": [
        "# 코드 읽기 쉽고 버그 생기지 않게 functools.partial() 함수 사용\n",
        "from functools import partial\n",
        "\n",
        "RegularizedDense = partial(keras.layers.Dense,\n",
        "                           activation=\"elu\",\n",
        "                           kernel_initializer=\"he_normal\",\n",
        "                           kernel_regularizer=keras.regularizers.l2(0.01))\n",
        "\n",
        "model = keras.models.Sequential([\n",
        "    keras.layers.Flatten(input_shape=[28, 28]),\n",
        "    RegularizedDense(300),\n",
        "    RegularizedDense(100),\n",
        "    RegularizedDense(10, activation=\"softmax\")\n",
        "])\n",
        "model.compile(loss=\"sparse_categorical_crossentropy\", optimizer=\"nadam\", metrics=[\"accuracy\"])\n",
        "n_epochs = 2\n",
        "history = model.fit(X_train_scaled, y_train, epochs=n_epochs,\n",
        "                    validation_data=(X_valid_scaled, y_valid))"
      ],
      "execution_count": null,
      "outputs": [
        {
          "output_type": "stream",
          "name": "stdout",
          "text": [
            "Epoch 1/2\n",
            "1719/1719 [==============================] - 14s 8ms/step - loss: 1.6586 - accuracy: 0.8129 - val_loss: 0.7181 - val_accuracy: 0.8330\n",
            "Epoch 2/2\n",
            "1719/1719 [==============================] - 12s 7ms/step - loss: 0.7192 - accuracy: 0.8275 - val_loss: 0.6829 - val_accuracy: 0.8384\n"
          ]
        }
      ]
    },
    {
      "cell_type": "markdown",
      "metadata": {
        "id": "-3QsfxsJO3V0"
      },
      "source": [
        "##11.4.2 드롭아웃"
      ]
    },
    {
      "cell_type": "markdown",
      "metadata": {
        "id": "Uc6Qu1cdO6A8"
      },
      "source": [
        "드롭아웃은 심층 신경망에서 가장 인기 있는 규제 기법 중 하나이다."
      ]
    },
    {
      "cell_type": "markdown",
      "metadata": {
        "id": "Aety6ReAQM4I"
      },
      "source": [
        "* 드롭아웃\n",
        "<br> 매 훈련 스텝에서 각 뉴런(입력o, 출력x)은 임시적으로 드롭아웃될 확률 p를 가진다.\n",
        "<br> 이번 훈련 스텝에서는 무시되지만 다음 스텝에는 활성화 될 수 있다.\n",
        "<br> 훈련이 끝난 후에는 뉴런에 더이상 드롭아웃을 적용하지 않는다.\n",
        "\n",
        "=> 드롭아웃으로 훈련된 뉴런은 다른 뉴런들과 유연한 관계를 유지하기 때문에, 더 안정적인 네트워크가 되어 일반화 성능이 좋아짐."
      ]
    },
    {
      "cell_type": "code",
      "metadata": {
        "id": "TbUsYHRbMx_2",
        "colab": {
          "base_uri": "https://localhost:8080/"
        },
        "outputId": "5236228f-15f4-44a5-fa39-0d084358e1b6"
      },
      "source": [
        "model = keras.models.Sequential([\n",
        "    keras.layers.Flatten(input_shape=[28, 28]),\n",
        "    keras.layers.Dropout(rate=0.2),             # 각 층에 들어가기 전에 드롭아웃 적용\n",
        "    keras.layers.Dense(300, activation=\"elu\", kernel_initializer=\"he_normal\"),\n",
        "    keras.layers.Dropout(rate=0.2),\n",
        "    keras.layers.Dense(100, activation=\"elu\", kernel_initializer=\"he_normal\"),\n",
        "    keras.layers.Dropout(rate=0.2),\n",
        "    keras.layers.Dense(10, activation=\"softmax\")\n",
        "])\n",
        "model.compile(loss=\"sparse_categorical_crossentropy\", optimizer=\"nadam\", metrics=[\"accuracy\"])\n",
        "n_epochs = 2\n",
        "history = model.fit(X_train_scaled, y_train, epochs=n_epochs,\n",
        "                    validation_data=(X_valid_scaled, y_valid))"
      ],
      "execution_count": null,
      "outputs": [
        {
          "output_type": "stream",
          "name": "stdout",
          "text": [
            "Epoch 1/2\n",
            "1719/1719 [==============================] - 13s 7ms/step - loss: 0.5720 - accuracy: 0.8037 - val_loss: 0.3673 - val_accuracy: 0.8658\n",
            "Epoch 2/2\n",
            "1719/1719 [==============================] - 14s 8ms/step - loss: 0.4235 - accuracy: 0.8469 - val_loss: 0.3512 - val_accuracy: 0.8690\n"
          ]
        }
      ]
    },
    {
      "cell_type": "markdown",
      "metadata": {
        "id": "_Ux4JNDrTgHR"
      },
      "source": [
        "훈련할 때 임의의 뉴런을 골라 삭제하지만 테스트할 때는 모든 뉴런을 사용한다.\n"
      ]
    },
    {
      "cell_type": "markdown",
      "metadata": {
        "id": "OWEve6_pUAZe"
      },
      "source": [
        "* 모델이 과대적합 => 드롭아웃 비율↑\n",
        "* 모델이 과소적합 => 드롭아웃 비율↓\n",
        "* 층이 클 때 => 드롭아웃 비율↑\n",
        "* 층이 작을 때 => 드롭아웃 비율↓"
      ]
    },
    {
      "cell_type": "markdown",
      "metadata": {
        "id": "1V1t4KdgUc8Q"
      },
      "source": [
        "만약 SELU 활성화 함수를 기반으로 자기 정규화하는 네트워크를 규제하고 싶을 때 => 알파 드롭아웃 사용"
      ]
    },
    {
      "cell_type": "code",
      "metadata": {
        "id": "QtHM-I5dUurQ",
        "colab": {
          "base_uri": "https://localhost:8080/"
        },
        "outputId": "058ef522-3a32-4970-dff5-1da5540d1a86"
      },
      "source": [
        "# 알파 드롭아웃 규제(SELU와 함께)\n",
        "model = keras.models.Sequential([\n",
        "    keras.layers.Flatten(input_shape=[28, 28]),\n",
        "    keras.layers.AlphaDropout(rate=0.2),\n",
        "    keras.layers.Dense(300, activation=\"selu\", kernel_initializer=\"lecun_normal\"),\n",
        "    keras.layers.AlphaDropout(rate=0.2),\n",
        "    keras.layers.Dense(100, activation=\"selu\", kernel_initializer=\"lecun_normal\"),\n",
        "    keras.layers.AlphaDropout(rate=0.2),\n",
        "    keras.layers.Dense(10, activation=\"softmax\")\n",
        "])\n",
        "optimizer = keras.optimizers.SGD(lr=0.01, momentum=0.9, nesterov=True)\n",
        "model.compile(loss=\"sparse_categorical_crossentropy\", optimizer=optimizer, metrics=[\"accuracy\"])\n",
        "n_epochs = 20\n",
        "history = model.fit(X_train_scaled, y_train, epochs=n_epochs,\n",
        "                    validation_data=(X_valid_scaled, y_valid))"
      ],
      "execution_count": null,
      "outputs": [
        {
          "output_type": "stream",
          "name": "stderr",
          "text": [
            "/usr/local/lib/python3.7/dist-packages/keras/optimizer_v2/optimizer_v2.py:356: UserWarning: The `lr` argument is deprecated, use `learning_rate` instead.\n",
            "  \"The `lr` argument is deprecated, use `learning_rate` instead.\")\n"
          ]
        },
        {
          "output_type": "stream",
          "name": "stdout",
          "text": [
            "Epoch 1/20\n",
            "1719/1719 [==============================] - 8s 5ms/step - loss: 0.6656 - accuracy: 0.7591 - val_loss: 0.5716 - val_accuracy: 0.8498\n",
            "Epoch 2/20\n",
            "1719/1719 [==============================] - 8s 5ms/step - loss: 0.5548 - accuracy: 0.7978 - val_loss: 0.5485 - val_accuracy: 0.8482\n",
            "Epoch 3/20\n",
            "1719/1719 [==============================] - 7s 4ms/step - loss: 0.5223 - accuracy: 0.8057 - val_loss: 0.4801 - val_accuracy: 0.8612\n",
            "Epoch 4/20\n",
            "1719/1719 [==============================] - 8s 5ms/step - loss: 0.5073 - accuracy: 0.8127 - val_loss: 0.4883 - val_accuracy: 0.8558\n",
            "Epoch 5/20\n",
            "1719/1719 [==============================] - 10s 6ms/step - loss: 0.4905 - accuracy: 0.8193 - val_loss: 0.4383 - val_accuracy: 0.8634\n",
            "Epoch 6/20\n",
            "1719/1719 [==============================] - 8s 5ms/step - loss: 0.4834 - accuracy: 0.8204 - val_loss: 0.4456 - val_accuracy: 0.8626\n",
            "Epoch 7/20\n",
            "1719/1719 [==============================] - 7s 4ms/step - loss: 0.4718 - accuracy: 0.8227 - val_loss: 0.4834 - val_accuracy: 0.8564\n",
            "Epoch 8/20\n",
            "1719/1719 [==============================] - 8s 4ms/step - loss: 0.4650 - accuracy: 0.8275 - val_loss: 0.4584 - val_accuracy: 0.8596\n",
            "Epoch 9/20\n",
            "1719/1719 [==============================] - 8s 5ms/step - loss: 0.4618 - accuracy: 0.8283 - val_loss: 0.4442 - val_accuracy: 0.8666\n",
            "Epoch 10/20\n",
            "1719/1719 [==============================] - 8s 5ms/step - loss: 0.4541 - accuracy: 0.8324 - val_loss: 0.4610 - val_accuracy: 0.8592\n",
            "Epoch 11/20\n",
            "1719/1719 [==============================] - 8s 5ms/step - loss: 0.4483 - accuracy: 0.8345 - val_loss: 0.4113 - val_accuracy: 0.8708\n",
            "Epoch 12/20\n",
            "1719/1719 [==============================] - 8s 5ms/step - loss: 0.4448 - accuracy: 0.8361 - val_loss: 0.5750 - val_accuracy: 0.8500\n",
            "Epoch 13/20\n",
            "1719/1719 [==============================] - 8s 5ms/step - loss: 0.4401 - accuracy: 0.8350 - val_loss: 0.4136 - val_accuracy: 0.8800\n",
            "Epoch 14/20\n",
            "1719/1719 [==============================] - 9s 5ms/step - loss: 0.4357 - accuracy: 0.8388 - val_loss: 0.4485 - val_accuracy: 0.8714\n",
            "Epoch 15/20\n",
            "1719/1719 [==============================] - 9s 5ms/step - loss: 0.4318 - accuracy: 0.8397 - val_loss: 0.4173 - val_accuracy: 0.8702\n",
            "Epoch 16/20\n",
            "1719/1719 [==============================] - 8s 5ms/step - loss: 0.4289 - accuracy: 0.8414 - val_loss: 0.4115 - val_accuracy: 0.8760\n",
            "Epoch 17/20\n",
            "1719/1719 [==============================] - 7s 4ms/step - loss: 0.4276 - accuracy: 0.8410 - val_loss: 0.5156 - val_accuracy: 0.8634\n",
            "Epoch 18/20\n",
            "1719/1719 [==============================] - 7s 4ms/step - loss: 0.4287 - accuracy: 0.8386 - val_loss: 0.4734 - val_accuracy: 0.8704\n",
            "Epoch 19/20\n",
            "1719/1719 [==============================] - 8s 4ms/step - loss: 0.4241 - accuracy: 0.8429 - val_loss: 0.4490 - val_accuracy: 0.8802\n",
            "Epoch 20/20\n",
            "1719/1719 [==============================] - 7s 4ms/step - loss: 0.4148 - accuracy: 0.8457 - val_loss: 0.4099 - val_accuracy: 0.8790\n"
          ]
        }
      ]
    },
    {
      "cell_type": "markdown",
      "metadata": {
        "id": "ygSrn0bHPIxO"
      },
      "source": [
        "##11.4.3 몬테 카를로 드롭아웃"
      ]
    },
    {
      "cell_type": "code",
      "metadata": {
        "id": "GklBVQZ2PH7o"
      },
      "source": [
        "tf.random.set_seed(42)\n",
        "np.random.seed(42)"
      ],
      "execution_count": null,
      "outputs": []
    },
    {
      "cell_type": "code",
      "metadata": {
        "id": "DsOt9cGxPPPA"
      },
      "source": [
        "y_probas = np.stack([model(X_test_scaled, training=True)\n",
        "                     for sample in range(100)])     # 테스트 세트에서 100번의 예측을 만들어서 스택에 쌓음\n",
        "y_proba = y_probas.mean(axis=0)\n",
        "y_std = y_probas.std(axis=0)"
      ],
      "execution_count": null,
      "outputs": []
    },
    {
      "cell_type": "code",
      "metadata": {
        "id": "0_3FGXkJPQqB",
        "colab": {
          "base_uri": "https://localhost:8080/"
        },
        "outputId": "82f24ad0-f889-45bb-c98e-7b5bf7a9b6b3"
      },
      "source": [
        "# 패션 MNIST 테스트 세트에 있는 첫번째 샘플의 모델 예측(드롭아웃 적용X)\n",
        "np.round(model.predict(X_test_scaled[:1]), 2)   # 클래스 9에 속한다고 예측"
      ],
      "execution_count": null,
      "outputs": [
        {
          "output_type": "execute_result",
          "data": {
            "text/plain": [
              "array([[0., 0., 0., 0., 0., 0., 0., 0., 0., 1.]], dtype=float32)"
            ]
          },
          "metadata": {},
          "execution_count": 66
        }
      ]
    },
    {
      "cell_type": "code",
      "metadata": {
        "id": "Tz-EQ2ubPSHq"
      },
      "source": [
        "# 드롭아웃 적용하고 만든 예측\n",
        "np.round(y_probas[:, :1], 2)    # 클래스9를 선호하지만 클래스 5,7로도 생각함"
      ],
      "execution_count": null,
      "outputs": []
    },
    {
      "cell_type": "code",
      "metadata": {
        "id": "iYdqz1UnPTge",
        "colab": {
          "base_uri": "https://localhost:8080/"
        },
        "outputId": "525bd46c-a207-4108-a346-fecda9b59347"
      },
      "source": [
        "# 첫번째 차원으로 평균내기\n",
        "np.round(y_proba[:1], 2)    # 아까보다 덜 확실하게 클래스9로 예측  "
      ],
      "execution_count": null,
      "outputs": [
        {
          "output_type": "execute_result",
          "data": {
            "text/plain": [
              "array([[0.  , 0.  , 0.  , 0.  , 0.  , 0.12, 0.  , 0.22, 0.  , 0.66]],\n",
              "      dtype=float32)"
            ]
          },
          "metadata": {},
          "execution_count": 68
        }
      ]
    },
    {
      "cell_type": "code",
      "metadata": {
        "id": "RSYYuESuPVk7",
        "colab": {
          "base_uri": "https://localhost:8080/"
        },
        "outputId": "e5750b6b-91b6-4c83-9a78-f4d287af8ad2"
      },
      "source": [
        "# 위의 확률 추정의 표준분포\n",
        "y_std = y_probas.std(axis=0)\n",
        "np.round(y_std[:1], 2)      # 예측이 불확실함"
      ],
      "execution_count": null,
      "outputs": [
        {
          "output_type": "execute_result",
          "data": {
            "text/plain": [
              "array([[0.  , 0.  , 0.  , 0.01, 0.  , 0.21, 0.  , 0.22, 0.  , 0.29]],\n",
              "      dtype=float32)"
            ]
          },
          "metadata": {},
          "execution_count": 69
        }
      ]
    },
    {
      "cell_type": "code",
      "metadata": {
        "id": "TKmyIK9DPWy8"
      },
      "source": [
        "y_pred = np.argmax(y_proba, axis=1)"
      ],
      "execution_count": null,
      "outputs": []
    },
    {
      "cell_type": "code",
      "metadata": {
        "id": "fkMeSsKVPY-M",
        "colab": {
          "base_uri": "https://localhost:8080/"
        },
        "outputId": "31b0ce7e-ea0d-4f8c-d804-13acb4bfad33"
      },
      "source": [
        "# 모델의 정확도\n",
        "accuracy = np.sum(y_pred == y_test) / len(y_test)\n",
        "accuracy"
      ],
      "execution_count": null,
      "outputs": [
        {
          "output_type": "execute_result",
          "data": {
            "text/plain": [
              "0.8641"
            ]
          },
          "metadata": {},
          "execution_count": 71
        }
      ]
    },
    {
      "cell_type": "markdown",
      "metadata": {
        "id": "N_T0bnW2YpXh"
      },
      "source": [
        "배치 정규화 층처럼 모델이 훈련하는 동안 다르게 작동하는 층이 있다면 훈련 모드를 강제로 설정해서는 안된다.\n",
        "<br> 이러한 층이 있을 경우에는 드롭아웃 층을 아래와 같은 MCDropout 클래스로 바꿔주면 된다."
      ]
    },
    {
      "cell_type": "code",
      "metadata": {
        "id": "Piqpf_PdPaUS"
      },
      "source": [
        "class MCDropout(keras.layers.Dropout):\n",
        "    def call(self, inputs):                             \n",
        "        return super().call(inputs, training=True)      # 드롭아웃 층을 상속하고 call() 메서드로 훈련모드 강제 설정\n",
        "\n",
        "class MCAlphaDropout(keras.layers.AlphaDropout):\n",
        "    def call(self, inputs):\n",
        "        return super().call(inputs, training=True)"
      ],
      "execution_count": null,
      "outputs": []
    },
    {
      "cell_type": "markdown",
      "metadata": {
        "id": "VtEBoRCXPkKl"
      },
      "source": [
        "##11.4.4 맥스 노름"
      ]
    },
    {
      "cell_type": "markdown",
      "metadata": {
        "id": "9cR3gyeMbQTn"
      },
      "source": [
        "각각의 뉴런에 대해, 입력의 연결 가중치 $w$가 $\\parallel w \\parallel_2$ $ \\leq r$되도록 제한<br>($r$ : 맥스-노름 하이퍼파라미터)"
      ]
    },
    {
      "cell_type": "markdown",
      "metadata": {
        "id": "7xdohdjLcEzk"
      },
      "source": [
        "이 규제는 전체 손실 함수에 규제 손실 항을 추가하지 않지만,<br> 매 훈련 스텝이 끝나고 $\\parallel w \\parallel_2$ 을 계산하고 필요할 경우 스케일을 조정한다. ($w ← w \\frac{r}{\\parallel w \\parallel_2}$)"
      ]
    },
    {
      "cell_type": "code",
      "metadata": {
        "id": "AXSnP_0bPjRr"
      },
      "source": [
        "layer = keras.layers.Dense(100, activation=\"selu\", kernel_initializer=\"lecun_normal\",\n",
        "                           kernel_constraint=keras.constraints.max_norm(1.))"
      ],
      "execution_count": null,
      "outputs": []
    },
    {
      "cell_type": "code",
      "metadata": {
        "id": "ciQoFe5gPoWE",
        "colab": {
          "base_uri": "https://localhost:8080/"
        },
        "outputId": "4ea138ba-a5c7-4c56-b60c-865a5d984d05"
      },
      "source": [
        "MaxNormDense = partial(keras.layers.Dense,\n",
        "                       activation=\"selu\", kernel_initializer=\"lecun_normal\",\n",
        "                       kernel_constraint=keras.constraints.max_norm(1.))\n",
        "\n",
        "model = keras.models.Sequential([\n",
        "    keras.layers.Flatten(input_shape=[28, 28]),\n",
        "    MaxNormDense(300),\n",
        "    MaxNormDense(100),\n",
        "    keras.layers.Dense(10, activation=\"softmax\")\n",
        "])\n",
        "model.compile(loss=\"sparse_categorical_crossentropy\", optimizer=\"nadam\", metrics=[\"accuracy\"])\n",
        "n_epochs = 2\n",
        "history = model.fit(X_train_scaled, y_train, epochs=n_epochs,       # 매 훈련 반복이 끝난 후, 층의 가중치와 max_norm()이 반환한 객체를 호출하고\n",
        "                                                                    # 스케일이 조정된 가중치를 반환 받음.\n",
        "                    validation_data=(X_valid_scaled, y_valid))"
      ],
      "execution_count": null,
      "outputs": [
        {
          "output_type": "stream",
          "name": "stdout",
          "text": [
            "Epoch 1/2\n",
            "1719/1719 [==============================] - 13s 7ms/step - loss: 0.4741 - accuracy: 0.8329 - val_loss: 0.3758 - val_accuracy: 0.8650\n",
            "Epoch 2/2\n",
            "1719/1719 [==============================] - 12s 7ms/step - loss: 0.3549 - accuracy: 0.8720 - val_loss: 0.3717 - val_accuracy: 0.8718\n"
          ]
        }
      ]
    },
    {
      "cell_type": "code",
      "metadata": {
        "id": "bkT19-HpPpey"
      },
      "source": [
        ""
      ],
      "execution_count": null,
      "outputs": []
    }
  ]
}